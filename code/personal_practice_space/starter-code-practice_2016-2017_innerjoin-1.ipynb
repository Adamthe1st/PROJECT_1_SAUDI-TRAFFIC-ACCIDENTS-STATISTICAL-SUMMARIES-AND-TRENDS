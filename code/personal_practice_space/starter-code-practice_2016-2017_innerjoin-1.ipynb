{
 "cells": [
  {
   "cell_type": "markdown",
   "metadata": {},
   "source": [
    "# Project 1: Driving Licenses, Traffic Accidents and Casualties Analysis"
   ]
  },
  {
   "cell_type": "markdown",
   "metadata": {},
   "source": [
    "## Problem Statment\n",
    "\n",
    "Craft your problem statement here using the prompt from the README and other sources you find during your investigation."
   ]
  },
  {
   "cell_type": "markdown",
   "metadata": {},
   "source": []
  },
  {
   "cell_type": "markdown",
   "metadata": {},
   "source": [
    "## Executive Summary\n",
    "Write an executive summary that summarizes the problem and your key findings."
   ]
  },
  {
   "cell_type": "markdown",
   "metadata": {},
   "source": []
  },
  {
   "cell_type": "markdown",
   "metadata": {},
   "source": [
    "### Contents:\n",
    "- [Datasets Description](#Datasets-Description)\n",
    "- [Data Import & Cleaning](#Data-Import-and-Cleaning)\n",
    "- [Exploratory Data Analysis](#Exploratory-Data-Analysis)\n",
    "- [Data Visualization](#Visualize-the-data)\n",
    "- [Descriptive and Inferential Statistics](#Descriptive-and-Inferential-Statistics)\n",
    "- [Outside Research](#Outside-Research)\n",
    "- [Conclusions and Recommendations](#Conclusions-and-Recommendations)"
   ]
  },
  {
   "cell_type": "markdown",
   "metadata": {},
   "source": [
    "**If you combine your problem statement, executive summary, data dictionary, and conclusions/recommendations, you have an amazing README.md file that quickly aligns your audience to the contents of your project.** Don't forget to cite your data sources!"
   ]
  },
  {
   "cell_type": "markdown",
   "metadata": {},
   "source": [
    "*All libraries used should be added here, including any Jupyter magic commands*"
   ]
  },
  {
   "cell_type": "code",
   "execution_count": 1,
   "metadata": {},
   "outputs": [],
   "source": [
    "# library imports\n",
    " \n",
    "import numpy as np\n",
    "import pandas as pd\n",
    "import matplotlib.pyplot as plt\n",
    "import seaborn as sns\n",
    "sns.set_style('whitegrid')\n",
    "%matplotlib inline\n",
    "\n",
    "#Setting display format to retina in matplotlib for better quality images.\n",
    "from IPython.display import set_matplotlib_formats\n",
    "set_matplotlib_formats('retina')"
   ]
  },
  {
   "cell_type": "code",
   "execution_count": 2,
   "metadata": {},
   "outputs": [],
   "source": [
    "# df.head() # show first 5 rows\n",
    "# df.tail() # last 5 rows\n",
    "# df.columns # list all column names\n",
    "# df.shape # get number of rows and columns\n",
    "# df.info() # additional info about dataframe\n",
    "# df.describe() # statistical description, only for numeric values\n",
    "# df['col_name'].value_counts(dropna=False) # count unique values in a column"
   ]
  },
  {
   "cell_type": "markdown",
   "metadata": {},
   "source": [
    "## Datasets Description\n",
    "\n",
    "[Driving Licenses](https://datasource.kapsarc.org/explore/dataset/saudi-arabia-driving-licenses-issued-in-the-kingdom-2004-2008/information/?disjunctive.administritive_area&sort=time_period&location=5,24.37495,45.08024&basemap=jawg.streets)\n",
    "This dataset contains Saudi Arabia Driving Licenses Issued By Administrative Area for 1993 - 2016. Data from General Authority for Statistics . Follow datasource.kapsarc.org for timely data to advance energy economics research.\n",
    "\n",
    "[Traffic Accidents and Casualties](https://datasource.kapsarc.org/explore/dataset/saudi-arabia-traffic-accidents-and-casualties-injured-dead-2008/export/?disjunctive.region&disjunctive.indicator&sort=time_period)\n",
    "This dataset contains Saudi Arabia Traffic Accidents and Casualties by Region for 2016. Data from General Authority for Statistics. Follow datasource.kapsarc.org for timely data to advance energy economics research.\n"
   ]
  },
  {
   "cell_type": "markdown",
   "metadata": {},
   "source": [
    "## Data Import and Cleaning"
   ]
  },
  {
   "cell_type": "markdown",
   "metadata": {},
   "source": [
    "#### 1. Read In Driving Licenses & Traffic Accidents Data\n",
    "Read in the `saudi-arabia-traffic-accidents-2008.csv` and `saudi-arabia-driving-licenses-2004-2008.csv` files and assign them to appropriately named pandas dataframes."
   ]
  },
  {
   "cell_type": "code",
   "execution_count": 3,
   "metadata": {},
   "outputs": [],
   "source": [
    "#Code\n",
    "\n",
    "accidents_df = pd.read_csv('../data/saudi-arabia-traffic-accidents-2008.csv',sep=';')\n",
    "\n",
    "licenses_df = pd.read_csv('../data/saudi-arabia-driving-licenses-2004-2008.csv',sep = ';')"
   ]
  },
  {
   "cell_type": "code",
   "execution_count": 4,
   "metadata": {},
   "outputs": [
    {
     "name": "stdout",
     "output_type": "stream",
     "text": [
      "(84, 7)\n",
      "(350, 5)\n"
     ]
    }
   ],
   "source": [
    "# delete \n",
    "print(accidents_df.shape) \n",
    "#\n",
    "print(licenses_df.shape) "
   ]
  },
  {
   "cell_type": "markdown",
   "metadata": {},
   "source": [
    "#### 2. Display data\n",
    "\n",
    "Print the first 10 rows of each dataframe to your jupyter notebook"
   ]
  },
  {
   "cell_type": "code",
   "execution_count": 5,
   "metadata": {
    "scrolled": false
   },
   "outputs": [
    {
     "data": {
      "text/html": [
       "<div>\n",
       "<style scoped>\n",
       "    .dataframe tbody tr th:only-of-type {\n",
       "        vertical-align: middle;\n",
       "    }\n",
       "\n",
       "    .dataframe tbody tr th {\n",
       "        vertical-align: top;\n",
       "    }\n",
       "\n",
       "    .dataframe thead th {\n",
       "        text-align: right;\n",
       "    }\n",
       "</style>\n",
       "<table border=\"1\" class=\"dataframe\">\n",
       "  <thead>\n",
       "    <tr style=\"text-align: right;\">\n",
       "      <th></th>\n",
       "      <th>Unnamed: 0</th>\n",
       "      <th>Unnamed: 0.1</th>\n",
       "      <th>Year</th>\n",
       "      <th>Region</th>\n",
       "      <th>Indicator</th>\n",
       "      <th>Value</th>\n",
       "      <th>geo_point_2d</th>\n",
       "    </tr>\n",
       "  </thead>\n",
       "  <tbody>\n",
       "    <tr>\n",
       "      <th>0</th>\n",
       "      <td>0</td>\n",
       "      <td>0</td>\n",
       "      <td>(2016)</td>\n",
       "      <td>Makkah</td>\n",
       "      <td>No. of Casualties - Injured</td>\n",
       "      <td>12383n</td>\n",
       "      <td>21.628962766, 41.2636898334</td>\n",
       "    </tr>\n",
       "    <tr>\n",
       "      <th>1</th>\n",
       "      <td>1</td>\n",
       "      <td>1</td>\n",
       "      <td>(2016)</td>\n",
       "      <td>Eastern Region</td>\n",
       "      <td>No. of Casualties - Dead</td>\n",
       "      <td>1113n</td>\n",
       "      <td>23.2883307307, 50.1478302439</td>\n",
       "    </tr>\n",
       "    <tr>\n",
       "      <th>2</th>\n",
       "      <td>2</td>\n",
       "      <td>2</td>\n",
       "      <td>(2016)</td>\n",
       "      <td>Tabouk</td>\n",
       "      <td>No. of Casualties - Dead</td>\n",
       "      <td>434n</td>\n",
       "      <td>27.90165499, 37.2598581394</td>\n",
       "    </tr>\n",
       "    <tr>\n",
       "      <th>3</th>\n",
       "      <td>3</td>\n",
       "      <td>3</td>\n",
       "      <td>(2016)</td>\n",
       "      <td>Hail</td>\n",
       "      <td>No. of Casualties - Dead</td>\n",
       "      <td>299n</td>\n",
       "      <td>27.400845724, 41.4406960508</td>\n",
       "    </tr>\n",
       "    <tr>\n",
       "      <th>4</th>\n",
       "      <td>4</td>\n",
       "      <td>4</td>\n",
       "      <td>(2016)</td>\n",
       "      <td>Hail</td>\n",
       "      <td>No. of Accidents</td>\n",
       "      <td>10199n</td>\n",
       "      <td>27.400845724, 41.4406960508</td>\n",
       "    </tr>\n",
       "    <tr>\n",
       "      <th>5</th>\n",
       "      <td>5</td>\n",
       "      <td>5</td>\n",
       "      <td>(2016)</td>\n",
       "      <td>Northern Boarder</td>\n",
       "      <td>No. of Casualties - Dead</td>\n",
       "      <td>193n</td>\n",
       "      <td>30.197074783, 41.8171186952</td>\n",
       "    </tr>\n",
       "    <tr>\n",
       "      <th>6</th>\n",
       "      <td>6</td>\n",
       "      <td>6</td>\n",
       "      <td>(2017)</td>\n",
       "      <td>Jazan</td>\n",
       "      <td>No. of Accidents</td>\n",
       "      <td>22161n</td>\n",
       "      <td>17.2072313962, 42.6525807422</td>\n",
       "    </tr>\n",
       "    <tr>\n",
       "      <th>7</th>\n",
       "      <td>7</td>\n",
       "      <td>7</td>\n",
       "      <td>(2017)</td>\n",
       "      <td>Al-Jouf</td>\n",
       "      <td>No. of Accidents</td>\n",
       "      <td>10469n</td>\n",
       "      <td>29.9677445762, 39.5570371172</td>\n",
       "    </tr>\n",
       "    <tr>\n",
       "      <th>8</th>\n",
       "      <td>8</td>\n",
       "      <td>8</td>\n",
       "      <td>(2017)</td>\n",
       "      <td>Total</td>\n",
       "      <td>No. of Casualties - Dead</td>\n",
       "      <td>7489n</td>\n",
       "      <td>NaN</td>\n",
       "    </tr>\n",
       "    <tr>\n",
       "      <th>9</th>\n",
       "      <td>9</td>\n",
       "      <td>9</td>\n",
       "      <td>(2016)</td>\n",
       "      <td>Northern Boarder</td>\n",
       "      <td>No. of Casualties - Injured</td>\n",
       "      <td>631n</td>\n",
       "      <td>30.197074783, 41.8171186952</td>\n",
       "    </tr>\n",
       "  </tbody>\n",
       "</table>\n",
       "</div>"
      ],
      "text/plain": [
       "   Unnamed: 0  Unnamed: 0.1    Year            Region  \\\n",
       "0           0             0  (2016)            Makkah   \n",
       "1           1             1  (2016)    Eastern Region   \n",
       "2           2             2  (2016)            Tabouk   \n",
       "3           3             3  (2016)              Hail   \n",
       "4           4             4  (2016)              Hail   \n",
       "5           5             5  (2016)  Northern Boarder   \n",
       "6           6             6  (2017)             Jazan   \n",
       "7           7             7  (2017)           Al-Jouf   \n",
       "8           8             8  (2017)             Total   \n",
       "9           9             9  (2016)  Northern Boarder   \n",
       "\n",
       "                     Indicator   Value                  geo_point_2d  \n",
       "0  No. of Casualties - Injured  12383n   21.628962766, 41.2636898334  \n",
       "1     No. of Casualties - Dead   1113n  23.2883307307, 50.1478302439  \n",
       "2     No. of Casualties - Dead    434n    27.90165499, 37.2598581394  \n",
       "3     No. of Casualties - Dead    299n   27.400845724, 41.4406960508  \n",
       "4             No. of Accidents  10199n   27.400845724, 41.4406960508  \n",
       "5     No. of Casualties - Dead    193n   30.197074783, 41.8171186952  \n",
       "6             No. of Accidents  22161n  17.2072313962, 42.6525807422  \n",
       "7             No. of Accidents  10469n  29.9677445762, 39.5570371172  \n",
       "8     No. of Casualties - Dead   7489n                           NaN  \n",
       "9  No. of Casualties - Injured    631n   30.197074783, 41.8171186952  "
      ]
     },
     "execution_count": 5,
     "metadata": {},
     "output_type": "execute_result"
    }
   ],
   "source": [
    "#Code\n",
    "\n",
    "accidents_df.head(10)"
   ]
  },
  {
   "cell_type": "code",
   "execution_count": 6,
   "metadata": {},
   "outputs": [
    {
     "data": {
      "text/html": [
       "<div>\n",
       "<style scoped>\n",
       "    .dataframe tbody tr th:only-of-type {\n",
       "        vertical-align: middle;\n",
       "    }\n",
       "\n",
       "    .dataframe tbody tr th {\n",
       "        vertical-align: top;\n",
       "    }\n",
       "\n",
       "    .dataframe thead th {\n",
       "        text-align: right;\n",
       "    }\n",
       "</style>\n",
       "<table border=\"1\" class=\"dataframe\">\n",
       "  <thead>\n",
       "    <tr style=\"text-align: right;\">\n",
       "      <th></th>\n",
       "      <th>Unnamed: 0</th>\n",
       "      <th>Year</th>\n",
       "      <th>Administritive Area</th>\n",
       "      <th>Driving Liceses</th>\n",
       "      <th>geo_point_2d</th>\n",
       "    </tr>\n",
       "  </thead>\n",
       "  <tbody>\n",
       "    <tr>\n",
       "      <th>0</th>\n",
       "      <td>0</td>\n",
       "      <td>(2012)</td>\n",
       "      <td>Makkah</td>\n",
       "      <td>143954n</td>\n",
       "      <td>21.628962766, 41.2636898334</td>\n",
       "    </tr>\n",
       "    <tr>\n",
       "      <th>1</th>\n",
       "      <td>1</td>\n",
       "      <td>(1994)</td>\n",
       "      <td>Makkah</td>\n",
       "      <td>75349n</td>\n",
       "      <td>21.628962766, 41.2636898334</td>\n",
       "    </tr>\n",
       "    <tr>\n",
       "      <th>2</th>\n",
       "      <td>2</td>\n",
       "      <td>(1998)</td>\n",
       "      <td>Makkah</td>\n",
       "      <td>86082n</td>\n",
       "      <td>21.628962766, 41.2636898334</td>\n",
       "    </tr>\n",
       "    <tr>\n",
       "      <th>3</th>\n",
       "      <td>3</td>\n",
       "      <td>(2004)</td>\n",
       "      <td>Makkah</td>\n",
       "      <td>86636n</td>\n",
       "      <td>21.628962766, 41.2636898334</td>\n",
       "    </tr>\n",
       "    <tr>\n",
       "      <th>4</th>\n",
       "      <td>4</td>\n",
       "      <td>(2005)</td>\n",
       "      <td>Makkah</td>\n",
       "      <td>65099n</td>\n",
       "      <td>21.628962766, 41.2636898334</td>\n",
       "    </tr>\n",
       "    <tr>\n",
       "      <th>5</th>\n",
       "      <td>5</td>\n",
       "      <td>(2008)</td>\n",
       "      <td>Makkah</td>\n",
       "      <td>77013n</td>\n",
       "      <td>21.628962766, 41.2636898334</td>\n",
       "    </tr>\n",
       "    <tr>\n",
       "      <th>6</th>\n",
       "      <td>6</td>\n",
       "      <td>(2014)</td>\n",
       "      <td>Madinah</td>\n",
       "      <td>31447n</td>\n",
       "      <td>24.927534539, 39.4918237173</td>\n",
       "    </tr>\n",
       "    <tr>\n",
       "      <th>7</th>\n",
       "      <td>7</td>\n",
       "      <td>(2013)</td>\n",
       "      <td>Madinah</td>\n",
       "      <td>28513n</td>\n",
       "      <td>24.927534539, 39.4918237173</td>\n",
       "    </tr>\n",
       "    <tr>\n",
       "      <th>8</th>\n",
       "      <td>8</td>\n",
       "      <td>(2012)</td>\n",
       "      <td>Madinah</td>\n",
       "      <td>14459n</td>\n",
       "      <td>24.927534539, 39.4918237173</td>\n",
       "    </tr>\n",
       "    <tr>\n",
       "      <th>9</th>\n",
       "      <td>9</td>\n",
       "      <td>(1994)</td>\n",
       "      <td>Madinah</td>\n",
       "      <td>3767n</td>\n",
       "      <td>24.927534539, 39.4918237173</td>\n",
       "    </tr>\n",
       "  </tbody>\n",
       "</table>\n",
       "</div>"
      ],
      "text/plain": [
       "   Unnamed: 0    Year Administritive Area Driving Liceses  \\\n",
       "0           0  (2012)              Makkah         143954n   \n",
       "1           1  (1994)              Makkah          75349n   \n",
       "2           2  (1998)              Makkah          86082n   \n",
       "3           3  (2004)              Makkah          86636n   \n",
       "4           4  (2005)              Makkah          65099n   \n",
       "5           5  (2008)              Makkah          77013n   \n",
       "6           6  (2014)             Madinah          31447n   \n",
       "7           7  (2013)             Madinah          28513n   \n",
       "8           8  (2012)             Madinah          14459n   \n",
       "9           9  (1994)             Madinah           3767n   \n",
       "\n",
       "                  geo_point_2d  \n",
       "0  21.628962766, 41.2636898334  \n",
       "1  21.628962766, 41.2636898334  \n",
       "2  21.628962766, 41.2636898334  \n",
       "3  21.628962766, 41.2636898334  \n",
       "4  21.628962766, 41.2636898334  \n",
       "5  21.628962766, 41.2636898334  \n",
       "6  24.927534539, 39.4918237173  \n",
       "7  24.927534539, 39.4918237173  \n",
       "8  24.927534539, 39.4918237173  \n",
       "9  24.927534539, 39.4918237173  "
      ]
     },
     "execution_count": 6,
     "metadata": {},
     "output_type": "execute_result"
    }
   ],
   "source": [
    "licenses_df.head(10)"
   ]
  },
  {
   "cell_type": "markdown",
   "metadata": {},
   "source": [
    "#### 3. Briefly describe the data\n",
    "\n",
    "Take your time looking through the data and briefly describe the data in the markdown cell below. Note things about what the columns might mean, and the general information that is conveyed in the dataframe."
   ]
  },
  {
   "cell_type": "markdown",
   "metadata": {},
   "source": [
    "Answer:\n",
    "\n",
    "1. Traffic accidents dataframe: \n",
    "\n",
    "Dataframe exists in .csv format. The dimensions of the dataframe are (84 rows, 7 columns).\n",
    "Each row represents traffic accident features as follows: \n",
    "\n",
    "    unnamed 0:seems to serve as index for df\n",
    "    unnamed 0.1: has same values as unnamed 0\n",
    "    year: describes the year of traffic accident\n",
    "    region: describes area of traffic accident\n",
    "    indicator: describes result of traffic accident as injured or dead\n",
    "    value: corresponds to number of traffic accidents\n",
    "    geo_point_2d: describes geographical location of traffic accidents  \n",
    "\n",
    "2. Driving licenses dataframe:\n",
    "\n",
    "Dataframe exists in .csv format. The dimensions of the dataframe are (350 rows, 5 columns).\n",
    "Each row represents driving license features as follows:\n",
    "\n",
    "    nnamed 0:seems to serve as index for df\n",
    "    year:describes the year of issued driving licenses\n",
    "    administritive area: describes issuing area\n",
    "    driving licenses: number of issued licenses\n",
    "    geo_point_2d:describes geographical location of issuing area \n",
    "    \n"
   ]
  },
  {
   "cell_type": "markdown",
   "metadata": {},
   "source": [
    "#### 4a. How complete is the data?\n",
    "\n",
    "Investigate missing values etc."
   ]
  },
  {
   "cell_type": "code",
   "execution_count": 7,
   "metadata": {},
   "outputs": [
    {
     "name": "stdout",
     "output_type": "stream",
     "text": [
      "Unnamed: 0      0\n",
      "Unnamed: 0.1    0\n",
      "Year            0\n",
      "Region          0\n",
      "Indicator       0\n",
      "Value           0\n",
      "geo_point_2d    6\n",
      "dtype: int64\n",
      "-----------------\n",
      "Unnamed: 0              0\n",
      "Year                    0\n",
      "Administritive Area     0\n",
      "Driving Liceses         0\n",
      "geo_point_2d           25\n",
      "dtype: int64\n",
      "-----------------\n",
      "(84, 7)\n",
      "(350, 5)\n"
     ]
    }
   ],
   "source": [
    "print(accidents_df.isnull().sum()) # there are 6 missing values in accidents_df['geo_point_2d']\n",
    "print('-----------------')\n",
    "print(licenses_df.isnull().sum() ) # there are 25 missing values in accidents_df['geo_point_2d']\n",
    "\n",
    "#\n",
    "\n",
    "print('-----------------')\n",
    "print(accidents_df.shape)\n",
    "print(licenses_df.shape)\n"
   ]
  },
  {
   "cell_type": "code",
   "execution_count": 8,
   "metadata": {
    "scrolled": true
   },
   "outputs": [],
   "source": [
    "# dropping missing values from both dataframes\n",
    "\n",
    "accidents_df.dropna(how='any', inplace=True)\n",
    "licenses_df.dropna(how='any', inplace=True)"
   ]
  },
  {
   "cell_type": "code",
   "execution_count": 9,
   "metadata": {
    "scrolled": true
   },
   "outputs": [
    {
     "name": "stdout",
     "output_type": "stream",
     "text": [
      "Unnamed: 0      0\n",
      "Unnamed: 0.1    0\n",
      "Year            0\n",
      "Region          0\n",
      "Indicator       0\n",
      "Value           0\n",
      "geo_point_2d    0\n",
      "dtype: int64\n",
      "-----------------\n",
      "Unnamed: 0             0\n",
      "Year                   0\n",
      "Administritive Area    0\n",
      "Driving Liceses        0\n",
      "geo_point_2d           0\n",
      "dtype: int64\n",
      "-----------------\n",
      "(78, 7)\n",
      "(325, 5)\n"
     ]
    }
   ],
   "source": [
    "# missing values re-check\n",
    "\n",
    "print(accidents_df.isnull().sum()) \n",
    "print('-----------------')\n",
    "print(licenses_df.isnull().sum())\n",
    "\n",
    "\n",
    "print('-----------------')\n",
    "print(accidents_df.shape)\n",
    "print(licenses_df.shape)"
   ]
  },
  {
   "cell_type": "markdown",
   "metadata": {},
   "source": [
    "#### 4b. Are there any obvious issues with the observations?\n",
    "\n",
    "yes, \n",
    "\n",
    "\n",
    "- There are unnamed columns and dublicate columns serving as index numbers.\n",
    "\n",
    "- geo_point column has missing values in both dataframes and were subsequently dropped. \n",
    "\n",
    "- geo_point column in both dataframes need to be separated on (',')into two additional cloumns.\n",
    "\n",
    "- Driving licenses column in the licenses_df contains string of numbers follwed by letter n. n needs to be removed and numbers within the same column need to be converted into integer type.\n",
    "\n",
    "- Values for Indicator column in accidents_df each contain No.of Casualties - injured/dead. This will have to be trimed to just injured or dead.\n",
    "\n",
    "**What is the minimum *possible* value for each dataset? What is the maximum *possible* value?**"
   ]
  },
  {
   "cell_type": "code",
   "execution_count": 10,
   "metadata": {
    "scrolled": false
   },
   "outputs": [
    {
     "name": "stdout",
     "output_type": "stream",
     "text": [
      "Unnamed: 0                               83\n",
      "Unnamed: 0.1                             83\n",
      "Year                                 (2017)\n",
      "Region                               Tabouk\n",
      "Indicator       No. of Casualties - Injured\n",
      "Value                                99925n\n",
      "geo_point_2d    30.197074783, 41.8171186952\n",
      "dtype: object\n",
      "------------\n",
      "Unnamed: 0                                 0\n",
      "Unnamed: 0.1                               0\n",
      "Year                                  (2016)\n",
      "Region                              Al-Baaha\n",
      "Indicator                   No. of Accidents\n",
      "Value                                  1007n\n",
      "geo_point_2d    17.2072313962, 42.6525807422\n",
      "dtype: object\n"
     ]
    }
   ],
   "source": [
    "# double check this with an AI. is this what the question is asking???\n",
    "\n",
    "# checking max and min for accidents_df\n",
    "\n",
    "print(accidents_df.max(axis = 0, skipna = True)); \n",
    "print('------------')\n",
    "print(accidents_df.min(axis = 0, skipna = True));"
   ]
  },
  {
   "cell_type": "code",
   "execution_count": 11,
   "metadata": {
    "scrolled": false
   },
   "outputs": [
    {
     "name": "stdout",
     "output_type": "stream",
     "text": [
      "Unnamed: 0                                     349\n",
      "Year                                        (2017)\n",
      "Administritive Area                         Tabouk\n",
      "Driving Liceses                              9983n\n",
      "geo_point_2d           30.197074783, 41.8171186952\n",
      "dtype: object\n",
      "-----------\n",
      "Unnamed: 0                                        0\n",
      "Year                                         (1993)\n",
      "Administritive Area                         Al-Baha\n",
      "Driving Liceses                             100291n\n",
      "geo_point_2d           17.2072313962, 42.6525807422\n",
      "dtype: object\n"
     ]
    }
   ],
   "source": [
    "# checking max and min for accidents_df\n",
    "\n",
    "print(licenses_df.max(axis = 0, skipna = True));\n",
    "print('-----------')\n",
    "print(licenses_df.min(axis = 0, skipna = True)); "
   ]
  },
  {
   "cell_type": "markdown",
   "metadata": {},
   "source": [
    "#### 5. What are your data types? \n",
    "Display the data types of each feature. "
   ]
  },
  {
   "cell_type": "code",
   "execution_count": 12,
   "metadata": {},
   "outputs": [
    {
     "name": "stdout",
     "output_type": "stream",
     "text": [
      "Unnamed: 0              int64\n",
      "Year                   object\n",
      "Administritive Area    object\n",
      "Driving Liceses        object\n",
      "geo_point_2d           object\n",
      "dtype: object\n",
      "------------------\n",
      "Unnamed: 0       int64\n",
      "Unnamed: 0.1     int64\n",
      "Year            object\n",
      "Region          object\n",
      "Indicator       object\n",
      "Value           object\n",
      "geo_point_2d    object\n",
      "dtype: object\n"
     ]
    }
   ],
   "source": [
    "#displying datatype for each feature for both dataframes\n",
    "\n",
    "print(licenses_df.dtypes) \n",
    "print('------------------')\n",
    "print(accidents_df.dtypes)"
   ]
  },
  {
   "cell_type": "code",
   "execution_count": 13,
   "metadata": {},
   "outputs": [],
   "source": [
    "# DataFrame.astype : Cast argument to a specified dtype.\n",
    "# to_datetime : Convert argument to datetime.\n",
    "# to_timedelta : Convert argument to timedelta.\n",
    "# numpy.ndarray.astype : Cast a numpy array to a specified type.\n",
    "# DataFrame.convert_dtypes : Convert dtypes."
   ]
  },
  {
   "cell_type": "code",
   "execution_count": 14,
   "metadata": {},
   "outputs": [],
   "source": [
    "# trying to fix Year from str to int\n",
    "#method 1: using pd.to_numeric\n",
    "#accidents_df['Year'] = pd.to_numeric(accidents_df['Year']) #not working. Unable to parse string \"(2016)\" at position 0\n",
    "\n",
    "#method 2 df.astype()\n",
    "# accidents_df.Year.astype(int) # not working base 10 issue\n",
    "\n",
    "# method 3\n",
    "#ccidents_df.convert_dtypes  hold up!"
   ]
  },
  {
   "cell_type": "markdown",
   "metadata": {},
   "source": [
    "What did you learn?\n",
    "- Do any of them seem odd? \n",
    "- Which ones are not as they should be?     "
   ]
  },
  {
   "cell_type": "markdown",
   "metadata": {},
   "source": [
    "Answer: \n",
    "\n",
    "\n",
    "yes,\n",
    "\n",
    "- features: Unnamed :0 and Unnamed: 0.1 are represented as integers while the rest of features are in object str format.\n",
    "\n",
    "- the following features will have to be converted:\n",
    "\n",
    "    Year -> convert to int\n",
    "    \n",
    "    Value -> remove 'n' and conver to int\n",
    "    geopoint -> separate at (,) and conver to float    "
   ]
  },
  {
   "cell_type": "markdown",
   "metadata": {},
   "source": [
    "#### 6. Fix incorrect data types\n",
    "Based on what you discovered above, use appropriate methods to re-type incorrectly typed data.\n",
    "- Define a function that will allow you to convert numerical columns to an appropriate numeric type. Use `map` or `apply` to change these columns in each dataframe."
   ]
  },
  {
   "cell_type": "code",
   "execution_count": 15,
   "metadata": {},
   "outputs": [
    {
     "name": "stdout",
     "output_type": "stream",
     "text": [
      "Unnamed: 0       int64\n",
      "Unnamed: 0.1     int64\n",
      "Year             int64\n",
      "Region          object\n",
      "Indicator       object\n",
      "Value           object\n",
      "geo_point_2d    object\n",
      "dtype: object\n",
      "--------------\n",
      "Unnamed: 0              int64\n",
      "Year                    int64\n",
      "Administritive Area    object\n",
      "Driving Liceses        object\n",
      "geo_point_2d           object\n",
      "dtype: object\n"
     ]
    }
   ],
   "source": [
    "# using one-line function to convert ['Year'] object str to integer type. and omitting ()\n",
    "\n",
    "accidents_df['Year'] = accidents_df['Year'].apply(lambda x: x.replace('(', '').replace(')', '')).astype('int')\n",
    "licenses_df['Year'] = licenses_df['Year'].apply(lambda x: x.replace('(', '').replace(')', '')).astype('int')\n",
    "#\n",
    "print(accidents_df.dtypes)\n",
    "print('--------------')\n",
    "print(licenses_df.dtypes)\n",
    "\n"
   ]
  },
  {
   "cell_type": "markdown",
   "metadata": {},
   "source": [
    "- Make new columns `x` and `y` using `geo_point_2d`"
   ]
  },
  {
   "cell_type": "code",
   "execution_count": 16,
   "metadata": {},
   "outputs": [],
   "source": [
    "# accidents_df['x'] = accidents_df.geo_point_2d.str[0:,] \n",
    "# accidents_df['y'] = accidents_df.geo_point_2d.str[:]"
   ]
  },
  {
   "cell_type": "code",
   "execution_count": 17,
   "metadata": {},
   "outputs": [],
   "source": [
    "# creating new x,y columns using geo_point_2d by splitting on (',') \n",
    "\n",
    "accidents_df[['x','y']] = accidents_df.geo_point_2d.str.split(\",\",expand=True,)\n",
    "licenses_df[['x','y']] = licenses_df.geo_point_2d.str.split(\",\",expand=True,)"
   ]
  },
  {
   "cell_type": "code",
   "execution_count": 18,
   "metadata": {},
   "outputs": [
    {
     "data": {
      "text/plain": [
       "str"
      ]
     },
     "execution_count": 18,
     "metadata": {},
     "output_type": "execute_result"
    }
   ],
   "source": [
    "type(accidents_df.x.loc[10]) #checking type of random value in x column"
   ]
  },
  {
   "cell_type": "code",
   "execution_count": 19,
   "metadata": {},
   "outputs": [],
   "source": [
    "# converting x and y cols to floats instead of object str for both dataframes\n",
    "\n",
    "accidents_df[['x','y']] = accidents_df[['x','y']].astype('float')\n",
    "licenses_df[['x','y']] = licenses_df[['x','y']].astype('float')"
   ]
  },
  {
   "cell_type": "code",
   "execution_count": 20,
   "metadata": {},
   "outputs": [
    {
     "data": {
      "text/plain": [
       "numpy.float64"
      ]
     },
     "execution_count": 20,
     "metadata": {},
     "output_type": "execute_result"
    }
   ],
   "source": [
    "type(accidents_df.x.loc[10]) # re-checking type of the same value in x column"
   ]
  },
  {
   "cell_type": "markdown",
   "metadata": {},
   "source": [
    "- Fix any individual values preventing other columns from being the appropriate type."
   ]
  },
  {
   "cell_type": "code",
   "execution_count": 21,
   "metadata": {},
   "outputs": [],
   "source": [
    "# using .apply lambda to omit letter n from columns ['Value'] and ['Driving Licenses'] \n",
    "# then converting column value types into integers\n",
    "\n",
    "accidents_df['Value'] = accidents_df['Value'].apply(lambda x: x.replace('n', '')).astype('int')\n",
    "licenses_df['Driving Liceses'] = licenses_df['Driving Liceses'].apply(lambda x: x.replace('n', '')).astype('int')"
   ]
  },
  {
   "cell_type": "code",
   "execution_count": 22,
   "metadata": {},
   "outputs": [],
   "source": [
    "# Keep this for ref\n",
    "\n",
    "\n",
    "# licenses_df['Driving Liceses'] =licenses_df['Driving Liceses'].map(lambda x: x.lstrip('n').rstrip('n'))\n",
    "# licenses_df.head(50)    "
   ]
  },
  {
   "cell_type": "code",
   "execution_count": 23,
   "metadata": {},
   "outputs": [],
   "source": [
    "# I will try to replace n and convert str to int in one go like before. let hack!\n",
    "\n",
    "#keep 2 lines below for ref\n",
    "# accidents_df['Value'] = accidents_df['Value'].apply(lambda x: x.replace('n', '').replace('n', '')).astype('int')\n",
    "# licenses_df['Driving Liceses'] = licenses_df['Driving Liceses'].apply(lambda x: x.replace('n', '').replace('n', '')).astype('int')\n",
    "\n",
    "\n",
    "##below code was used above. delete this when confident\n",
    "# # using .apply lambda to omit letter n from columns and convert column values from object str into integers\n",
    "# accidents_df['Value'] = accidents_df['Value'].apply(lambda x: x.replace('n', '')).astype('int')\n",
    "# licenses_df['Driving Liceses'] = licenses_df['Driving Liceses'].apply(lambda x: x.replace('n', '')).astype('int')\n"
   ]
  },
  {
   "cell_type": "code",
   "execution_count": 24,
   "metadata": {},
   "outputs": [],
   "source": [
    "#keep the line below for ref\n",
    "#licenses_df['Driving Liceses'] =licenses_df['Driving Liceses'].map(lambda x: x.lstrip('n').rstrip('n'))\n",
    "\n",
    "###\n",
    "\n",
    "#removing 'n' from licenses_df['DrivingLicenses']\n",
    "#removing 'n' from accidents_df['Value']\n",
    "# licenses_df['Driving Liceses'] =licenses_df['Driving Liceses'].map(lambda x: x.rstrip('n'))#####DONE using .replace above\n",
    "# accidents_df['Value'] =accidents_df['Value'].map(lambda x: x.rstrip('n')) #####DONE using .replace above\n"
   ]
  },
  {
   "cell_type": "code",
   "execution_count": 25,
   "metadata": {},
   "outputs": [],
   "source": [
    "### next, change [value] and [Drvinglicenses] cols into int ##########DONE"
   ]
  },
  {
   "cell_type": "code",
   "execution_count": 26,
   "metadata": {},
   "outputs": [],
   "source": [
    "# #removing '()' from licenses_df['Year']\n",
    "# licenses_df['Year'] =licenses_df['Year'].map(lambda x: x.lstrip('()').rstrip('()')) #####DONE using .replace above\n",
    "# licenses_df.head() #####DONE using .replace above\n",
    "\n",
    "\n",
    "#removing 'n' from accidents_df['Value']\n",
    "# accidents_df['Value'] =accidents_df['Value'].map(lambda x: x.lstrip('n').rstrip('n')) #####DONE using .replace above\n",
    "# accidents_df.head() #####DONE using .replace above"
   ]
  },
  {
   "cell_type": "code",
   "execution_count": 27,
   "metadata": {},
   "outputs": [],
   "source": [
    "# most likely delete this\n",
    "\n",
    "#removing 'No.of Casualities' from licenses_df['Indicator']\n",
    "\n",
    "# accidents_df['Indicator'] =accidents_df['Indicator'].map(lambda x: x.lstrip('No.ofCasualties -').rstrip())\n",
    "# accidents_df.head()"
   ]
  },
  {
   "cell_type": "markdown",
   "metadata": {},
   "source": [
    "- Finish your data modifications by making sure the columns are now typed appropriately."
   ]
  },
  {
   "cell_type": "code",
   "execution_count": 28,
   "metadata": {},
   "outputs": [
    {
     "data": {
      "text/html": [
       "<div>\n",
       "<style scoped>\n",
       "    .dataframe tbody tr th:only-of-type {\n",
       "        vertical-align: middle;\n",
       "    }\n",
       "\n",
       "    .dataframe tbody tr th {\n",
       "        vertical-align: top;\n",
       "    }\n",
       "\n",
       "    .dataframe thead th {\n",
       "        text-align: right;\n",
       "    }\n",
       "</style>\n",
       "<table border=\"1\" class=\"dataframe\">\n",
       "  <thead>\n",
       "    <tr style=\"text-align: right;\">\n",
       "      <th></th>\n",
       "      <th>Unnamed: 0</th>\n",
       "      <th>Unnamed: 0.1</th>\n",
       "      <th>Year</th>\n",
       "      <th>Region</th>\n",
       "      <th>Indicator</th>\n",
       "      <th>Value</th>\n",
       "      <th>geo_point_2d</th>\n",
       "      <th>x</th>\n",
       "      <th>y</th>\n",
       "    </tr>\n",
       "  </thead>\n",
       "  <tbody>\n",
       "    <tr>\n",
       "      <th>0</th>\n",
       "      <td>0</td>\n",
       "      <td>0</td>\n",
       "      <td>2016</td>\n",
       "      <td>Makkah</td>\n",
       "      <td>No. of Casualties - Injured</td>\n",
       "      <td>12383</td>\n",
       "      <td>21.628962766, 41.2636898334</td>\n",
       "      <td>21.628963</td>\n",
       "      <td>41.26369</td>\n",
       "    </tr>\n",
       "  </tbody>\n",
       "</table>\n",
       "</div>"
      ],
      "text/plain": [
       "   Unnamed: 0  Unnamed: 0.1  Year  Region                    Indicator  Value  \\\n",
       "0           0             0  2016  Makkah  No. of Casualties - Injured  12383   \n",
       "\n",
       "                  geo_point_2d          x         y  \n",
       "0  21.628962766, 41.2636898334  21.628963  41.26369  "
      ]
     },
     "execution_count": 28,
     "metadata": {},
     "output_type": "execute_result"
    }
   ],
   "source": [
    "accidents_df.head(1)"
   ]
  },
  {
   "cell_type": "code",
   "execution_count": 29,
   "metadata": {},
   "outputs": [
    {
     "data": {
      "text/html": [
       "<div>\n",
       "<style scoped>\n",
       "    .dataframe tbody tr th:only-of-type {\n",
       "        vertical-align: middle;\n",
       "    }\n",
       "\n",
       "    .dataframe tbody tr th {\n",
       "        vertical-align: top;\n",
       "    }\n",
       "\n",
       "    .dataframe thead th {\n",
       "        text-align: right;\n",
       "    }\n",
       "</style>\n",
       "<table border=\"1\" class=\"dataframe\">\n",
       "  <thead>\n",
       "    <tr style=\"text-align: right;\">\n",
       "      <th></th>\n",
       "      <th>Unnamed: 0</th>\n",
       "      <th>Year</th>\n",
       "      <th>Administritive Area</th>\n",
       "      <th>Driving Liceses</th>\n",
       "      <th>geo_point_2d</th>\n",
       "      <th>x</th>\n",
       "      <th>y</th>\n",
       "    </tr>\n",
       "  </thead>\n",
       "  <tbody>\n",
       "    <tr>\n",
       "      <th>0</th>\n",
       "      <td>0</td>\n",
       "      <td>2012</td>\n",
       "      <td>Makkah</td>\n",
       "      <td>143954</td>\n",
       "      <td>21.628962766, 41.2636898334</td>\n",
       "      <td>21.628963</td>\n",
       "      <td>41.26369</td>\n",
       "    </tr>\n",
       "  </tbody>\n",
       "</table>\n",
       "</div>"
      ],
      "text/plain": [
       "   Unnamed: 0  Year Administritive Area  Driving Liceses  \\\n",
       "0           0  2012              Makkah           143954   \n",
       "\n",
       "                  geo_point_2d          x         y  \n",
       "0  21.628962766, 41.2636898334  21.628963  41.26369  "
      ]
     },
     "execution_count": 29,
     "metadata": {},
     "output_type": "execute_result"
    }
   ],
   "source": [
    "licenses_df.head(1)"
   ]
  },
  {
   "cell_type": "code",
   "execution_count": 30,
   "metadata": {},
   "outputs": [],
   "source": [
    "# dropping unnecessary columns goint forward\n",
    "accidents_df = accidents_df.drop(['Unnamed: 0','Unnamed: 0.1','geo_point_2d'], axis=1)\n",
    "licenses_df = licenses_df.drop(['Unnamed: 0','geo_point_2d'], axis=1)\n"
   ]
  },
  {
   "cell_type": "code",
   "execution_count": 31,
   "metadata": {},
   "outputs": [
    {
     "data": {
      "text/html": [
       "<div>\n",
       "<style scoped>\n",
       "    .dataframe tbody tr th:only-of-type {\n",
       "        vertical-align: middle;\n",
       "    }\n",
       "\n",
       "    .dataframe tbody tr th {\n",
       "        vertical-align: top;\n",
       "    }\n",
       "\n",
       "    .dataframe thead th {\n",
       "        text-align: right;\n",
       "    }\n",
       "</style>\n",
       "<table border=\"1\" class=\"dataframe\">\n",
       "  <thead>\n",
       "    <tr style=\"text-align: right;\">\n",
       "      <th></th>\n",
       "      <th>Year</th>\n",
       "      <th>Region</th>\n",
       "      <th>Indicator</th>\n",
       "      <th>Value</th>\n",
       "      <th>x</th>\n",
       "      <th>y</th>\n",
       "    </tr>\n",
       "  </thead>\n",
       "  <tbody>\n",
       "    <tr>\n",
       "      <th>0</th>\n",
       "      <td>2016</td>\n",
       "      <td>Makkah</td>\n",
       "      <td>No. of Casualties - Injured</td>\n",
       "      <td>12383</td>\n",
       "      <td>21.628963</td>\n",
       "      <td>41.263690</td>\n",
       "    </tr>\n",
       "    <tr>\n",
       "      <th>1</th>\n",
       "      <td>2016</td>\n",
       "      <td>Eastern Region</td>\n",
       "      <td>No. of Casualties - Dead</td>\n",
       "      <td>1113</td>\n",
       "      <td>23.288331</td>\n",
       "      <td>50.147830</td>\n",
       "    </tr>\n",
       "    <tr>\n",
       "      <th>2</th>\n",
       "      <td>2016</td>\n",
       "      <td>Tabouk</td>\n",
       "      <td>No. of Casualties - Dead</td>\n",
       "      <td>434</td>\n",
       "      <td>27.901655</td>\n",
       "      <td>37.259858</td>\n",
       "    </tr>\n",
       "    <tr>\n",
       "      <th>3</th>\n",
       "      <td>2016</td>\n",
       "      <td>Hail</td>\n",
       "      <td>No. of Casualties - Dead</td>\n",
       "      <td>299</td>\n",
       "      <td>27.400846</td>\n",
       "      <td>41.440696</td>\n",
       "    </tr>\n",
       "    <tr>\n",
       "      <th>4</th>\n",
       "      <td>2016</td>\n",
       "      <td>Hail</td>\n",
       "      <td>No. of Accidents</td>\n",
       "      <td>10199</td>\n",
       "      <td>27.400846</td>\n",
       "      <td>41.440696</td>\n",
       "    </tr>\n",
       "  </tbody>\n",
       "</table>\n",
       "</div>"
      ],
      "text/plain": [
       "   Year          Region                    Indicator  Value          x  \\\n",
       "0  2016          Makkah  No. of Casualties - Injured  12383  21.628963   \n",
       "1  2016  Eastern Region     No. of Casualties - Dead   1113  23.288331   \n",
       "2  2016          Tabouk     No. of Casualties - Dead    434  27.901655   \n",
       "3  2016            Hail     No. of Casualties - Dead    299  27.400846   \n",
       "4  2016            Hail             No. of Accidents  10199  27.400846   \n",
       "\n",
       "           y  \n",
       "0  41.263690  \n",
       "1  50.147830  \n",
       "2  37.259858  \n",
       "3  41.440696  \n",
       "4  41.440696  "
      ]
     },
     "execution_count": 31,
     "metadata": {},
     "output_type": "execute_result"
    }
   ],
   "source": [
    "accidents_df.head()"
   ]
  },
  {
   "cell_type": "code",
   "execution_count": 32,
   "metadata": {},
   "outputs": [
    {
     "data": {
      "text/html": [
       "<div>\n",
       "<style scoped>\n",
       "    .dataframe tbody tr th:only-of-type {\n",
       "        vertical-align: middle;\n",
       "    }\n",
       "\n",
       "    .dataframe tbody tr th {\n",
       "        vertical-align: top;\n",
       "    }\n",
       "\n",
       "    .dataframe thead th {\n",
       "        text-align: right;\n",
       "    }\n",
       "</style>\n",
       "<table border=\"1\" class=\"dataframe\">\n",
       "  <thead>\n",
       "    <tr style=\"text-align: right;\">\n",
       "      <th></th>\n",
       "      <th>Year</th>\n",
       "      <th>Administritive Area</th>\n",
       "      <th>Driving Liceses</th>\n",
       "      <th>x</th>\n",
       "      <th>y</th>\n",
       "    </tr>\n",
       "  </thead>\n",
       "  <tbody>\n",
       "    <tr>\n",
       "      <th>0</th>\n",
       "      <td>2012</td>\n",
       "      <td>Makkah</td>\n",
       "      <td>143954</td>\n",
       "      <td>21.628963</td>\n",
       "      <td>41.26369</td>\n",
       "    </tr>\n",
       "    <tr>\n",
       "      <th>1</th>\n",
       "      <td>1994</td>\n",
       "      <td>Makkah</td>\n",
       "      <td>75349</td>\n",
       "      <td>21.628963</td>\n",
       "      <td>41.26369</td>\n",
       "    </tr>\n",
       "    <tr>\n",
       "      <th>2</th>\n",
       "      <td>1998</td>\n",
       "      <td>Makkah</td>\n",
       "      <td>86082</td>\n",
       "      <td>21.628963</td>\n",
       "      <td>41.26369</td>\n",
       "    </tr>\n",
       "    <tr>\n",
       "      <th>3</th>\n",
       "      <td>2004</td>\n",
       "      <td>Makkah</td>\n",
       "      <td>86636</td>\n",
       "      <td>21.628963</td>\n",
       "      <td>41.26369</td>\n",
       "    </tr>\n",
       "    <tr>\n",
       "      <th>4</th>\n",
       "      <td>2005</td>\n",
       "      <td>Makkah</td>\n",
       "      <td>65099</td>\n",
       "      <td>21.628963</td>\n",
       "      <td>41.26369</td>\n",
       "    </tr>\n",
       "  </tbody>\n",
       "</table>\n",
       "</div>"
      ],
      "text/plain": [
       "   Year Administritive Area  Driving Liceses          x         y\n",
       "0  2012              Makkah           143954  21.628963  41.26369\n",
       "1  1994              Makkah            75349  21.628963  41.26369\n",
       "2  1998              Makkah            86082  21.628963  41.26369\n",
       "3  2004              Makkah            86636  21.628963  41.26369\n",
       "4  2005              Makkah            65099  21.628963  41.26369"
      ]
     },
     "execution_count": 32,
     "metadata": {},
     "output_type": "execute_result"
    }
   ],
   "source": [
    "licenses_df.head()"
   ]
  },
  {
   "cell_type": "code",
   "execution_count": 33,
   "metadata": {
    "scrolled": true
   },
   "outputs": [
    {
     "name": "stdout",
     "output_type": "stream",
     "text": [
      "Year                   0\n",
      "Administritive Area    0\n",
      "Driving Liceses        0\n",
      "x                      0\n",
      "y                      0\n",
      "dtype: int64\n",
      "-----------------\n",
      "Year         0\n",
      "Region       0\n",
      "Indicator    0\n",
      "Value        0\n",
      "x            0\n",
      "y            0\n",
      "dtype: int64\n"
     ]
    }
   ],
   "source": [
    "# re-check of null values\n",
    "\n",
    "print(licenses_df.isnull().sum())\n",
    "print('-----------------')\n",
    "print(accidents_df.isnull().sum())"
   ]
  },
  {
   "cell_type": "code",
   "execution_count": 34,
   "metadata": {},
   "outputs": [
    {
     "name": "stdout",
     "output_type": "stream",
     "text": [
      "0\n",
      "0\n"
     ]
    }
   ],
   "source": [
    "#checking dublicates\n",
    "\n",
    "print(licenses_df.duplicated().sum()) \n",
    "print(accidents_df.duplicated().sum())"
   ]
  },
  {
   "cell_type": "markdown",
   "metadata": {},
   "source": [
    "- Display the data types again to confirm they are correct."
   ]
  },
  {
   "cell_type": "code",
   "execution_count": 35,
   "metadata": {},
   "outputs": [
    {
     "name": "stdout",
     "output_type": "stream",
     "text": [
      "Year           int64\n",
      "Region        object\n",
      "Indicator     object\n",
      "Value          int64\n",
      "x            float64\n",
      "y            float64\n",
      "dtype: object\n",
      "---------------\n",
      "Year                     int64\n",
      "Administritive Area     object\n",
      "Driving Liceses          int64\n",
      "x                      float64\n",
      "y                      float64\n",
      "dtype: object\n"
     ]
    }
   ],
   "source": [
    "#Code:\n",
    "print(accidents_df.dtypes)\n",
    "print('---------------')\n",
    "print(licenses_df.dtypes)"
   ]
  },
  {
   "cell_type": "markdown",
   "metadata": {},
   "source": [
    "#### 7. Rename columns\n",
    "Change the names of the columns to more expressive names so that you can tell the difference the Driving Licenses  columns and the & Traffic Accidents columns. Your solution should map all column names being changed at once (no repeated singular name-changes). **We will be combining these two datasets, and so you should name columns in an appropriate way**.\n",
    "\n",
    "**Guidelines**:\n",
    "- Column names should be all lowercase (you will thank yourself when you start pushing data to SQL later in the course)\n",
    "- Column names should not contain spaces (underscores will suffice--this allows for using the `df.column_name` method to access columns in addition to `df['column_name']`.\n",
    "- Column names should be unique and informative (the only feature that we actually share between dataframes is the state).\n",
    "- Please also fix any typos you see in the column names."
   ]
  },
  {
   "cell_type": "code",
   "execution_count": 36,
   "metadata": {},
   "outputs": [
    {
     "data": {
      "text/plain": [
       "Index(['Year', 'Administritive Area', 'Driving Liceses', 'x', 'y'], dtype='object')"
      ]
     },
     "execution_count": 36,
     "metadata": {},
     "output_type": "execute_result"
    }
   ],
   "source": [
    "# displaying origina column names in licenses_df\n",
    "licenses_df.columns"
   ]
  },
  {
   "cell_type": "code",
   "execution_count": 37,
   "metadata": {},
   "outputs": [],
   "source": [
    "# renaming columns in licenses_df using the dictionary method:\n",
    "\n",
    "licenses_df.rename(columns={\n",
    "        'Year':'year',                  # l_year == license year\n",
    "        'Administritive Area':'region', # l_region == license region\n",
    "        'Driving Liceses':'l_count',      # l_count == licneses count\n",
    "        'x':'l_geoloc_x',                 # l_geoloc_x == license geo location x\n",
    "        'y':'l_geoloc_y'                  # l_geoloc_y == license geo location y\n",
    "            }, inplace=True)"
   ]
  },
  {
   "cell_type": "code",
   "execution_count": 38,
   "metadata": {},
   "outputs": [
    {
     "data": {
      "text/html": [
       "<div>\n",
       "<style scoped>\n",
       "    .dataframe tbody tr th:only-of-type {\n",
       "        vertical-align: middle;\n",
       "    }\n",
       "\n",
       "    .dataframe tbody tr th {\n",
       "        vertical-align: top;\n",
       "    }\n",
       "\n",
       "    .dataframe thead th {\n",
       "        text-align: right;\n",
       "    }\n",
       "</style>\n",
       "<table border=\"1\" class=\"dataframe\">\n",
       "  <thead>\n",
       "    <tr style=\"text-align: right;\">\n",
       "      <th></th>\n",
       "      <th>year</th>\n",
       "      <th>region</th>\n",
       "      <th>l_count</th>\n",
       "      <th>l_geoloc_x</th>\n",
       "      <th>l_geoloc_y</th>\n",
       "    </tr>\n",
       "  </thead>\n",
       "  <tbody>\n",
       "    <tr>\n",
       "      <th>0</th>\n",
       "      <td>2012</td>\n",
       "      <td>Makkah</td>\n",
       "      <td>143954</td>\n",
       "      <td>21.628963</td>\n",
       "      <td>41.26369</td>\n",
       "    </tr>\n",
       "    <tr>\n",
       "      <th>1</th>\n",
       "      <td>1994</td>\n",
       "      <td>Makkah</td>\n",
       "      <td>75349</td>\n",
       "      <td>21.628963</td>\n",
       "      <td>41.26369</td>\n",
       "    </tr>\n",
       "    <tr>\n",
       "      <th>2</th>\n",
       "      <td>1998</td>\n",
       "      <td>Makkah</td>\n",
       "      <td>86082</td>\n",
       "      <td>21.628963</td>\n",
       "      <td>41.26369</td>\n",
       "    </tr>\n",
       "    <tr>\n",
       "      <th>3</th>\n",
       "      <td>2004</td>\n",
       "      <td>Makkah</td>\n",
       "      <td>86636</td>\n",
       "      <td>21.628963</td>\n",
       "      <td>41.26369</td>\n",
       "    </tr>\n",
       "    <tr>\n",
       "      <th>4</th>\n",
       "      <td>2005</td>\n",
       "      <td>Makkah</td>\n",
       "      <td>65099</td>\n",
       "      <td>21.628963</td>\n",
       "      <td>41.26369</td>\n",
       "    </tr>\n",
       "  </tbody>\n",
       "</table>\n",
       "</div>"
      ],
      "text/plain": [
       "   year  region  l_count  l_geoloc_x  l_geoloc_y\n",
       "0  2012  Makkah   143954   21.628963    41.26369\n",
       "1  1994  Makkah    75349   21.628963    41.26369\n",
       "2  1998  Makkah    86082   21.628963    41.26369\n",
       "3  2004  Makkah    86636   21.628963    41.26369\n",
       "4  2005  Makkah    65099   21.628963    41.26369"
      ]
     },
     "execution_count": 38,
     "metadata": {},
     "output_type": "execute_result"
    }
   ],
   "source": [
    "# displaying new column names in licenses_df\n",
    "licenses_df.head()"
   ]
  },
  {
   "cell_type": "code",
   "execution_count": 39,
   "metadata": {},
   "outputs": [
    {
     "data": {
      "text/plain": [
       "Index(['Year', 'Region', 'Indicator', 'Value', 'x', 'y'], dtype='object')"
      ]
     },
     "execution_count": 39,
     "metadata": {},
     "output_type": "execute_result"
    }
   ],
   "source": [
    "# displaying a list of original column names in accidnets_df\n",
    "accidents_df.columns"
   ]
  },
  {
   "cell_type": "code",
   "execution_count": 40,
   "metadata": {},
   "outputs": [],
   "source": [
    "# renaming columns in accidents_df using the dictionary method:\n",
    "\n",
    "accidents_df.rename(columns={\n",
    "        'Year':'year',            # a_year == accidents year\n",
    "        'Region':'region',        # a_region == accidents region\n",
    "        'Indicator':'a_casualties',    # Indicator == accident outcome\n",
    "        'Value':'a_count',          # a_count == accidents count\n",
    "        'x':'a_geoloc_x',           # a_geoloc_x == accidents geo location x\n",
    "        'y':'a_geoloc_y'            # a_geoloc_y == accidents geo location y\n",
    "            }, inplace=True)"
   ]
  },
  {
   "cell_type": "code",
   "execution_count": 41,
   "metadata": {
    "scrolled": true
   },
   "outputs": [
    {
     "data": {
      "text/html": [
       "<div>\n",
       "<style scoped>\n",
       "    .dataframe tbody tr th:only-of-type {\n",
       "        vertical-align: middle;\n",
       "    }\n",
       "\n",
       "    .dataframe tbody tr th {\n",
       "        vertical-align: top;\n",
       "    }\n",
       "\n",
       "    .dataframe thead th {\n",
       "        text-align: right;\n",
       "    }\n",
       "</style>\n",
       "<table border=\"1\" class=\"dataframe\">\n",
       "  <thead>\n",
       "    <tr style=\"text-align: right;\">\n",
       "      <th></th>\n",
       "      <th>year</th>\n",
       "      <th>region</th>\n",
       "      <th>a_casualties</th>\n",
       "      <th>a_count</th>\n",
       "      <th>a_geoloc_x</th>\n",
       "      <th>a_geoloc_y</th>\n",
       "    </tr>\n",
       "  </thead>\n",
       "  <tbody>\n",
       "    <tr>\n",
       "      <th>0</th>\n",
       "      <td>2016</td>\n",
       "      <td>Makkah</td>\n",
       "      <td>No. of Casualties - Injured</td>\n",
       "      <td>12383</td>\n",
       "      <td>21.628963</td>\n",
       "      <td>41.263690</td>\n",
       "    </tr>\n",
       "    <tr>\n",
       "      <th>1</th>\n",
       "      <td>2016</td>\n",
       "      <td>Eastern Region</td>\n",
       "      <td>No. of Casualties - Dead</td>\n",
       "      <td>1113</td>\n",
       "      <td>23.288331</td>\n",
       "      <td>50.147830</td>\n",
       "    </tr>\n",
       "    <tr>\n",
       "      <th>2</th>\n",
       "      <td>2016</td>\n",
       "      <td>Tabouk</td>\n",
       "      <td>No. of Casualties - Dead</td>\n",
       "      <td>434</td>\n",
       "      <td>27.901655</td>\n",
       "      <td>37.259858</td>\n",
       "    </tr>\n",
       "    <tr>\n",
       "      <th>3</th>\n",
       "      <td>2016</td>\n",
       "      <td>Hail</td>\n",
       "      <td>No. of Casualties - Dead</td>\n",
       "      <td>299</td>\n",
       "      <td>27.400846</td>\n",
       "      <td>41.440696</td>\n",
       "    </tr>\n",
       "    <tr>\n",
       "      <th>4</th>\n",
       "      <td>2016</td>\n",
       "      <td>Hail</td>\n",
       "      <td>No. of Accidents</td>\n",
       "      <td>10199</td>\n",
       "      <td>27.400846</td>\n",
       "      <td>41.440696</td>\n",
       "    </tr>\n",
       "  </tbody>\n",
       "</table>\n",
       "</div>"
      ],
      "text/plain": [
       "   year          region                 a_casualties  a_count  a_geoloc_x  \\\n",
       "0  2016          Makkah  No. of Casualties - Injured    12383   21.628963   \n",
       "1  2016  Eastern Region     No. of Casualties - Dead     1113   23.288331   \n",
       "2  2016          Tabouk     No. of Casualties - Dead      434   27.901655   \n",
       "3  2016            Hail     No. of Casualties - Dead      299   27.400846   \n",
       "4  2016            Hail             No. of Accidents    10199   27.400846   \n",
       "\n",
       "   a_geoloc_y  \n",
       "0   41.263690  \n",
       "1   50.147830  \n",
       "2   37.259858  \n",
       "3   41.440696  \n",
       "4   41.440696  "
      ]
     },
     "execution_count": 41,
     "metadata": {},
     "output_type": "execute_result"
    }
   ],
   "source": [
    "# displaying new column names in accidents_df\n",
    "accidents_df.head()"
   ]
  },
  {
   "cell_type": "markdown",
   "metadata": {},
   "source": [
    "#### 8. Create a data dictionary\n",
    "\n",
    "Now that we've fixed our data, and given it appropriate names, let's create a [data dictionary](http://library.ucmerced.edu/node/10249). \n",
    "\n",
    "A data dictionary provides a quick overview of features/variables/columns, alongside data types and descriptions. The more descriptive you can be, the more useful this document is.\n",
    "\n",
    "Example of a Fictional Data Dictionary Entry: \n",
    "\n",
    "|Feature|Type|Dataset|Description|\n",
    "|---|---|---|---|\n",
    "|**county_pop**|*integer*|2010 census|The population of the county (units in thousands, where 2.5 represents 2500 people).| \n",
    "|**per_poverty**|*float*|2010 census|The percent of the county over the age of 18 living below the 200% of official US poverty rate (units percent to two decimal places 98.10 means 98.1%)|\n",
    "\n",
    "[Here's a quick link to a short guide for formatting markdown in Jupyter notebooks](https://jupyter-notebook.readthedocs.io/en/stable/examples/Notebook/Working%20With%20Markdown%20Cells.html).\n",
    "\n",
    "Provided is the skeleton for formatting a markdown table, with columns headers that will help you create a data dictionary to quickly summarize your data, as well as some examples. **This would be a great thing to copy and paste into your custom README for this project.**"
   ]
  },
  {
   "cell_type": "code",
   "execution_count": 52,
   "metadata": {},
   "outputs": [
    {
     "ename": "SyntaxError",
     "evalue": "invalid syntax (<ipython-input-52-c74b4d7ac964>, line 3)",
     "output_type": "error",
     "traceback": [
      "\u001b[0;36m  File \u001b[0;32m\"<ipython-input-52-c74b4d7ac964>\"\u001b[0;36m, line \u001b[0;32m3\u001b[0m\n\u001b[0;31m    <style>\u001b[0m\n\u001b[0m    ^\u001b[0m\n\u001b[0;31mSyntaxError\u001b[0m\u001b[0;31m:\u001b[0m invalid syntax\n"
     ]
    }
   ],
   "source": [
    "#the code in this cell left aligns the table below.\n",
    "%%html\n",
    "<style>\n",
    "table {float:left}\n",
    "</style>"
   ]
  },
  {
   "cell_type": "markdown",
   "metadata": {},
   "source": [
    "|Feature|Type|Dataset|Description|\n",
    "|:-|:-|:-|:------------:|\n",
    "|a_year|*int*|accidents_df|year in which traffict accidents occurred|\n",
    "|a_region|*object*|accidents_df|region where traffict accidents occurred|\n",
    "|a_casualties|*object*|accidents_df|outcome of accidents - dead/injured|\n",
    "|a_count|*int*|accidents_df|number of resulting casualties from accidents|\n",
    "|a_geoloc_x|*float*|accidents_df|x coordinate location of accidents| \n",
    "|a_geoloc_y|*float*|accidents_df|y coordinate location of accidents|\n",
    "|---|---|---|---|\n",
    "|l_year|*int*|licenses_df|year of issued driving licenses|\n",
    "|l_region|*object*|licenses_df|region of issuded driving licenses|\n",
    "|l_count|*int*|licenses_df|number of issued driving licenses|\n",
    "|l_geoloc_x|*float*|licenses_df|x coordinate location of driving licenses issuing region|\n",
    "|l_geoloc_y|*float*|licenses_df|y coordinate location of driving licenses issuing region|\n",
    "\n",
    "\n",
    "\n"
   ]
  },
  {
   "cell_type": "markdown",
   "metadata": {},
   "source": [
    "#### 9. Drop unnecessary rows\n",
    "\n",
    "This study concerns accident and license in regions/area. Please do the followings:\n",
    "0. Which rows are not associated with regions?\n",
    "1. Confirm the numbers of all regions add up to total.\n",
    "2. Remove the rows that are not associated with regions"
   ]
  },
  {
   "cell_type": "markdown",
   "metadata": {},
   "source": [
    "#Answer \n",
    "\n",
    " - unnecessary rows correspond to value == Total instead of a particular region/area \n",
    " - the same rows (with Total instead of region) also lack geo_point_2d values (nulls)\n",
    "        \n",
    "        These rows were droped earlier using:\n",
    "        \n",
    "        accidents_df.dropna(how='any', inplace=True)\n",
    "        licenses_df.dropna(how='any', inplace=True)\n"
   ]
  },
  {
   "cell_type": "code",
   "execution_count": 43,
   "metadata": {
    "scrolled": false
   },
   "outputs": [
    {
     "ename": "KeyError",
     "evalue": "'a_region'",
     "output_type": "error",
     "traceback": [
      "\u001b[0;31m---------------------------------------------------------------------------\u001b[0m",
      "\u001b[0;31mKeyError\u001b[0m                                  Traceback (most recent call last)",
      "\u001b[0;32m~/anaconda3/lib/python3.8/site-packages/pandas/core/indexes/base.py\u001b[0m in \u001b[0;36mget_loc\u001b[0;34m(self, key, method, tolerance)\u001b[0m\n\u001b[1;32m   2894\u001b[0m             \u001b[0;32mtry\u001b[0m\u001b[0;34m:\u001b[0m\u001b[0;34m\u001b[0m\u001b[0;34m\u001b[0m\u001b[0m\n\u001b[0;32m-> 2895\u001b[0;31m                 \u001b[0;32mreturn\u001b[0m \u001b[0mself\u001b[0m\u001b[0;34m.\u001b[0m\u001b[0m_engine\u001b[0m\u001b[0;34m.\u001b[0m\u001b[0mget_loc\u001b[0m\u001b[0;34m(\u001b[0m\u001b[0mcasted_key\u001b[0m\u001b[0;34m)\u001b[0m\u001b[0;34m\u001b[0m\u001b[0;34m\u001b[0m\u001b[0m\n\u001b[0m\u001b[1;32m   2896\u001b[0m             \u001b[0;32mexcept\u001b[0m \u001b[0mKeyError\u001b[0m \u001b[0;32mas\u001b[0m \u001b[0merr\u001b[0m\u001b[0;34m:\u001b[0m\u001b[0;34m\u001b[0m\u001b[0;34m\u001b[0m\u001b[0m\n",
      "\u001b[0;32mpandas/_libs/index.pyx\u001b[0m in \u001b[0;36mpandas._libs.index.IndexEngine.get_loc\u001b[0;34m()\u001b[0m\n",
      "\u001b[0;32mpandas/_libs/index.pyx\u001b[0m in \u001b[0;36mpandas._libs.index.IndexEngine.get_loc\u001b[0;34m()\u001b[0m\n",
      "\u001b[0;32mpandas/_libs/hashtable_class_helper.pxi\u001b[0m in \u001b[0;36mpandas._libs.hashtable.PyObjectHashTable.get_item\u001b[0;34m()\u001b[0m\n",
      "\u001b[0;32mpandas/_libs/hashtable_class_helper.pxi\u001b[0m in \u001b[0;36mpandas._libs.hashtable.PyObjectHashTable.get_item\u001b[0;34m()\u001b[0m\n",
      "\u001b[0;31mKeyError\u001b[0m: 'a_region'",
      "\nThe above exception was the direct cause of the following exception:\n",
      "\u001b[0;31mKeyError\u001b[0m                                  Traceback (most recent call last)",
      "\u001b[0;32m<ipython-input-43-91f4f1edceee>\u001b[0m in \u001b[0;36m<module>\u001b[0;34m\u001b[0m\n\u001b[0;32m----> 1\u001b[0;31m \u001b[0mprint\u001b[0m\u001b[0;34m(\u001b[0m\u001b[0maccidents_df\u001b[0m\u001b[0;34m[\u001b[0m\u001b[0;34m'a_region'\u001b[0m\u001b[0;34m]\u001b[0m\u001b[0;34m.\u001b[0m\u001b[0mvalue_counts\u001b[0m\u001b[0;34m(\u001b[0m\u001b[0;34m)\u001b[0m\u001b[0;34m)\u001b[0m \u001b[0;31m#getting value counts for each region in region column\u001b[0m\u001b[0;34m\u001b[0m\u001b[0;34m\u001b[0m\u001b[0m\n\u001b[0m\u001b[1;32m      2\u001b[0m \u001b[0mprint\u001b[0m\u001b[0;34m(\u001b[0m\u001b[0;34m'---------------'\u001b[0m\u001b[0;34m)\u001b[0m\u001b[0;34m\u001b[0m\u001b[0;34m\u001b[0m\u001b[0m\n\u001b[1;32m      3\u001b[0m \u001b[0mprint\u001b[0m\u001b[0;34m(\u001b[0m\u001b[0maccidents_df\u001b[0m\u001b[0;34m[\u001b[0m\u001b[0;34m'a_region'\u001b[0m\u001b[0;34m]\u001b[0m\u001b[0;34m.\u001b[0m\u001b[0mvalue_counts\u001b[0m\u001b[0;34m(\u001b[0m\u001b[0;34m)\u001b[0m\u001b[0;34m.\u001b[0m\u001b[0msum\u001b[0m\u001b[0;34m(\u001b[0m\u001b[0;34m)\u001b[0m\u001b[0;34m)\u001b[0m \u001b[0;31m#adding regions\u001b[0m\u001b[0;34m\u001b[0m\u001b[0;34m\u001b[0m\u001b[0m\n\u001b[1;32m      4\u001b[0m \u001b[0mprint\u001b[0m\u001b[0;34m(\u001b[0m\u001b[0;34m'---------------'\u001b[0m\u001b[0;34m)\u001b[0m\u001b[0;34m\u001b[0m\u001b[0;34m\u001b[0m\u001b[0m\n\u001b[1;32m      5\u001b[0m \u001b[0mprint\u001b[0m\u001b[0;34m(\u001b[0m\u001b[0maccidents_df\u001b[0m\u001b[0;34m.\u001b[0m\u001b[0mshape\u001b[0m\u001b[0;34m)\u001b[0m \u001b[0;31m# confirming number of regions add up to total\u001b[0m\u001b[0;34m\u001b[0m\u001b[0;34m\u001b[0m\u001b[0m\n",
      "\u001b[0;32m~/anaconda3/lib/python3.8/site-packages/pandas/core/frame.py\u001b[0m in \u001b[0;36m__getitem__\u001b[0;34m(self, key)\u001b[0m\n\u001b[1;32m   2900\u001b[0m             \u001b[0;32mif\u001b[0m \u001b[0mself\u001b[0m\u001b[0;34m.\u001b[0m\u001b[0mcolumns\u001b[0m\u001b[0;34m.\u001b[0m\u001b[0mnlevels\u001b[0m \u001b[0;34m>\u001b[0m \u001b[0;36m1\u001b[0m\u001b[0;34m:\u001b[0m\u001b[0;34m\u001b[0m\u001b[0;34m\u001b[0m\u001b[0m\n\u001b[1;32m   2901\u001b[0m                 \u001b[0;32mreturn\u001b[0m \u001b[0mself\u001b[0m\u001b[0;34m.\u001b[0m\u001b[0m_getitem_multilevel\u001b[0m\u001b[0;34m(\u001b[0m\u001b[0mkey\u001b[0m\u001b[0;34m)\u001b[0m\u001b[0;34m\u001b[0m\u001b[0;34m\u001b[0m\u001b[0m\n\u001b[0;32m-> 2902\u001b[0;31m             \u001b[0mindexer\u001b[0m \u001b[0;34m=\u001b[0m \u001b[0mself\u001b[0m\u001b[0;34m.\u001b[0m\u001b[0mcolumns\u001b[0m\u001b[0;34m.\u001b[0m\u001b[0mget_loc\u001b[0m\u001b[0;34m(\u001b[0m\u001b[0mkey\u001b[0m\u001b[0;34m)\u001b[0m\u001b[0;34m\u001b[0m\u001b[0;34m\u001b[0m\u001b[0m\n\u001b[0m\u001b[1;32m   2903\u001b[0m             \u001b[0;32mif\u001b[0m \u001b[0mis_integer\u001b[0m\u001b[0;34m(\u001b[0m\u001b[0mindexer\u001b[0m\u001b[0;34m)\u001b[0m\u001b[0;34m:\u001b[0m\u001b[0;34m\u001b[0m\u001b[0;34m\u001b[0m\u001b[0m\n\u001b[1;32m   2904\u001b[0m                 \u001b[0mindexer\u001b[0m \u001b[0;34m=\u001b[0m \u001b[0;34m[\u001b[0m\u001b[0mindexer\u001b[0m\u001b[0;34m]\u001b[0m\u001b[0;34m\u001b[0m\u001b[0;34m\u001b[0m\u001b[0m\n",
      "\u001b[0;32m~/anaconda3/lib/python3.8/site-packages/pandas/core/indexes/base.py\u001b[0m in \u001b[0;36mget_loc\u001b[0;34m(self, key, method, tolerance)\u001b[0m\n\u001b[1;32m   2895\u001b[0m                 \u001b[0;32mreturn\u001b[0m \u001b[0mself\u001b[0m\u001b[0;34m.\u001b[0m\u001b[0m_engine\u001b[0m\u001b[0;34m.\u001b[0m\u001b[0mget_loc\u001b[0m\u001b[0;34m(\u001b[0m\u001b[0mcasted_key\u001b[0m\u001b[0;34m)\u001b[0m\u001b[0;34m\u001b[0m\u001b[0;34m\u001b[0m\u001b[0m\n\u001b[1;32m   2896\u001b[0m             \u001b[0;32mexcept\u001b[0m \u001b[0mKeyError\u001b[0m \u001b[0;32mas\u001b[0m \u001b[0merr\u001b[0m\u001b[0;34m:\u001b[0m\u001b[0;34m\u001b[0m\u001b[0;34m\u001b[0m\u001b[0m\n\u001b[0;32m-> 2897\u001b[0;31m                 \u001b[0;32mraise\u001b[0m \u001b[0mKeyError\u001b[0m\u001b[0;34m(\u001b[0m\u001b[0mkey\u001b[0m\u001b[0;34m)\u001b[0m \u001b[0;32mfrom\u001b[0m \u001b[0merr\u001b[0m\u001b[0;34m\u001b[0m\u001b[0;34m\u001b[0m\u001b[0m\n\u001b[0m\u001b[1;32m   2898\u001b[0m \u001b[0;34m\u001b[0m\u001b[0m\n\u001b[1;32m   2899\u001b[0m         \u001b[0;32mif\u001b[0m \u001b[0mtolerance\u001b[0m \u001b[0;32mis\u001b[0m \u001b[0;32mnot\u001b[0m \u001b[0;32mNone\u001b[0m\u001b[0;34m:\u001b[0m\u001b[0;34m\u001b[0m\u001b[0;34m\u001b[0m\u001b[0m\n",
      "\u001b[0;31mKeyError\u001b[0m: 'a_region'"
     ]
    }
   ],
   "source": [
    "print(accidents_df['a_region'].value_counts()) #getting value counts for each region in region column\n",
    "print('---------------')\n",
    "print(accidents_df['a_region'].value_counts().sum()) #adding regions \n",
    "print('---------------')\n",
    "print(accidents_df.shape) # confirming number of regions add up to total"
   ]
  },
  {
   "cell_type": "code",
   "execution_count": 42,
   "metadata": {},
   "outputs": [
    {
     "ename": "KeyError",
     "evalue": "'l_region'",
     "output_type": "error",
     "traceback": [
      "\u001b[0;31m---------------------------------------------------------------------------\u001b[0m",
      "\u001b[0;31mKeyError\u001b[0m                                  Traceback (most recent call last)",
      "\u001b[0;32m~/anaconda3/lib/python3.8/site-packages/pandas/core/indexes/base.py\u001b[0m in \u001b[0;36mget_loc\u001b[0;34m(self, key, method, tolerance)\u001b[0m\n\u001b[1;32m   2894\u001b[0m             \u001b[0;32mtry\u001b[0m\u001b[0;34m:\u001b[0m\u001b[0;34m\u001b[0m\u001b[0;34m\u001b[0m\u001b[0m\n\u001b[0;32m-> 2895\u001b[0;31m                 \u001b[0;32mreturn\u001b[0m \u001b[0mself\u001b[0m\u001b[0;34m.\u001b[0m\u001b[0m_engine\u001b[0m\u001b[0;34m.\u001b[0m\u001b[0mget_loc\u001b[0m\u001b[0;34m(\u001b[0m\u001b[0mcasted_key\u001b[0m\u001b[0;34m)\u001b[0m\u001b[0;34m\u001b[0m\u001b[0;34m\u001b[0m\u001b[0m\n\u001b[0m\u001b[1;32m   2896\u001b[0m             \u001b[0;32mexcept\u001b[0m \u001b[0mKeyError\u001b[0m \u001b[0;32mas\u001b[0m \u001b[0merr\u001b[0m\u001b[0;34m:\u001b[0m\u001b[0;34m\u001b[0m\u001b[0;34m\u001b[0m\u001b[0m\n",
      "\u001b[0;32mpandas/_libs/index.pyx\u001b[0m in \u001b[0;36mpandas._libs.index.IndexEngine.get_loc\u001b[0;34m()\u001b[0m\n",
      "\u001b[0;32mpandas/_libs/index.pyx\u001b[0m in \u001b[0;36mpandas._libs.index.IndexEngine.get_loc\u001b[0;34m()\u001b[0m\n",
      "\u001b[0;32mpandas/_libs/hashtable_class_helper.pxi\u001b[0m in \u001b[0;36mpandas._libs.hashtable.PyObjectHashTable.get_item\u001b[0;34m()\u001b[0m\n",
      "\u001b[0;32mpandas/_libs/hashtable_class_helper.pxi\u001b[0m in \u001b[0;36mpandas._libs.hashtable.PyObjectHashTable.get_item\u001b[0;34m()\u001b[0m\n",
      "\u001b[0;31mKeyError\u001b[0m: 'l_region'",
      "\nThe above exception was the direct cause of the following exception:\n",
      "\u001b[0;31mKeyError\u001b[0m                                  Traceback (most recent call last)",
      "\u001b[0;32m<ipython-input-42-55e9c432986b>\u001b[0m in \u001b[0;36m<module>\u001b[0;34m\u001b[0m\n\u001b[0;32m----> 1\u001b[0;31m \u001b[0mprint\u001b[0m\u001b[0;34m(\u001b[0m\u001b[0mlicenses_df\u001b[0m\u001b[0;34m[\u001b[0m\u001b[0;34m'l_region'\u001b[0m\u001b[0;34m]\u001b[0m\u001b[0;34m.\u001b[0m\u001b[0mvalue_counts\u001b[0m\u001b[0;34m(\u001b[0m\u001b[0;34m)\u001b[0m\u001b[0;34m)\u001b[0m \u001b[0;31m#getting value counts for each region in region column\u001b[0m\u001b[0;34m\u001b[0m\u001b[0;34m\u001b[0m\u001b[0m\n\u001b[0m\u001b[1;32m      2\u001b[0m \u001b[0mprint\u001b[0m\u001b[0;34m(\u001b[0m\u001b[0;34m'---------------'\u001b[0m\u001b[0;34m)\u001b[0m\u001b[0;34m\u001b[0m\u001b[0;34m\u001b[0m\u001b[0m\n\u001b[1;32m      3\u001b[0m \u001b[0mprint\u001b[0m\u001b[0;34m(\u001b[0m\u001b[0mlicenses_df\u001b[0m\u001b[0;34m[\u001b[0m\u001b[0;34m'l_region'\u001b[0m\u001b[0;34m]\u001b[0m\u001b[0;34m.\u001b[0m\u001b[0mvalue_counts\u001b[0m\u001b[0;34m(\u001b[0m\u001b[0;34m)\u001b[0m\u001b[0;34m.\u001b[0m\u001b[0msum\u001b[0m\u001b[0;34m(\u001b[0m\u001b[0;34m)\u001b[0m\u001b[0;34m)\u001b[0m \u001b[0;31m#adding regions\u001b[0m\u001b[0;34m\u001b[0m\u001b[0;34m\u001b[0m\u001b[0m\n\u001b[1;32m      4\u001b[0m \u001b[0mprint\u001b[0m\u001b[0;34m(\u001b[0m\u001b[0;34m'---------------'\u001b[0m\u001b[0;34m)\u001b[0m\u001b[0;34m\u001b[0m\u001b[0;34m\u001b[0m\u001b[0m\n\u001b[1;32m      5\u001b[0m \u001b[0mprint\u001b[0m\u001b[0;34m(\u001b[0m\u001b[0mlicenses_df\u001b[0m\u001b[0;34m.\u001b[0m\u001b[0mshape\u001b[0m\u001b[0;34m)\u001b[0m \u001b[0;31m# confirming number of regions add up to total\u001b[0m\u001b[0;34m\u001b[0m\u001b[0;34m\u001b[0m\u001b[0m\n",
      "\u001b[0;32m~/anaconda3/lib/python3.8/site-packages/pandas/core/frame.py\u001b[0m in \u001b[0;36m__getitem__\u001b[0;34m(self, key)\u001b[0m\n\u001b[1;32m   2900\u001b[0m             \u001b[0;32mif\u001b[0m \u001b[0mself\u001b[0m\u001b[0;34m.\u001b[0m\u001b[0mcolumns\u001b[0m\u001b[0;34m.\u001b[0m\u001b[0mnlevels\u001b[0m \u001b[0;34m>\u001b[0m \u001b[0;36m1\u001b[0m\u001b[0;34m:\u001b[0m\u001b[0;34m\u001b[0m\u001b[0;34m\u001b[0m\u001b[0m\n\u001b[1;32m   2901\u001b[0m                 \u001b[0;32mreturn\u001b[0m \u001b[0mself\u001b[0m\u001b[0;34m.\u001b[0m\u001b[0m_getitem_multilevel\u001b[0m\u001b[0;34m(\u001b[0m\u001b[0mkey\u001b[0m\u001b[0;34m)\u001b[0m\u001b[0;34m\u001b[0m\u001b[0;34m\u001b[0m\u001b[0m\n\u001b[0;32m-> 2902\u001b[0;31m             \u001b[0mindexer\u001b[0m \u001b[0;34m=\u001b[0m \u001b[0mself\u001b[0m\u001b[0;34m.\u001b[0m\u001b[0mcolumns\u001b[0m\u001b[0;34m.\u001b[0m\u001b[0mget_loc\u001b[0m\u001b[0;34m(\u001b[0m\u001b[0mkey\u001b[0m\u001b[0;34m)\u001b[0m\u001b[0;34m\u001b[0m\u001b[0;34m\u001b[0m\u001b[0m\n\u001b[0m\u001b[1;32m   2903\u001b[0m             \u001b[0;32mif\u001b[0m \u001b[0mis_integer\u001b[0m\u001b[0;34m(\u001b[0m\u001b[0mindexer\u001b[0m\u001b[0;34m)\u001b[0m\u001b[0;34m:\u001b[0m\u001b[0;34m\u001b[0m\u001b[0;34m\u001b[0m\u001b[0m\n\u001b[1;32m   2904\u001b[0m                 \u001b[0mindexer\u001b[0m \u001b[0;34m=\u001b[0m \u001b[0;34m[\u001b[0m\u001b[0mindexer\u001b[0m\u001b[0;34m]\u001b[0m\u001b[0;34m\u001b[0m\u001b[0;34m\u001b[0m\u001b[0m\n",
      "\u001b[0;32m~/anaconda3/lib/python3.8/site-packages/pandas/core/indexes/base.py\u001b[0m in \u001b[0;36mget_loc\u001b[0;34m(self, key, method, tolerance)\u001b[0m\n\u001b[1;32m   2895\u001b[0m                 \u001b[0;32mreturn\u001b[0m \u001b[0mself\u001b[0m\u001b[0;34m.\u001b[0m\u001b[0m_engine\u001b[0m\u001b[0;34m.\u001b[0m\u001b[0mget_loc\u001b[0m\u001b[0;34m(\u001b[0m\u001b[0mcasted_key\u001b[0m\u001b[0;34m)\u001b[0m\u001b[0;34m\u001b[0m\u001b[0;34m\u001b[0m\u001b[0m\n\u001b[1;32m   2896\u001b[0m             \u001b[0;32mexcept\u001b[0m \u001b[0mKeyError\u001b[0m \u001b[0;32mas\u001b[0m \u001b[0merr\u001b[0m\u001b[0;34m:\u001b[0m\u001b[0;34m\u001b[0m\u001b[0;34m\u001b[0m\u001b[0m\n\u001b[0;32m-> 2897\u001b[0;31m                 \u001b[0;32mraise\u001b[0m \u001b[0mKeyError\u001b[0m\u001b[0;34m(\u001b[0m\u001b[0mkey\u001b[0m\u001b[0;34m)\u001b[0m \u001b[0;32mfrom\u001b[0m \u001b[0merr\u001b[0m\u001b[0;34m\u001b[0m\u001b[0;34m\u001b[0m\u001b[0m\n\u001b[0m\u001b[1;32m   2898\u001b[0m \u001b[0;34m\u001b[0m\u001b[0m\n\u001b[1;32m   2899\u001b[0m         \u001b[0;32mif\u001b[0m \u001b[0mtolerance\u001b[0m \u001b[0;32mis\u001b[0m \u001b[0;32mnot\u001b[0m \u001b[0;32mNone\u001b[0m\u001b[0;34m:\u001b[0m\u001b[0;34m\u001b[0m\u001b[0;34m\u001b[0m\u001b[0m\n",
      "\u001b[0;31mKeyError\u001b[0m: 'l_region'"
     ]
    }
   ],
   "source": [
    "print(licenses_df['l_region'].value_counts()) #getting value counts for each region in region column\n",
    "print('---------------')\n",
    "print(licenses_df['l_region'].value_counts().sum()) #adding regions \n",
    "print('---------------')\n",
    "print(licenses_df.shape) # confirming number of regions add up to total"
   ]
  },
  {
   "cell_type": "markdown",
   "metadata": {},
   "source": [
    "#### 10a. Data formats\n",
    "Is the License data in long or wide format? How about the Accident data? And why?"
   ]
  },
  {
   "cell_type": "code",
   "execution_count": 45,
   "metadata": {},
   "outputs": [],
   "source": [
    "#both are in long format since each row contains one measure for the given variable or subject."
   ]
  },
  {
   "cell_type": "markdown",
   "metadata": {},
   "source": [
    "#### 10b. Changing formats\n",
    "Which format would work best for both dataframes? Transform the datasets to the same format before merging in the next task."
   ]
  },
  {
   "cell_type": "code",
   "execution_count": 46,
   "metadata": {},
   "outputs": [],
   "source": [
    "# wide format would work best. this way, each row will contain all mesures for a particular subject"
   ]
  },
  {
   "cell_type": "code",
   "execution_count": null,
   "metadata": {},
   "outputs": [],
   "source": []
  },
  {
   "cell_type": "markdown",
   "metadata": {},
   "source": [
    "#### 11. Merge dataframes\n",
    "\n",
    "Join the Driving Licenses & Traffic Accidents dataframes using the **region** and **year** in each dataframe as the key. Assign this to a new variable. Which join should you use to preserve the most data?"
   ]
  },
  {
   "cell_type": "code",
   "execution_count": null,
   "metadata": {},
   "outputs": [],
   "source": []
  },
  {
   "cell_type": "code",
   "execution_count": 67,
   "metadata": {},
   "outputs": [],
   "source": [
    "#col_concat_df = pd.concat([licenses_df, accidents_df], axis=1)"
   ]
  },
  {
   "cell_type": "code",
   "execution_count": 68,
   "metadata": {
    "scrolled": true
   },
   "outputs": [
    {
     "data": {
      "text/html": [
       "<div>\n",
       "<style scoped>\n",
       "    .dataframe tbody tr th:only-of-type {\n",
       "        vertical-align: middle;\n",
       "    }\n",
       "\n",
       "    .dataframe tbody tr th {\n",
       "        vertical-align: top;\n",
       "    }\n",
       "\n",
       "    .dataframe thead th {\n",
       "        text-align: right;\n",
       "    }\n",
       "</style>\n",
       "<table border=\"1\" class=\"dataframe\">\n",
       "  <thead>\n",
       "    <tr style=\"text-align: right;\">\n",
       "      <th></th>\n",
       "      <th>l_year</th>\n",
       "      <th>l_region</th>\n",
       "      <th>l_count</th>\n",
       "      <th>l_geoloc_x</th>\n",
       "      <th>l_geoloc_y</th>\n",
       "      <th>a_year</th>\n",
       "      <th>a_region</th>\n",
       "      <th>a_casualties</th>\n",
       "      <th>a_count</th>\n",
       "      <th>a_geoloc_x</th>\n",
       "      <th>a_geoloc_y</th>\n",
       "    </tr>\n",
       "  </thead>\n",
       "  <tbody>\n",
       "    <tr>\n",
       "      <th>0</th>\n",
       "      <td>2012.0</td>\n",
       "      <td>Makkah</td>\n",
       "      <td>143954.0</td>\n",
       "      <td>21.628963</td>\n",
       "      <td>41.26369</td>\n",
       "      <td>2016.0</td>\n",
       "      <td>Makkah</td>\n",
       "      <td>No. of Casualties - Injured</td>\n",
       "      <td>12383.0</td>\n",
       "      <td>21.628963</td>\n",
       "      <td>41.263690</td>\n",
       "    </tr>\n",
       "    <tr>\n",
       "      <th>1</th>\n",
       "      <td>1994.0</td>\n",
       "      <td>Makkah</td>\n",
       "      <td>75349.0</td>\n",
       "      <td>21.628963</td>\n",
       "      <td>41.26369</td>\n",
       "      <td>2016.0</td>\n",
       "      <td>Eastern Region</td>\n",
       "      <td>No. of Casualties - Dead</td>\n",
       "      <td>1113.0</td>\n",
       "      <td>23.288331</td>\n",
       "      <td>50.147830</td>\n",
       "    </tr>\n",
       "    <tr>\n",
       "      <th>2</th>\n",
       "      <td>1998.0</td>\n",
       "      <td>Makkah</td>\n",
       "      <td>86082.0</td>\n",
       "      <td>21.628963</td>\n",
       "      <td>41.26369</td>\n",
       "      <td>2016.0</td>\n",
       "      <td>Tabouk</td>\n",
       "      <td>No. of Casualties - Dead</td>\n",
       "      <td>434.0</td>\n",
       "      <td>27.901655</td>\n",
       "      <td>37.259858</td>\n",
       "    </tr>\n",
       "    <tr>\n",
       "      <th>3</th>\n",
       "      <td>2004.0</td>\n",
       "      <td>Makkah</td>\n",
       "      <td>86636.0</td>\n",
       "      <td>21.628963</td>\n",
       "      <td>41.26369</td>\n",
       "      <td>2016.0</td>\n",
       "      <td>Hail</td>\n",
       "      <td>No. of Casualties - Dead</td>\n",
       "      <td>299.0</td>\n",
       "      <td>27.400846</td>\n",
       "      <td>41.440696</td>\n",
       "    </tr>\n",
       "    <tr>\n",
       "      <th>4</th>\n",
       "      <td>2005.0</td>\n",
       "      <td>Makkah</td>\n",
       "      <td>65099.0</td>\n",
       "      <td>21.628963</td>\n",
       "      <td>41.26369</td>\n",
       "      <td>2016.0</td>\n",
       "      <td>Hail</td>\n",
       "      <td>No. of Accidents</td>\n",
       "      <td>10199.0</td>\n",
       "      <td>27.400846</td>\n",
       "      <td>41.440696</td>\n",
       "    </tr>\n",
       "  </tbody>\n",
       "</table>\n",
       "</div>"
      ],
      "text/plain": [
       "   l_year l_region   l_count  l_geoloc_x  l_geoloc_y  a_year        a_region  \\\n",
       "0  2012.0   Makkah  143954.0   21.628963    41.26369  2016.0          Makkah   \n",
       "1  1994.0   Makkah   75349.0   21.628963    41.26369  2016.0  Eastern Region   \n",
       "2  1998.0   Makkah   86082.0   21.628963    41.26369  2016.0          Tabouk   \n",
       "3  2004.0   Makkah   86636.0   21.628963    41.26369  2016.0            Hail   \n",
       "4  2005.0   Makkah   65099.0   21.628963    41.26369  2016.0            Hail   \n",
       "\n",
       "                  a_casualties  a_count  a_geoloc_x  a_geoloc_y  \n",
       "0  No. of Casualties - Injured  12383.0   21.628963   41.263690  \n",
       "1     No. of Casualties - Dead   1113.0   23.288331   50.147830  \n",
       "2     No. of Casualties - Dead    434.0   27.901655   37.259858  \n",
       "3     No. of Casualties - Dead    299.0   27.400846   41.440696  \n",
       "4             No. of Accidents  10199.0   27.400846   41.440696  "
      ]
     },
     "execution_count": 68,
     "metadata": {},
     "output_type": "execute_result"
    }
   ],
   "source": [
    "#col_concat_df.head()"
   ]
  },
  {
   "cell_type": "code",
   "execution_count": 69,
   "metadata": {},
   "outputs": [
    {
     "data": {
      "text/plain": [
       "(331, 11)"
      ]
     },
     "execution_count": 69,
     "metadata": {},
     "output_type": "execute_result"
    }
   ],
   "source": [
    "#col_concat_df.shape"
   ]
  },
  {
   "cell_type": "code",
   "execution_count": 53,
   "metadata": {
    "scrolled": false
   },
   "outputs": [
    {
     "data": {
      "text/html": [
       "<div>\n",
       "<style scoped>\n",
       "    .dataframe tbody tr th:only-of-type {\n",
       "        vertical-align: middle;\n",
       "    }\n",
       "\n",
       "    .dataframe tbody tr th {\n",
       "        vertical-align: top;\n",
       "    }\n",
       "\n",
       "    .dataframe thead th {\n",
       "        text-align: right;\n",
       "    }\n",
       "</style>\n",
       "<table border=\"1\" class=\"dataframe\">\n",
       "  <thead>\n",
       "    <tr style=\"text-align: right;\">\n",
       "      <th></th>\n",
       "      <th>year</th>\n",
       "      <th>region</th>\n",
       "      <th>l_count</th>\n",
       "      <th>l_geoloc_x</th>\n",
       "      <th>l_geoloc_y</th>\n",
       "      <th>a_casualties</th>\n",
       "      <th>a_count</th>\n",
       "      <th>a_geoloc_x</th>\n",
       "      <th>a_geoloc_y</th>\n",
       "    </tr>\n",
       "  </thead>\n",
       "  <tbody>\n",
       "    <tr>\n",
       "      <th>0</th>\n",
       "      <td>2017</td>\n",
       "      <td>Hail</td>\n",
       "      <td>22035</td>\n",
       "      <td>27.400846</td>\n",
       "      <td>41.440696</td>\n",
       "      <td>No. of Casualties - Dead</td>\n",
       "      <td>265</td>\n",
       "      <td>27.400846</td>\n",
       "      <td>41.440696</td>\n",
       "    </tr>\n",
       "    <tr>\n",
       "      <th>1</th>\n",
       "      <td>2017</td>\n",
       "      <td>Hail</td>\n",
       "      <td>22035</td>\n",
       "      <td>27.400846</td>\n",
       "      <td>41.440696</td>\n",
       "      <td>No. of Accidents</td>\n",
       "      <td>9379</td>\n",
       "      <td>27.400846</td>\n",
       "      <td>41.440696</td>\n",
       "    </tr>\n",
       "    <tr>\n",
       "      <th>2</th>\n",
       "      <td>2017</td>\n",
       "      <td>Hail</td>\n",
       "      <td>22035</td>\n",
       "      <td>27.400846</td>\n",
       "      <td>41.440696</td>\n",
       "      <td>No. of Casualties - Injured</td>\n",
       "      <td>773</td>\n",
       "      <td>27.400846</td>\n",
       "      <td>41.440696</td>\n",
       "    </tr>\n",
       "    <tr>\n",
       "      <th>3</th>\n",
       "      <td>2017</td>\n",
       "      <td>Northern Boarder</td>\n",
       "      <td>5280</td>\n",
       "      <td>30.197075</td>\n",
       "      <td>41.817119</td>\n",
       "      <td>No. of Accidents</td>\n",
       "      <td>11540</td>\n",
       "      <td>30.197075</td>\n",
       "      <td>41.817119</td>\n",
       "    </tr>\n",
       "    <tr>\n",
       "      <th>4</th>\n",
       "      <td>2017</td>\n",
       "      <td>Northern Boarder</td>\n",
       "      <td>5280</td>\n",
       "      <td>30.197075</td>\n",
       "      <td>41.817119</td>\n",
       "      <td>No. of Casualties - Dead</td>\n",
       "      <td>112</td>\n",
       "      <td>30.197075</td>\n",
       "      <td>41.817119</td>\n",
       "    </tr>\n",
       "    <tr>\n",
       "      <th>5</th>\n",
       "      <td>2017</td>\n",
       "      <td>Northern Boarder</td>\n",
       "      <td>5280</td>\n",
       "      <td>30.197075</td>\n",
       "      <td>41.817119</td>\n",
       "      <td>No. of Casualties - Injured</td>\n",
       "      <td>374</td>\n",
       "      <td>30.197075</td>\n",
       "      <td>41.817119</td>\n",
       "    </tr>\n",
       "    <tr>\n",
       "      <th>6</th>\n",
       "      <td>2017</td>\n",
       "      <td>Tabouk</td>\n",
       "      <td>10232</td>\n",
       "      <td>27.901655</td>\n",
       "      <td>37.259858</td>\n",
       "      <td>No. of Accidents</td>\n",
       "      <td>11713</td>\n",
       "      <td>27.901655</td>\n",
       "      <td>37.259858</td>\n",
       "    </tr>\n",
       "    <tr>\n",
       "      <th>7</th>\n",
       "      <td>2017</td>\n",
       "      <td>Tabouk</td>\n",
       "      <td>10232</td>\n",
       "      <td>27.901655</td>\n",
       "      <td>37.259858</td>\n",
       "      <td>No. of Casualties - Injured</td>\n",
       "      <td>1243</td>\n",
       "      <td>27.901655</td>\n",
       "      <td>37.259858</td>\n",
       "    </tr>\n",
       "    <tr>\n",
       "      <th>8</th>\n",
       "      <td>2017</td>\n",
       "      <td>Tabouk</td>\n",
       "      <td>10232</td>\n",
       "      <td>27.901655</td>\n",
       "      <td>37.259858</td>\n",
       "      <td>No. of Casualties - Dead</td>\n",
       "      <td>348</td>\n",
       "      <td>27.901655</td>\n",
       "      <td>37.259858</td>\n",
       "    </tr>\n",
       "    <tr>\n",
       "      <th>9</th>\n",
       "      <td>2016</td>\n",
       "      <td>Northern Boarder</td>\n",
       "      <td>4958</td>\n",
       "      <td>30.197075</td>\n",
       "      <td>41.817119</td>\n",
       "      <td>No. of Casualties - Dead</td>\n",
       "      <td>193</td>\n",
       "      <td>30.197075</td>\n",
       "      <td>41.817119</td>\n",
       "    </tr>\n",
       "    <tr>\n",
       "      <th>10</th>\n",
       "      <td>2016</td>\n",
       "      <td>Northern Boarder</td>\n",
       "      <td>4958</td>\n",
       "      <td>30.197075</td>\n",
       "      <td>41.817119</td>\n",
       "      <td>No. of Casualties - Injured</td>\n",
       "      <td>631</td>\n",
       "      <td>30.197075</td>\n",
       "      <td>41.817119</td>\n",
       "    </tr>\n",
       "    <tr>\n",
       "      <th>11</th>\n",
       "      <td>2016</td>\n",
       "      <td>Northern Boarder</td>\n",
       "      <td>4958</td>\n",
       "      <td>30.197075</td>\n",
       "      <td>41.817119</td>\n",
       "      <td>No. of Accidents</td>\n",
       "      <td>13196</td>\n",
       "      <td>30.197075</td>\n",
       "      <td>41.817119</td>\n",
       "    </tr>\n",
       "    <tr>\n",
       "      <th>12</th>\n",
       "      <td>2016</td>\n",
       "      <td>Najran</td>\n",
       "      <td>2153</td>\n",
       "      <td>18.451100</td>\n",
       "      <td>46.868850</td>\n",
       "      <td>No. of Accidents</td>\n",
       "      <td>3235</td>\n",
       "      <td>18.451100</td>\n",
       "      <td>46.868850</td>\n",
       "    </tr>\n",
       "    <tr>\n",
       "      <th>13</th>\n",
       "      <td>2016</td>\n",
       "      <td>Najran</td>\n",
       "      <td>2153</td>\n",
       "      <td>18.451100</td>\n",
       "      <td>46.868850</td>\n",
       "      <td>No. of Casualties - Dead</td>\n",
       "      <td>173</td>\n",
       "      <td>18.451100</td>\n",
       "      <td>46.868850</td>\n",
       "    </tr>\n",
       "    <tr>\n",
       "      <th>14</th>\n",
       "      <td>2016</td>\n",
       "      <td>Najran</td>\n",
       "      <td>2153</td>\n",
       "      <td>18.451100</td>\n",
       "      <td>46.868850</td>\n",
       "      <td>No. of Casualties - Injured</td>\n",
       "      <td>706</td>\n",
       "      <td>18.451100</td>\n",
       "      <td>46.868850</td>\n",
       "    </tr>\n",
       "    <tr>\n",
       "      <th>15</th>\n",
       "      <td>2017</td>\n",
       "      <td>Makkah</td>\n",
       "      <td>142487</td>\n",
       "      <td>21.628963</td>\n",
       "      <td>41.263690</td>\n",
       "      <td>No. of Casualties - Injured</td>\n",
       "      <td>10623</td>\n",
       "      <td>21.628963</td>\n",
       "      <td>41.263690</td>\n",
       "    </tr>\n",
       "    <tr>\n",
       "      <th>16</th>\n",
       "      <td>2017</td>\n",
       "      <td>Makkah</td>\n",
       "      <td>142487</td>\n",
       "      <td>21.628963</td>\n",
       "      <td>41.263690</td>\n",
       "      <td>No. of Casualties - Dead</td>\n",
       "      <td>1641</td>\n",
       "      <td>21.628963</td>\n",
       "      <td>41.263690</td>\n",
       "    </tr>\n",
       "    <tr>\n",
       "      <th>17</th>\n",
       "      <td>2017</td>\n",
       "      <td>Makkah</td>\n",
       "      <td>142487</td>\n",
       "      <td>21.628963</td>\n",
       "      <td>41.263690</td>\n",
       "      <td>No. of Accidents</td>\n",
       "      <td>145541</td>\n",
       "      <td>21.628963</td>\n",
       "      <td>41.263690</td>\n",
       "    </tr>\n",
       "    <tr>\n",
       "      <th>18</th>\n",
       "      <td>2016</td>\n",
       "      <td>Makkah</td>\n",
       "      <td>136055</td>\n",
       "      <td>21.628963</td>\n",
       "      <td>41.263690</td>\n",
       "      <td>No. of Casualties - Injured</td>\n",
       "      <td>12383</td>\n",
       "      <td>21.628963</td>\n",
       "      <td>41.263690</td>\n",
       "    </tr>\n",
       "    <tr>\n",
       "      <th>19</th>\n",
       "      <td>2016</td>\n",
       "      <td>Makkah</td>\n",
       "      <td>136055</td>\n",
       "      <td>21.628963</td>\n",
       "      <td>41.263690</td>\n",
       "      <td>No. of Accidents</td>\n",
       "      <td>134838</td>\n",
       "      <td>21.628963</td>\n",
       "      <td>41.263690</td>\n",
       "    </tr>\n",
       "    <tr>\n",
       "      <th>20</th>\n",
       "      <td>2016</td>\n",
       "      <td>Makkah</td>\n",
       "      <td>136055</td>\n",
       "      <td>21.628963</td>\n",
       "      <td>41.263690</td>\n",
       "      <td>No. of Casualties - Dead</td>\n",
       "      <td>2243</td>\n",
       "      <td>21.628963</td>\n",
       "      <td>41.263690</td>\n",
       "    </tr>\n",
       "    <tr>\n",
       "      <th>21</th>\n",
       "      <td>2016</td>\n",
       "      <td>Madinah</td>\n",
       "      <td>24540</td>\n",
       "      <td>24.927535</td>\n",
       "      <td>39.491824</td>\n",
       "      <td>No. of Casualties - Dead</td>\n",
       "      <td>822</td>\n",
       "      <td>24.927535</td>\n",
       "      <td>39.491824</td>\n",
       "    </tr>\n",
       "    <tr>\n",
       "      <th>22</th>\n",
       "      <td>2016</td>\n",
       "      <td>Madinah</td>\n",
       "      <td>24540</td>\n",
       "      <td>24.927535</td>\n",
       "      <td>39.491824</td>\n",
       "      <td>No. of Accidents</td>\n",
       "      <td>14475</td>\n",
       "      <td>24.927535</td>\n",
       "      <td>39.491824</td>\n",
       "    </tr>\n",
       "    <tr>\n",
       "      <th>23</th>\n",
       "      <td>2016</td>\n",
       "      <td>Madinah</td>\n",
       "      <td>24540</td>\n",
       "      <td>24.927535</td>\n",
       "      <td>39.491824</td>\n",
       "      <td>No. of Casualties - Injured</td>\n",
       "      <td>4184</td>\n",
       "      <td>24.927535</td>\n",
       "      <td>39.491824</td>\n",
       "    </tr>\n",
       "    <tr>\n",
       "      <th>24</th>\n",
       "      <td>2016</td>\n",
       "      <td>Hail</td>\n",
       "      <td>54507</td>\n",
       "      <td>27.400846</td>\n",
       "      <td>41.440696</td>\n",
       "      <td>No. of Casualties - Dead</td>\n",
       "      <td>299</td>\n",
       "      <td>27.400846</td>\n",
       "      <td>41.440696</td>\n",
       "    </tr>\n",
       "    <tr>\n",
       "      <th>25</th>\n",
       "      <td>2016</td>\n",
       "      <td>Hail</td>\n",
       "      <td>54507</td>\n",
       "      <td>27.400846</td>\n",
       "      <td>41.440696</td>\n",
       "      <td>No. of Accidents</td>\n",
       "      <td>10199</td>\n",
       "      <td>27.400846</td>\n",
       "      <td>41.440696</td>\n",
       "    </tr>\n",
       "    <tr>\n",
       "      <th>26</th>\n",
       "      <td>2016</td>\n",
       "      <td>Hail</td>\n",
       "      <td>54507</td>\n",
       "      <td>27.400846</td>\n",
       "      <td>41.440696</td>\n",
       "      <td>No. of Casualties - Injured</td>\n",
       "      <td>932</td>\n",
       "      <td>27.400846</td>\n",
       "      <td>41.440696</td>\n",
       "    </tr>\n",
       "    <tr>\n",
       "      <th>27</th>\n",
       "      <td>2017</td>\n",
       "      <td>Najran</td>\n",
       "      <td>13825</td>\n",
       "      <td>18.451100</td>\n",
       "      <td>46.868850</td>\n",
       "      <td>No. of Casualties - Dead</td>\n",
       "      <td>194</td>\n",
       "      <td>18.451100</td>\n",
       "      <td>46.868850</td>\n",
       "    </tr>\n",
       "    <tr>\n",
       "      <th>28</th>\n",
       "      <td>2017</td>\n",
       "      <td>Najran</td>\n",
       "      <td>13825</td>\n",
       "      <td>18.451100</td>\n",
       "      <td>46.868850</td>\n",
       "      <td>No. of Accidents</td>\n",
       "      <td>3193</td>\n",
       "      <td>18.451100</td>\n",
       "      <td>46.868850</td>\n",
       "    </tr>\n",
       "    <tr>\n",
       "      <th>29</th>\n",
       "      <td>2017</td>\n",
       "      <td>Najran</td>\n",
       "      <td>13825</td>\n",
       "      <td>18.451100</td>\n",
       "      <td>46.868850</td>\n",
       "      <td>No. of Casualties - Injured</td>\n",
       "      <td>766</td>\n",
       "      <td>18.451100</td>\n",
       "      <td>46.868850</td>\n",
       "    </tr>\n",
       "    <tr>\n",
       "      <th>30</th>\n",
       "      <td>2017</td>\n",
       "      <td>Al-Jouf</td>\n",
       "      <td>8091</td>\n",
       "      <td>29.967745</td>\n",
       "      <td>39.557037</td>\n",
       "      <td>No. of Accidents</td>\n",
       "      <td>10469</td>\n",
       "      <td>29.967745</td>\n",
       "      <td>39.557037</td>\n",
       "    </tr>\n",
       "    <tr>\n",
       "      <th>31</th>\n",
       "      <td>2017</td>\n",
       "      <td>Al-Jouf</td>\n",
       "      <td>8091</td>\n",
       "      <td>29.967745</td>\n",
       "      <td>39.557037</td>\n",
       "      <td>No. of Casualties - Injured</td>\n",
       "      <td>862</td>\n",
       "      <td>29.967745</td>\n",
       "      <td>39.557037</td>\n",
       "    </tr>\n",
       "    <tr>\n",
       "      <th>32</th>\n",
       "      <td>2017</td>\n",
       "      <td>Al-Jouf</td>\n",
       "      <td>8091</td>\n",
       "      <td>29.967745</td>\n",
       "      <td>39.557037</td>\n",
       "      <td>No. of Casualties - Dead</td>\n",
       "      <td>240</td>\n",
       "      <td>29.967745</td>\n",
       "      <td>39.557037</td>\n",
       "    </tr>\n",
       "    <tr>\n",
       "      <th>33</th>\n",
       "      <td>2017</td>\n",
       "      <td>Madinah</td>\n",
       "      <td>36165</td>\n",
       "      <td>24.927535</td>\n",
       "      <td>39.491824</td>\n",
       "      <td>No. of Casualties - Dead</td>\n",
       "      <td>580</td>\n",
       "      <td>24.927535</td>\n",
       "      <td>39.491824</td>\n",
       "    </tr>\n",
       "    <tr>\n",
       "      <th>34</th>\n",
       "      <td>2017</td>\n",
       "      <td>Madinah</td>\n",
       "      <td>36165</td>\n",
       "      <td>24.927535</td>\n",
       "      <td>39.491824</td>\n",
       "      <td>No. of Casualties - Injured</td>\n",
       "      <td>2917</td>\n",
       "      <td>24.927535</td>\n",
       "      <td>39.491824</td>\n",
       "    </tr>\n",
       "    <tr>\n",
       "      <th>35</th>\n",
       "      <td>2017</td>\n",
       "      <td>Madinah</td>\n",
       "      <td>36165</td>\n",
       "      <td>24.927535</td>\n",
       "      <td>39.491824</td>\n",
       "      <td>No. of Accidents</td>\n",
       "      <td>16070</td>\n",
       "      <td>24.927535</td>\n",
       "      <td>39.491824</td>\n",
       "    </tr>\n",
       "    <tr>\n",
       "      <th>36</th>\n",
       "      <td>2017</td>\n",
       "      <td>Jazan</td>\n",
       "      <td>18345</td>\n",
       "      <td>17.207231</td>\n",
       "      <td>42.652581</td>\n",
       "      <td>No. of Accidents</td>\n",
       "      <td>22161</td>\n",
       "      <td>17.207231</td>\n",
       "      <td>42.652581</td>\n",
       "    </tr>\n",
       "    <tr>\n",
       "      <th>37</th>\n",
       "      <td>2017</td>\n",
       "      <td>Jazan</td>\n",
       "      <td>18345</td>\n",
       "      <td>17.207231</td>\n",
       "      <td>42.652581</td>\n",
       "      <td>No. of Casualties - Dead</td>\n",
       "      <td>466</td>\n",
       "      <td>17.207231</td>\n",
       "      <td>42.652581</td>\n",
       "    </tr>\n",
       "    <tr>\n",
       "      <th>38</th>\n",
       "      <td>2017</td>\n",
       "      <td>Jazan</td>\n",
       "      <td>18345</td>\n",
       "      <td>17.207231</td>\n",
       "      <td>42.652581</td>\n",
       "      <td>No. of Casualties - Injured</td>\n",
       "      <td>2207</td>\n",
       "      <td>17.207231</td>\n",
       "      <td>42.652581</td>\n",
       "    </tr>\n",
       "    <tr>\n",
       "      <th>39</th>\n",
       "      <td>2016</td>\n",
       "      <td>Jazan</td>\n",
       "      <td>11504</td>\n",
       "      <td>17.207231</td>\n",
       "      <td>42.652581</td>\n",
       "      <td>No. of Casualties - Dead</td>\n",
       "      <td>514</td>\n",
       "      <td>17.207231</td>\n",
       "      <td>42.652581</td>\n",
       "    </tr>\n",
       "    <tr>\n",
       "      <th>40</th>\n",
       "      <td>2016</td>\n",
       "      <td>Jazan</td>\n",
       "      <td>11504</td>\n",
       "      <td>17.207231</td>\n",
       "      <td>42.652581</td>\n",
       "      <td>No. of Casualties - Injured</td>\n",
       "      <td>2259</td>\n",
       "      <td>17.207231</td>\n",
       "      <td>42.652581</td>\n",
       "    </tr>\n",
       "    <tr>\n",
       "      <th>41</th>\n",
       "      <td>2016</td>\n",
       "      <td>Jazan</td>\n",
       "      <td>11504</td>\n",
       "      <td>17.207231</td>\n",
       "      <td>42.652581</td>\n",
       "      <td>No. of Accidents</td>\n",
       "      <td>25873</td>\n",
       "      <td>17.207231</td>\n",
       "      <td>42.652581</td>\n",
       "    </tr>\n",
       "    <tr>\n",
       "      <th>42</th>\n",
       "      <td>2017</td>\n",
       "      <td>Riyadh</td>\n",
       "      <td>495307</td>\n",
       "      <td>23.081434</td>\n",
       "      <td>45.585751</td>\n",
       "      <td>No. of Accidents</td>\n",
       "      <td>99925</td>\n",
       "      <td>23.081434</td>\n",
       "      <td>45.585751</td>\n",
       "    </tr>\n",
       "    <tr>\n",
       "      <th>43</th>\n",
       "      <td>2017</td>\n",
       "      <td>Riyadh</td>\n",
       "      <td>495307</td>\n",
       "      <td>23.081434</td>\n",
       "      <td>45.585751</td>\n",
       "      <td>No. of Casualties - Injured</td>\n",
       "      <td>4540</td>\n",
       "      <td>23.081434</td>\n",
       "      <td>45.585751</td>\n",
       "    </tr>\n",
       "    <tr>\n",
       "      <th>44</th>\n",
       "      <td>2017</td>\n",
       "      <td>Riyadh</td>\n",
       "      <td>495307</td>\n",
       "      <td>23.081434</td>\n",
       "      <td>45.585751</td>\n",
       "      <td>No. of Casualties - Dead</td>\n",
       "      <td>1399</td>\n",
       "      <td>23.081434</td>\n",
       "      <td>45.585751</td>\n",
       "    </tr>\n",
       "    <tr>\n",
       "      <th>45</th>\n",
       "      <td>2016</td>\n",
       "      <td>Riyadh</td>\n",
       "      <td>242851</td>\n",
       "      <td>23.081434</td>\n",
       "      <td>45.585751</td>\n",
       "      <td>No. of Casualties - Dead</td>\n",
       "      <td>1430</td>\n",
       "      <td>23.081434</td>\n",
       "      <td>45.585751</td>\n",
       "    </tr>\n",
       "    <tr>\n",
       "      <th>46</th>\n",
       "      <td>2016</td>\n",
       "      <td>Riyadh</td>\n",
       "      <td>242851</td>\n",
       "      <td>23.081434</td>\n",
       "      <td>45.585751</td>\n",
       "      <td>No. of Accidents</td>\n",
       "      <td>141736</td>\n",
       "      <td>23.081434</td>\n",
       "      <td>45.585751</td>\n",
       "    </tr>\n",
       "    <tr>\n",
       "      <th>47</th>\n",
       "      <td>2016</td>\n",
       "      <td>Riyadh</td>\n",
       "      <td>242851</td>\n",
       "      <td>23.081434</td>\n",
       "      <td>45.585751</td>\n",
       "      <td>No. of Casualties - Injured</td>\n",
       "      <td>4207</td>\n",
       "      <td>23.081434</td>\n",
       "      <td>45.585751</td>\n",
       "    </tr>\n",
       "    <tr>\n",
       "      <th>48</th>\n",
       "      <td>2016</td>\n",
       "      <td>Al-Jouf</td>\n",
       "      <td>9371</td>\n",
       "      <td>29.967745</td>\n",
       "      <td>39.557037</td>\n",
       "      <td>No. of Casualties - Injured</td>\n",
       "      <td>920</td>\n",
       "      <td>29.967745</td>\n",
       "      <td>39.557037</td>\n",
       "    </tr>\n",
       "    <tr>\n",
       "      <th>49</th>\n",
       "      <td>2016</td>\n",
       "      <td>Al-Jouf</td>\n",
       "      <td>9371</td>\n",
       "      <td>29.967745</td>\n",
       "      <td>39.557037</td>\n",
       "      <td>No. of Accidents</td>\n",
       "      <td>10212</td>\n",
       "      <td>29.967745</td>\n",
       "      <td>39.557037</td>\n",
       "    </tr>\n",
       "  </tbody>\n",
       "</table>\n",
       "</div>"
      ],
      "text/plain": [
       "    year            region  l_count  l_geoloc_x  l_geoloc_y  \\\n",
       "0   2017              Hail    22035   27.400846   41.440696   \n",
       "1   2017              Hail    22035   27.400846   41.440696   \n",
       "2   2017              Hail    22035   27.400846   41.440696   \n",
       "3   2017  Northern Boarder     5280   30.197075   41.817119   \n",
       "4   2017  Northern Boarder     5280   30.197075   41.817119   \n",
       "5   2017  Northern Boarder     5280   30.197075   41.817119   \n",
       "6   2017            Tabouk    10232   27.901655   37.259858   \n",
       "7   2017            Tabouk    10232   27.901655   37.259858   \n",
       "8   2017            Tabouk    10232   27.901655   37.259858   \n",
       "9   2016  Northern Boarder     4958   30.197075   41.817119   \n",
       "10  2016  Northern Boarder     4958   30.197075   41.817119   \n",
       "11  2016  Northern Boarder     4958   30.197075   41.817119   \n",
       "12  2016            Najran     2153   18.451100   46.868850   \n",
       "13  2016            Najran     2153   18.451100   46.868850   \n",
       "14  2016            Najran     2153   18.451100   46.868850   \n",
       "15  2017            Makkah   142487   21.628963   41.263690   \n",
       "16  2017            Makkah   142487   21.628963   41.263690   \n",
       "17  2017            Makkah   142487   21.628963   41.263690   \n",
       "18  2016            Makkah   136055   21.628963   41.263690   \n",
       "19  2016            Makkah   136055   21.628963   41.263690   \n",
       "20  2016            Makkah   136055   21.628963   41.263690   \n",
       "21  2016           Madinah    24540   24.927535   39.491824   \n",
       "22  2016           Madinah    24540   24.927535   39.491824   \n",
       "23  2016           Madinah    24540   24.927535   39.491824   \n",
       "24  2016              Hail    54507   27.400846   41.440696   \n",
       "25  2016              Hail    54507   27.400846   41.440696   \n",
       "26  2016              Hail    54507   27.400846   41.440696   \n",
       "27  2017            Najran    13825   18.451100   46.868850   \n",
       "28  2017            Najran    13825   18.451100   46.868850   \n",
       "29  2017            Najran    13825   18.451100   46.868850   \n",
       "30  2017           Al-Jouf     8091   29.967745   39.557037   \n",
       "31  2017           Al-Jouf     8091   29.967745   39.557037   \n",
       "32  2017           Al-Jouf     8091   29.967745   39.557037   \n",
       "33  2017           Madinah    36165   24.927535   39.491824   \n",
       "34  2017           Madinah    36165   24.927535   39.491824   \n",
       "35  2017           Madinah    36165   24.927535   39.491824   \n",
       "36  2017             Jazan    18345   17.207231   42.652581   \n",
       "37  2017             Jazan    18345   17.207231   42.652581   \n",
       "38  2017             Jazan    18345   17.207231   42.652581   \n",
       "39  2016             Jazan    11504   17.207231   42.652581   \n",
       "40  2016             Jazan    11504   17.207231   42.652581   \n",
       "41  2016             Jazan    11504   17.207231   42.652581   \n",
       "42  2017            Riyadh   495307   23.081434   45.585751   \n",
       "43  2017            Riyadh   495307   23.081434   45.585751   \n",
       "44  2017            Riyadh   495307   23.081434   45.585751   \n",
       "45  2016            Riyadh   242851   23.081434   45.585751   \n",
       "46  2016            Riyadh   242851   23.081434   45.585751   \n",
       "47  2016            Riyadh   242851   23.081434   45.585751   \n",
       "48  2016           Al-Jouf     9371   29.967745   39.557037   \n",
       "49  2016           Al-Jouf     9371   29.967745   39.557037   \n",
       "\n",
       "                   a_casualties  a_count  a_geoloc_x  a_geoloc_y  \n",
       "0      No. of Casualties - Dead      265   27.400846   41.440696  \n",
       "1              No. of Accidents     9379   27.400846   41.440696  \n",
       "2   No. of Casualties - Injured      773   27.400846   41.440696  \n",
       "3              No. of Accidents    11540   30.197075   41.817119  \n",
       "4      No. of Casualties - Dead      112   30.197075   41.817119  \n",
       "5   No. of Casualties - Injured      374   30.197075   41.817119  \n",
       "6              No. of Accidents    11713   27.901655   37.259858  \n",
       "7   No. of Casualties - Injured     1243   27.901655   37.259858  \n",
       "8      No. of Casualties - Dead      348   27.901655   37.259858  \n",
       "9      No. of Casualties - Dead      193   30.197075   41.817119  \n",
       "10  No. of Casualties - Injured      631   30.197075   41.817119  \n",
       "11             No. of Accidents    13196   30.197075   41.817119  \n",
       "12             No. of Accidents     3235   18.451100   46.868850  \n",
       "13     No. of Casualties - Dead      173   18.451100   46.868850  \n",
       "14  No. of Casualties - Injured      706   18.451100   46.868850  \n",
       "15  No. of Casualties - Injured    10623   21.628963   41.263690  \n",
       "16     No. of Casualties - Dead     1641   21.628963   41.263690  \n",
       "17             No. of Accidents   145541   21.628963   41.263690  \n",
       "18  No. of Casualties - Injured    12383   21.628963   41.263690  \n",
       "19             No. of Accidents   134838   21.628963   41.263690  \n",
       "20     No. of Casualties - Dead     2243   21.628963   41.263690  \n",
       "21     No. of Casualties - Dead      822   24.927535   39.491824  \n",
       "22             No. of Accidents    14475   24.927535   39.491824  \n",
       "23  No. of Casualties - Injured     4184   24.927535   39.491824  \n",
       "24     No. of Casualties - Dead      299   27.400846   41.440696  \n",
       "25             No. of Accidents    10199   27.400846   41.440696  \n",
       "26  No. of Casualties - Injured      932   27.400846   41.440696  \n",
       "27     No. of Casualties - Dead      194   18.451100   46.868850  \n",
       "28             No. of Accidents     3193   18.451100   46.868850  \n",
       "29  No. of Casualties - Injured      766   18.451100   46.868850  \n",
       "30             No. of Accidents    10469   29.967745   39.557037  \n",
       "31  No. of Casualties - Injured      862   29.967745   39.557037  \n",
       "32     No. of Casualties - Dead      240   29.967745   39.557037  \n",
       "33     No. of Casualties - Dead      580   24.927535   39.491824  \n",
       "34  No. of Casualties - Injured     2917   24.927535   39.491824  \n",
       "35             No. of Accidents    16070   24.927535   39.491824  \n",
       "36             No. of Accidents    22161   17.207231   42.652581  \n",
       "37     No. of Casualties - Dead      466   17.207231   42.652581  \n",
       "38  No. of Casualties - Injured     2207   17.207231   42.652581  \n",
       "39     No. of Casualties - Dead      514   17.207231   42.652581  \n",
       "40  No. of Casualties - Injured     2259   17.207231   42.652581  \n",
       "41             No. of Accidents    25873   17.207231   42.652581  \n",
       "42             No. of Accidents    99925   23.081434   45.585751  \n",
       "43  No. of Casualties - Injured     4540   23.081434   45.585751  \n",
       "44     No. of Casualties - Dead     1399   23.081434   45.585751  \n",
       "45     No. of Casualties - Dead     1430   23.081434   45.585751  \n",
       "46             No. of Accidents   141736   23.081434   45.585751  \n",
       "47  No. of Casualties - Injured     4207   23.081434   45.585751  \n",
       "48  No. of Casualties - Injured      920   29.967745   39.557037  \n",
       "49             No. of Accidents    10212   29.967745   39.557037  "
      ]
     },
     "execution_count": 53,
     "metadata": {},
     "output_type": "execute_result"
    }
   ],
   "source": [
    "# this doesnt work cos col names are different i think\n",
    "\n",
    "inner_join = pd.merge(licenses_df,accidents_df,on=['year','region'], how='inner')\n",
    "inner_join.head(50) "
   ]
  },
  {
   "cell_type": "code",
   "execution_count": 53,
   "metadata": {},
   "outputs": [
    {
     "data": {
      "text/plain": [
       "(54, 9)"
      ]
     },
     "execution_count": 53,
     "metadata": {},
     "output_type": "execute_result"
    }
   ],
   "source": [
    "inner_join.shape"
   ]
  },
  {
   "cell_type": "code",
   "execution_count": 44,
   "metadata": {},
   "outputs": [
    {
     "data": {
      "image/png": "[encoded data removed]",
      "text/plain": [
       "<Figure size 432x288 with 1 Axes>"
      ]
     },
     "metadata": {
      "image/png": {
       "height": 276,
       "width": 407
      },
      "needs_background": "light"
     },
     "output_type": "display_data"
    }
   ],
   "source": [
    "plt.scatter(inner_join.l_count, inner_join.a_count)\n",
    "plt.xlabel('GRE')\n",
    "plt.ylabel('GPA');\n",
    "plt.title('My plotting Example');"
   ]
  },
  {
   "cell_type": "code",
   "execution_count": 50,
   "metadata": {},
   "outputs": [
    {
     "data": {
      "image/png": "[encoded data removed]",
      "text/plain": [
       "<Figure size 432x288 with 1 Axes>"
      ]
     },
     "metadata": {
      "image/png": {
       "height": 276,
       "width": 403
      },
      "needs_background": "light"
     },
     "output_type": "display_data"
    }
   ],
   "source": [
    "plt.scatter(inner_join.a_count, inner_join.l_count)\n",
    "plt.xlabel('GRE')\n",
    "plt.ylabel('GPA');\n",
    "plt.title('My plotting Example');"
   ]
  },
  {
   "cell_type": "code",
   "execution_count": 52,
   "metadata": {},
   "outputs": [
    {
     "ename": "ValueError",
     "evalue": "You are trying to merge on int64 and object columns. If you wish to proceed you should use pd.concat",
     "output_type": "error",
     "traceback": [
      "\u001b[0;31m---------------------------------------------------------------------------\u001b[0m",
      "\u001b[0;31mValueError\u001b[0m                                Traceback (most recent call last)",
      "\u001b[0;32m<ipython-input-52-f625ce3ce22c>\u001b[0m in \u001b[0;36m<module>\u001b[0;34m\u001b[0m\n\u001b[0;32m----> 1\u001b[0;31m \u001b[0mpd\u001b[0m\u001b[0;34m.\u001b[0m\u001b[0mmerge\u001b[0m\u001b[0;34m(\u001b[0m\u001b[0mlicenses_df\u001b[0m\u001b[0;34m,\u001b[0m\u001b[0maccidents_df\u001b[0m\u001b[0;34m,\u001b[0m\u001b[0mleft_on\u001b[0m\u001b[0;34m=\u001b[0m\u001b[0;34m'l_year'\u001b[0m\u001b[0;34m,\u001b[0m\u001b[0mright_on\u001b[0m\u001b[0;34m=\u001b[0m\u001b[0;34m'a_region'\u001b[0m\u001b[0;34m)\u001b[0m\u001b[0;34m\u001b[0m\u001b[0;34m\u001b[0m\u001b[0m\n\u001b[0m",
      "\u001b[0;32m~/anaconda3/lib/python3.8/site-packages/pandas/core/reshape/merge.py\u001b[0m in \u001b[0;36mmerge\u001b[0;34m(left, right, how, on, left_on, right_on, left_index, right_index, sort, suffixes, copy, indicator, validate)\u001b[0m\n\u001b[1;32m     72\u001b[0m     \u001b[0mvalidate\u001b[0m\u001b[0;34m=\u001b[0m\u001b[0;32mNone\u001b[0m\u001b[0;34m,\u001b[0m\u001b[0;34m\u001b[0m\u001b[0;34m\u001b[0m\u001b[0m\n\u001b[1;32m     73\u001b[0m ) -> \"DataFrame\":\n\u001b[0;32m---> 74\u001b[0;31m     op = _MergeOperation(\n\u001b[0m\u001b[1;32m     75\u001b[0m         \u001b[0mleft\u001b[0m\u001b[0;34m,\u001b[0m\u001b[0;34m\u001b[0m\u001b[0;34m\u001b[0m\u001b[0m\n\u001b[1;32m     76\u001b[0m         \u001b[0mright\u001b[0m\u001b[0;34m,\u001b[0m\u001b[0;34m\u001b[0m\u001b[0;34m\u001b[0m\u001b[0m\n",
      "\u001b[0;32m~/anaconda3/lib/python3.8/site-packages/pandas/core/reshape/merge.py\u001b[0m in \u001b[0;36m__init__\u001b[0;34m(self, left, right, how, on, left_on, right_on, axis, left_index, right_index, sort, suffixes, copy, indicator, validate)\u001b[0m\n\u001b[1;32m    654\u001b[0m         \u001b[0;31m# validate the merge keys dtypes. We may need to coerce\u001b[0m\u001b[0;34m\u001b[0m\u001b[0;34m\u001b[0m\u001b[0;34m\u001b[0m\u001b[0m\n\u001b[1;32m    655\u001b[0m         \u001b[0;31m# to avoid incompatible dtypes\u001b[0m\u001b[0;34m\u001b[0m\u001b[0;34m\u001b[0m\u001b[0;34m\u001b[0m\u001b[0m\n\u001b[0;32m--> 656\u001b[0;31m         \u001b[0mself\u001b[0m\u001b[0;34m.\u001b[0m\u001b[0m_maybe_coerce_merge_keys\u001b[0m\u001b[0;34m(\u001b[0m\u001b[0;34m)\u001b[0m\u001b[0;34m\u001b[0m\u001b[0;34m\u001b[0m\u001b[0m\n\u001b[0m\u001b[1;32m    657\u001b[0m \u001b[0;34m\u001b[0m\u001b[0m\n\u001b[1;32m    658\u001b[0m         \u001b[0;31m# If argument passed to validate,\u001b[0m\u001b[0;34m\u001b[0m\u001b[0;34m\u001b[0m\u001b[0;34m\u001b[0m\u001b[0m\n",
      "\u001b[0;32m~/anaconda3/lib/python3.8/site-packages/pandas/core/reshape/merge.py\u001b[0m in \u001b[0;36m_maybe_coerce_merge_keys\u001b[0;34m(self)\u001b[0m\n\u001b[1;32m   1163\u001b[0m                     \u001b[0minferred_right\u001b[0m \u001b[0;32min\u001b[0m \u001b[0mstring_types\u001b[0m \u001b[0;32mand\u001b[0m \u001b[0minferred_left\u001b[0m \u001b[0;32mnot\u001b[0m \u001b[0;32min\u001b[0m \u001b[0mstring_types\u001b[0m\u001b[0;34m\u001b[0m\u001b[0;34m\u001b[0m\u001b[0m\n\u001b[1;32m   1164\u001b[0m                 ):\n\u001b[0;32m-> 1165\u001b[0;31m                     \u001b[0;32mraise\u001b[0m \u001b[0mValueError\u001b[0m\u001b[0;34m(\u001b[0m\u001b[0mmsg\u001b[0m\u001b[0;34m)\u001b[0m\u001b[0;34m\u001b[0m\u001b[0;34m\u001b[0m\u001b[0m\n\u001b[0m\u001b[1;32m   1166\u001b[0m \u001b[0;34m\u001b[0m\u001b[0m\n\u001b[1;32m   1167\u001b[0m             \u001b[0;31m# datetimelikes must match exactly\u001b[0m\u001b[0;34m\u001b[0m\u001b[0;34m\u001b[0m\u001b[0;34m\u001b[0m\u001b[0m\n",
      "\u001b[0;31mValueError\u001b[0m: You are trying to merge on int64 and object columns. If you wish to proceed you should use pd.concat"
     ]
    }
   ],
   "source": [
    "pd.merge(licenses_df,accidents_df,left_on='l_year',right_on='a_region')"
   ]
  },
  {
   "cell_type": "markdown",
   "metadata": {},
   "source": [
    "#### 12. Save your cleaned, merged dataframe\n",
    "\n",
    "Use a relative path to save out your data as `combined_datasets.csv`."
   ]
  },
  {
   "cell_type": "code",
   "execution_count": null,
   "metadata": {},
   "outputs": [],
   "source": [
    "#code"
   ]
  },
  {
   "cell_type": "markdown",
   "metadata": {},
   "source": [
    "## Exploratory Data Analysis\n",
    "\n",
    "\n",
    "### Summary Statistics\n",
    "Transpose the output of pandas `describe` method to create a quick overview of each numeric feature."
   ]
  },
  {
   "cell_type": "code",
   "execution_count": null,
   "metadata": {},
   "outputs": [],
   "source": [
    "#Code:"
   ]
  },
  {
   "cell_type": "markdown",
   "metadata": {},
   "source": [
    "#### Manually calculate standard deviation\n",
    "\n",
    "$$\\sigma = \\sqrt{\\frac{1}{n}\\sum_{i=1}^n(x_i - \\mu)^2}$$\n",
    "\n",
    "- Write a function to calculate standard deviation using the formula above"
   ]
  },
  {
   "cell_type": "code",
   "execution_count": null,
   "metadata": {},
   "outputs": [],
   "source": [
    "#code"
   ]
  },
  {
   "cell_type": "markdown",
   "metadata": {},
   "source": [
    "- Use a **dictionary comprehension** to apply your standard deviation function to each numeric column in the dataframe.  **No loops**  \n",
    "- Assign the output to variable `sd` as a dictionary where: \n",
    "    - Each column name is now a key \n",
    "    - That standard deviation of the column is the value \n",
    "     \n",
    "*Example Output :* `{'Driving_Licenses_x': 120, 'Traffic_Accidents_x': 120, ...}`"
   ]
  },
  {
   "cell_type": "code",
   "execution_count": null,
   "metadata": {},
   "outputs": [],
   "source": [
    "#Code:"
   ]
  },
  {
   "cell_type": "markdown",
   "metadata": {},
   "source": [
    "Do your manually calculated standard deviations match up with the output from pandas `describe`? What about numpy's `std` method?"
   ]
  },
  {
   "cell_type": "markdown",
   "metadata": {},
   "source": [
    "Answer:"
   ]
  },
  {
   "cell_type": "markdown",
   "metadata": {},
   "source": [
    "#### Investigate trends in the data\n",
    "Using sorting and/or masking (along with the `.head` method to not print our entire dataframe), consider the following questions:\n",
    "\n",
    "- Which regions have the highest and lowest Driving Licenses based on years (1993 - 2017)\n",
    "- Which regions have the highest and lowest mean Traffic Accidents numbers for years (2016 - 2017)\n",
    "- What are the regions that have more Driving Licenses issued in each year than the year average?\n",
    "- What are the regions that have more Traffic Accidents happened in each year than the year average?\n",
    "\n",
    "Based on what you've just observed, have you identified any regions that you're especially interested in? **Make a note of these and state *why* you think they're interesting**.\n",
    "\n",
    "**You should comment on your findings at each step in a markdown cell below your code block**. Make sure you include at least one example of sorting your dataframe by a column, and one example of using boolean filtering (i.e., masking) to select a subset of the dataframe."
   ]
  },
  {
   "cell_type": "code",
   "execution_count": null,
   "metadata": {},
   "outputs": [],
   "source": [
    "#code"
   ]
  },
  {
   "cell_type": "markdown",
   "metadata": {},
   "source": [
    "## Visualize the data\n",
    "\n",
    "There's not a magic bullet recommendation for the right number of plots to understand a given dataset, but visualizing your data is *always* a good idea. Not only does it allow you to quickly convey your findings (even if you have a non-technical audience), it will often reveal trends in your data that escaped you when you were looking only at numbers.\n",
    "\n",
    "Some recommendations on plotting:\n",
    "- Plots have titles\n",
    "- Plots have axis labels\n",
    "- Plots have appropriate tick labels\n",
    "- All text is legible in a plot\n",
    "- Plots demonstrate meaningful and valid relationships\n",
    "- Plots are interpreted to aid understanding\n",
    "\n",
    "There is such a thing as too many plots, and there are a *lot* of bad plots. You might make some! (But hopefully not with the guided prompts below)."
   ]
  },
  {
   "cell_type": "markdown",
   "metadata": {},
   "source": [
    "#### Use Seaborn's heatmap with pandas `.corr()` to visualize correlations between all numeric features\n",
    "\n",
    "Heatmaps are generally not appropriate for presentations, and should often be excluded from reports as they can be visually overwhelming. **However**, they can be extremely useful in identify relationships of potential interest (as well as identifying potential collinearity before modeling).\n",
    "\n",
    "*example*:\n",
    "```python\n",
    "sns.heatmap(df.corr())\n",
    "```\n",
    "\n",
    "Please take time to format your output, adding a title. Look through some of the additional arguments and options. (Axis labels aren't really necessary, as long as the title is informative)."
   ]
  },
  {
   "cell_type": "code",
   "execution_count": null,
   "metadata": {},
   "outputs": [],
   "source": []
  },
  {
   "cell_type": "markdown",
   "metadata": {},
   "source": [
    "#### Define a custom function to subplot histograms\n",
    "\n",
    "We should write a function that will take the names of 2+ columns and subplot histograms. While you can use pandas plotting or Seaborn here, matplotlib gives you greater control over all aspects of your plots.\n",
    "\n",
    "[Helpful Link for Plotting Multiple Figures](https://matplotlib.org/users/pyplot_tutorial.html#working-with-multiple-figures-and-axes)\n",
    "\n",
    "Here's some starter code:"
   ]
  },
  {
   "cell_type": "code",
   "execution_count": null,
   "metadata": {},
   "outputs": [],
   "source": [
    "def subplot_histograms(dataframe, list_of_columns, list_of_titles, list_of_xlabels):\n",
    "    nrows = int(np.ceil(len(list_of_columns)/2) # Makes sure you have enough rows\n",
    "    fig, ax = plt.subplots(nrows=nrows, ncols=2) # You'll want to specify your figsize\n",
    "    ax = ax.ravel() # Ravel turns a matrix into a vector, which is easier to iterate\n",
    "    for i, column in enumerate(list_of_columns): # Gives us an index value to get into all our lists\n",
    "        ax[i].hist(dataframe[column]) # feel free to add more settings\n",
    "        # Set titles, labels, etc here for each subplot"
   ]
  },
  {
   "cell_type": "markdown",
   "metadata": {},
   "source": [
    "#### Plot and interpret histograms \n",
    "For each of the following:\n",
    "- Driving Licenses number\n",
    "- Traffic Accidents number\n",
    "\n",
    "Please plot two additional histograms that will help with your understanding of the data"
   ]
  },
  {
   "cell_type": "code",
   "execution_count": null,
   "metadata": {},
   "outputs": [],
   "source": [
    "# Code"
   ]
  },
  {
   "cell_type": "markdown",
   "metadata": {},
   "source": [
    "#### Plot and interpret scatter plots\n",
    "\n",
    "For each of the following:\n",
    "- Driving Licenses vs. Traffic Accidents for 2017\n",
    "- Driving Licenses vs. Traffic Accidents for 2016\n",
    "- Driving Licenses for 2016 vs 2017\n",
    "- Traffic Accidents for 2016 vs 2017\n",
    "\n",
    "Plot the two variables against each other using matplotlib or Seaborn\n",
    "\n",
    "Your plots should show:\n",
    "- Two clearly labeled axes\n",
    "- A proper title\n",
    "- Using colors and symbols that are clear and unmistakable\n",
    "\n",
    "**Feel free to write a custom function, and subplot if you'd like.** Functions save both time and space.\n"
   ]
  },
  {
   "cell_type": "code",
   "execution_count": null,
   "metadata": {},
   "outputs": [],
   "source": [
    "# Code"
   ]
  },
  {
   "cell_type": "markdown",
   "metadata": {},
   "source": [
    "#### Plot and interpret boxplots\n",
    "\n",
    "For each numeric variable in the dataframe create a boxplot using Seaborn. Boxplots demonstrate central tendency and spread in variables. In a certain sense, these are somewhat redundant with histograms, but you may be better able to identify clear outliers or differences in IQR, etc.\n",
    "\n",
    "Multiple values can be plotted to a single boxplot as long as they are of the same relative scale (meaning they have similar min/max values).\n",
    "\n",
    "Each boxplot should:\n",
    "- Only include variables of a similar scale\n",
    "- Have clear labels for each variable\n",
    "- Have appropriate titles and labels"
   ]
  },
  {
   "cell_type": "code",
   "execution_count": null,
   "metadata": {},
   "outputs": [],
   "source": [
    "# Code"
   ]
  },
  {
   "cell_type": "markdown",
   "metadata": {},
   "source": [
    "#### Feel free to do additional plots below\n",
    "*(do research and choose your own chart types & variables)*\n",
    "\n",
    "Are there any additional trends or relationships you haven't explored? Was there something interesting you saw that you'd like to dive further into? It's likely that there are a few more plots you might want to generate to support your narrative and recommendations that you are building toward. **As always, make sure you're interpreting your plots as you go**."
   ]
  },
  {
   "cell_type": "code",
   "execution_count": null,
   "metadata": {},
   "outputs": [],
   "source": []
  },
  {
   "cell_type": "markdown",
   "metadata": {},
   "source": [
    "## Descriptive and Inferential Statistics"
   ]
  },
  {
   "cell_type": "markdown",
   "metadata": {},
   "source": [
    "#### Summarizing Distributions\n",
    "\n",
    "Above, we used pandas `describe` to provide quick summary statistics of our numeric columns. We also demonstrated many visual relationships.\n",
    "\n",
    "As data scientists, having a complete understanding of data is imperative prior to modeling.\n",
    "\n",
    "While we will continue to build our analytic tools, we know that measures of *central tendency*, *spread*, and *shape/skewness* provide a quick summary of distributions.\n",
    "\n",
    "For each variable in your data, summarize the underlying distributions (in words & statistics)\n",
    " - Be thorough in your verbal description of these distributions.\n",
    " - Be sure to back up these summaries with statistics."
   ]
  },
  {
   "cell_type": "markdown",
   "metadata": {},
   "source": [
    "Answers:"
   ]
  },
  {
   "cell_type": "markdown",
   "metadata": {},
   "source": [
    "#### We generally assuming that data we sample from a population will be normally distributed. Do we observe this trend?"
   ]
  },
  {
   "cell_type": "markdown",
   "metadata": {},
   "source": [
    "Answer:"
   ]
  },
  {
   "cell_type": "markdown",
   "metadata": {},
   "source": [
    "Does This Assumption Hold for:\n",
    "    - Driving Licenses\n",
    "    - Traffic Accidents\n",
    "Explain your answers for each distribution and how you think this will affect estimates made from these data."
   ]
  },
  {
   "cell_type": "markdown",
   "metadata": {},
   "source": [
    "Answer:"
   ]
  },
  {
   "cell_type": "markdown",
   "metadata": {},
   "source": [
    "#### Statistical Evaluation of Distributions \n",
    "\n",
    "**If you feel it's appropriate**, using methods we discussed in class, run hypothesis tests to compare variables of interest in our dataset. "
   ]
  },
  {
   "cell_type": "code",
   "execution_count": null,
   "metadata": {},
   "outputs": [],
   "source": [
    "# Code"
   ]
  },
  {
   "cell_type": "markdown",
   "metadata": {},
   "source": [
    "## Outside Research"
   ]
  },
  {
   "cell_type": "markdown",
   "metadata": {},
   "source": [
    "Based upon your observations, choose **three** regions that demonstrate interesting trends in the number of driving licenses and traffic accidents. Spend some time doing outside research on provincial and central policies that might influence these rates, and summarize your findings below. **Feel free to go back and create new plots that highlight these states of interest**. If you bring in any outside tables or charts, make sure you are explicit about having borrowed them. If you quote any text, make sure that it renders as being quoted. (Make sure that you cite your sources -- check with you local instructor for citation preferences)."
   ]
  },
  {
   "cell_type": "markdown",
   "metadata": {},
   "source": [
    "Answer:"
   ]
  },
  {
   "cell_type": "markdown",
   "metadata": {},
   "source": [
    "## Conclusions and Recommendations"
   ]
  },
  {
   "cell_type": "markdown",
   "metadata": {},
   "source": [
    "- Based on your exploration of the data, what are you key takeaways and recommendations?\n",
    "- Are there additional data you desire that would better inform your investigations?"
   ]
  },
  {
   "cell_type": "markdown",
   "metadata": {},
   "source": [
    "Answer:"
   ]
  }
 ],
 "metadata": {
  "anaconda-cloud": {},
  "kernelspec": {
   "display_name": "Python 3",
   "language": "python",
   "name": "python3"
  },
  "language_info": {
   "codemirror_mode": {
    "name": "ipython",
    "version": 3
   },
   "file_extension": ".py",
   "mimetype": "text/x-python",
   "name": "python",
   "nbconvert_exporter": "python",
   "pygments_lexer": "ipython3",
   "version": "3.8.5"
  }
 },
 "nbformat": 4,
 "nbformat_minor": 2
}
