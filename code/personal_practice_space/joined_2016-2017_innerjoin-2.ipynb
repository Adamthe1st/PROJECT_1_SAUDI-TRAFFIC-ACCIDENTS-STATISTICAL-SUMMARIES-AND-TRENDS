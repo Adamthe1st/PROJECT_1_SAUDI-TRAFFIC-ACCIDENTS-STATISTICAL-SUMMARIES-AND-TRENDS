{
 "cells": [
  {
   "cell_type": "code",
   "execution_count": 1,
   "metadata": {},
   "outputs": [],
   "source": [
    "# library imports\n",
    " \n",
    "import numpy as np\n",
    "import pandas as pd\n",
    "import matplotlib.pyplot as plt\n",
    "import seaborn as sns\n",
    "sns.set_style('whitegrid')\n",
    "%matplotlib inline\n",
    "\n",
    "#Setting display format to retina in matplotlib for better quality images.\n",
    "from IPython.display import set_matplotlib_formats\n",
    "set_matplotlib_formats('retina')"
   ]
  },
  {
   "cell_type": "code",
   "execution_count": 2,
   "metadata": {},
   "outputs": [],
   "source": [
    "combined_df = pd.read_csv('../data/combined_datasets.csv')\n",
    "accidents_df = pd.read_csv('../data/accidents_df.csv')\n",
    "licenses_df = pd.read_csv('../data/licenses_df.csv')"
   ]
  },
  {
   "cell_type": "code",
   "execution_count": 3,
   "metadata": {},
   "outputs": [],
   "source": [
    "accidents_df = accidents_df.drop(['Unnamed: 0'], axis=1)"
   ]
  },
  {
   "cell_type": "code",
   "execution_count": 4,
   "metadata": {},
   "outputs": [],
   "source": [
    "licenses_df = licenses_df.drop(['Unnamed: 0'], axis=1)"
   ]
  },
  {
   "cell_type": "code",
   "execution_count": 5,
   "metadata": {
    "scrolled": true
   },
   "outputs": [
    {
     "data": {
      "text/html": [
       "<div>\n",
       "<style scoped>\n",
       "    .dataframe tbody tr th:only-of-type {\n",
       "        vertical-align: middle;\n",
       "    }\n",
       "\n",
       "    .dataframe tbody tr th {\n",
       "        vertical-align: top;\n",
       "    }\n",
       "\n",
       "    .dataframe thead th {\n",
       "        text-align: right;\n",
       "    }\n",
       "</style>\n",
       "<table border=\"1\" class=\"dataframe\">\n",
       "  <thead>\n",
       "    <tr style=\"text-align: right;\">\n",
       "      <th></th>\n",
       "      <th>accident_year</th>\n",
       "      <th>region</th>\n",
       "      <th>accident_outcome</th>\n",
       "      <th>accident_count</th>\n",
       "      <th>x_point</th>\n",
       "      <th>y_point</th>\n",
       "    </tr>\n",
       "  </thead>\n",
       "  <tbody>\n",
       "    <tr>\n",
       "      <th>0</th>\n",
       "      <td>2016</td>\n",
       "      <td>Makkah</td>\n",
       "      <td>No. of Casualties - Injured</td>\n",
       "      <td>12383</td>\n",
       "      <td>21.628963</td>\n",
       "      <td>41.263690</td>\n",
       "    </tr>\n",
       "    <tr>\n",
       "      <th>1</th>\n",
       "      <td>2016</td>\n",
       "      <td>Eastern Region</td>\n",
       "      <td>No. of Casualties - Dead</td>\n",
       "      <td>1113</td>\n",
       "      <td>23.288331</td>\n",
       "      <td>50.147830</td>\n",
       "    </tr>\n",
       "    <tr>\n",
       "      <th>2</th>\n",
       "      <td>2016</td>\n",
       "      <td>Tabouk</td>\n",
       "      <td>No. of Casualties - Dead</td>\n",
       "      <td>434</td>\n",
       "      <td>27.901655</td>\n",
       "      <td>37.259858</td>\n",
       "    </tr>\n",
       "    <tr>\n",
       "      <th>3</th>\n",
       "      <td>2016</td>\n",
       "      <td>Hail</td>\n",
       "      <td>No. of Casualties - Dead</td>\n",
       "      <td>299</td>\n",
       "      <td>27.400846</td>\n",
       "      <td>41.440696</td>\n",
       "    </tr>\n",
       "    <tr>\n",
       "      <th>4</th>\n",
       "      <td>2016</td>\n",
       "      <td>Hail</td>\n",
       "      <td>No. of Accidents</td>\n",
       "      <td>10199</td>\n",
       "      <td>27.400846</td>\n",
       "      <td>41.440696</td>\n",
       "    </tr>\n",
       "  </tbody>\n",
       "</table>\n",
       "</div>"
      ],
      "text/plain": [
       "   accident_year          region             accident_outcome  accident_count  \\\n",
       "0           2016          Makkah  No. of Casualties - Injured           12383   \n",
       "1           2016  Eastern Region     No. of Casualties - Dead            1113   \n",
       "2           2016          Tabouk     No. of Casualties - Dead             434   \n",
       "3           2016            Hail     No. of Casualties - Dead             299   \n",
       "4           2016            Hail             No. of Accidents           10199   \n",
       "\n",
       "     x_point    y_point  \n",
       "0  21.628963  41.263690  \n",
       "1  23.288331  50.147830  \n",
       "2  27.901655  37.259858  \n",
       "3  27.400846  41.440696  \n",
       "4  27.400846  41.440696  "
      ]
     },
     "execution_count": 5,
     "metadata": {},
     "output_type": "execute_result"
    }
   ],
   "source": [
    "accidents_df.head()"
   ]
  },
  {
   "cell_type": "code",
   "execution_count": 6,
   "metadata": {},
   "outputs": [
    {
     "data": {
      "text/plain": [
       "Index(['accident_year', 'region', 'accident_outcome', 'accident_count',\n",
       "       'x_point', 'y_point'],\n",
       "      dtype='object')"
      ]
     },
     "execution_count": 6,
     "metadata": {},
     "output_type": "execute_result"
    }
   ],
   "source": [
    "accidents_df.columns"
   ]
  },
  {
   "cell_type": "code",
   "execution_count": 7,
   "metadata": {},
   "outputs": [],
   "source": [
    "# renaming columns in accidents_df using the dictionary method:\n",
    "\n",
    "accidents_df.rename(columns={\n",
    "        'accident_year':'year',            # a_year == accidents year\n",
    "        'region':'region',        # a_region == accidents region\n",
    "        'accident_outcome':'accident_outcome',    # Indicator == accident outcome\n",
    "        'accident_count':'accident_count',          # a_count == accidents count\n",
    "        'x_point':'x_point',           # a_geoloc_x == accidents geo location x\n",
    "        'y_point':'y_point'            # a_geoloc_y == accidents geo location y\n",
    "            }, inplace=True)"
   ]
  },
  {
   "cell_type": "code",
   "execution_count": 8,
   "metadata": {},
   "outputs": [
    {
     "data": {
      "text/html": [
       "<div>\n",
       "<style scoped>\n",
       "    .dataframe tbody tr th:only-of-type {\n",
       "        vertical-align: middle;\n",
       "    }\n",
       "\n",
       "    .dataframe tbody tr th {\n",
       "        vertical-align: top;\n",
       "    }\n",
       "\n",
       "    .dataframe thead th {\n",
       "        text-align: right;\n",
       "    }\n",
       "</style>\n",
       "<table border=\"1\" class=\"dataframe\">\n",
       "  <thead>\n",
       "    <tr style=\"text-align: right;\">\n",
       "      <th></th>\n",
       "      <th>year</th>\n",
       "      <th>region</th>\n",
       "      <th>accident_outcome</th>\n",
       "      <th>accident_count</th>\n",
       "      <th>x_point</th>\n",
       "      <th>y_point</th>\n",
       "    </tr>\n",
       "  </thead>\n",
       "  <tbody>\n",
       "    <tr>\n",
       "      <th>0</th>\n",
       "      <td>2016</td>\n",
       "      <td>Makkah</td>\n",
       "      <td>No. of Casualties - Injured</td>\n",
       "      <td>12383</td>\n",
       "      <td>21.628963</td>\n",
       "      <td>41.263690</td>\n",
       "    </tr>\n",
       "    <tr>\n",
       "      <th>1</th>\n",
       "      <td>2016</td>\n",
       "      <td>Eastern Region</td>\n",
       "      <td>No. of Casualties - Dead</td>\n",
       "      <td>1113</td>\n",
       "      <td>23.288331</td>\n",
       "      <td>50.147830</td>\n",
       "    </tr>\n",
       "    <tr>\n",
       "      <th>2</th>\n",
       "      <td>2016</td>\n",
       "      <td>Tabouk</td>\n",
       "      <td>No. of Casualties - Dead</td>\n",
       "      <td>434</td>\n",
       "      <td>27.901655</td>\n",
       "      <td>37.259858</td>\n",
       "    </tr>\n",
       "    <tr>\n",
       "      <th>3</th>\n",
       "      <td>2016</td>\n",
       "      <td>Hail</td>\n",
       "      <td>No. of Casualties - Dead</td>\n",
       "      <td>299</td>\n",
       "      <td>27.400846</td>\n",
       "      <td>41.440696</td>\n",
       "    </tr>\n",
       "    <tr>\n",
       "      <th>4</th>\n",
       "      <td>2016</td>\n",
       "      <td>Hail</td>\n",
       "      <td>No. of Accidents</td>\n",
       "      <td>10199</td>\n",
       "      <td>27.400846</td>\n",
       "      <td>41.440696</td>\n",
       "    </tr>\n",
       "  </tbody>\n",
       "</table>\n",
       "</div>"
      ],
      "text/plain": [
       "   year          region             accident_outcome  accident_count  \\\n",
       "0  2016          Makkah  No. of Casualties - Injured           12383   \n",
       "1  2016  Eastern Region     No. of Casualties - Dead            1113   \n",
       "2  2016          Tabouk     No. of Casualties - Dead             434   \n",
       "3  2016            Hail     No. of Casualties - Dead             299   \n",
       "4  2016            Hail             No. of Accidents           10199   \n",
       "\n",
       "     x_point    y_point  \n",
       "0  21.628963  41.263690  \n",
       "1  23.288331  50.147830  \n",
       "2  27.901655  37.259858  \n",
       "3  27.400846  41.440696  \n",
       "4  27.400846  41.440696  "
      ]
     },
     "execution_count": 8,
     "metadata": {},
     "output_type": "execute_result"
    }
   ],
   "source": [
    "accidents_df.head()"
   ]
  },
  {
   "cell_type": "code",
   "execution_count": 9,
   "metadata": {},
   "outputs": [
    {
     "data": {
      "text/plain": [
       "Index(['licese_year', 'region', 'license_count', 'x_point', 'y_point'], dtype='object')"
      ]
     },
     "execution_count": 9,
     "metadata": {},
     "output_type": "execute_result"
    }
   ],
   "source": [
    "licenses_df.columns"
   ]
  },
  {
   "cell_type": "code",
   "execution_count": 9,
   "metadata": {},
   "outputs": [],
   "source": [
    "# renaming columns in licenses_df using the dictionary method:\n",
    "\n",
    "licenses_df.rename(columns={\n",
    "        'licese_year':'year',                  # l_year == license year\n",
    "        'region':'region', # l_region == license region\n",
    "        'license_count':'license_count',      # l_count == licneses count\n",
    "        'x_point':'x_point',                 # l_geoloc_x == license geo location x\n",
    "        'y_point':'y_point'                  # l_geoloc_y == license geo location y\n",
    "            }, inplace=True)"
   ]
  },
  {
   "cell_type": "code",
   "execution_count": 10,
   "metadata": {},
   "outputs": [
    {
     "data": {
      "text/html": [
       "<div>\n",
       "<style scoped>\n",
       "    .dataframe tbody tr th:only-of-type {\n",
       "        vertical-align: middle;\n",
       "    }\n",
       "\n",
       "    .dataframe tbody tr th {\n",
       "        vertical-align: top;\n",
       "    }\n",
       "\n",
       "    .dataframe thead th {\n",
       "        text-align: right;\n",
       "    }\n",
       "</style>\n",
       "<table border=\"1\" class=\"dataframe\">\n",
       "  <thead>\n",
       "    <tr style=\"text-align: right;\">\n",
       "      <th></th>\n",
       "      <th>year</th>\n",
       "      <th>region</th>\n",
       "      <th>license_count</th>\n",
       "      <th>x_point</th>\n",
       "      <th>y_point</th>\n",
       "    </tr>\n",
       "  </thead>\n",
       "  <tbody>\n",
       "    <tr>\n",
       "      <th>0</th>\n",
       "      <td>2012</td>\n",
       "      <td>Makkah</td>\n",
       "      <td>143954</td>\n",
       "      <td>21.628963</td>\n",
       "      <td>41.26369</td>\n",
       "    </tr>\n",
       "    <tr>\n",
       "      <th>1</th>\n",
       "      <td>1994</td>\n",
       "      <td>Makkah</td>\n",
       "      <td>75349</td>\n",
       "      <td>21.628963</td>\n",
       "      <td>41.26369</td>\n",
       "    </tr>\n",
       "    <tr>\n",
       "      <th>2</th>\n",
       "      <td>1998</td>\n",
       "      <td>Makkah</td>\n",
       "      <td>86082</td>\n",
       "      <td>21.628963</td>\n",
       "      <td>41.26369</td>\n",
       "    </tr>\n",
       "    <tr>\n",
       "      <th>3</th>\n",
       "      <td>2004</td>\n",
       "      <td>Makkah</td>\n",
       "      <td>86636</td>\n",
       "      <td>21.628963</td>\n",
       "      <td>41.26369</td>\n",
       "    </tr>\n",
       "    <tr>\n",
       "      <th>4</th>\n",
       "      <td>2005</td>\n",
       "      <td>Makkah</td>\n",
       "      <td>65099</td>\n",
       "      <td>21.628963</td>\n",
       "      <td>41.26369</td>\n",
       "    </tr>\n",
       "  </tbody>\n",
       "</table>\n",
       "</div>"
      ],
      "text/plain": [
       "   year  region  license_count    x_point   y_point\n",
       "0  2012  Makkah         143954  21.628963  41.26369\n",
       "1  1994  Makkah          75349  21.628963  41.26369\n",
       "2  1998  Makkah          86082  21.628963  41.26369\n",
       "3  2004  Makkah          86636  21.628963  41.26369\n",
       "4  2005  Makkah          65099  21.628963  41.26369"
      ]
     },
     "execution_count": 10,
     "metadata": {},
     "output_type": "execute_result"
    }
   ],
   "source": [
    "licenses_df.head()"
   ]
  },
  {
   "cell_type": "code",
   "execution_count": 117,
   "metadata": {
    "scrolled": false
   },
   "outputs": [
    {
     "data": {
      "text/html": [
       "<div>\n",
       "<style scoped>\n",
       "    .dataframe tbody tr th:only-of-type {\n",
       "        vertical-align: middle;\n",
       "    }\n",
       "\n",
       "    .dataframe tbody tr th {\n",
       "        vertical-align: top;\n",
       "    }\n",
       "\n",
       "    .dataframe thead th {\n",
       "        text-align: right;\n",
       "    }\n",
       "</style>\n",
       "<table border=\"1\" class=\"dataframe\">\n",
       "  <thead>\n",
       "    <tr style=\"text-align: right;\">\n",
       "      <th></th>\n",
       "      <th>year</th>\n",
       "      <th>region</th>\n",
       "      <th>license_count</th>\n",
       "      <th>x_point_x</th>\n",
       "      <th>y_point_x</th>\n",
       "      <th>accident_outcome</th>\n",
       "      <th>accident_count</th>\n",
       "      <th>x_point_y</th>\n",
       "      <th>y_point_y</th>\n",
       "    </tr>\n",
       "  </thead>\n",
       "  <tbody>\n",
       "    <tr>\n",
       "      <th>0</th>\n",
       "      <td>2017</td>\n",
       "      <td>Hail</td>\n",
       "      <td>22035</td>\n",
       "      <td>27.400846</td>\n",
       "      <td>41.440696</td>\n",
       "      <td>No. of Casualties - Dead</td>\n",
       "      <td>265</td>\n",
       "      <td>27.400846</td>\n",
       "      <td>41.440696</td>\n",
       "    </tr>\n",
       "    <tr>\n",
       "      <th>1</th>\n",
       "      <td>2017</td>\n",
       "      <td>Hail</td>\n",
       "      <td>22035</td>\n",
       "      <td>27.400846</td>\n",
       "      <td>41.440696</td>\n",
       "      <td>No. of Accidents</td>\n",
       "      <td>9379</td>\n",
       "      <td>27.400846</td>\n",
       "      <td>41.440696</td>\n",
       "    </tr>\n",
       "    <tr>\n",
       "      <th>2</th>\n",
       "      <td>2017</td>\n",
       "      <td>Hail</td>\n",
       "      <td>22035</td>\n",
       "      <td>27.400846</td>\n",
       "      <td>41.440696</td>\n",
       "      <td>No. of Casualties - Injured</td>\n",
       "      <td>773</td>\n",
       "      <td>27.400846</td>\n",
       "      <td>41.440696</td>\n",
       "    </tr>\n",
       "    <tr>\n",
       "      <th>3</th>\n",
       "      <td>2017</td>\n",
       "      <td>Northern Boarder</td>\n",
       "      <td>5280</td>\n",
       "      <td>30.197075</td>\n",
       "      <td>41.817119</td>\n",
       "      <td>No. of Accidents</td>\n",
       "      <td>11540</td>\n",
       "      <td>30.197075</td>\n",
       "      <td>41.817119</td>\n",
       "    </tr>\n",
       "    <tr>\n",
       "      <th>4</th>\n",
       "      <td>2017</td>\n",
       "      <td>Northern Boarder</td>\n",
       "      <td>5280</td>\n",
       "      <td>30.197075</td>\n",
       "      <td>41.817119</td>\n",
       "      <td>No. of Casualties - Dead</td>\n",
       "      <td>112</td>\n",
       "      <td>30.197075</td>\n",
       "      <td>41.817119</td>\n",
       "    </tr>\n",
       "  </tbody>\n",
       "</table>\n",
       "</div>"
      ],
      "text/plain": [
       "   year            region  license_count  x_point_x  y_point_x  \\\n",
       "0  2017              Hail          22035  27.400846  41.440696   \n",
       "1  2017              Hail          22035  27.400846  41.440696   \n",
       "2  2017              Hail          22035  27.400846  41.440696   \n",
       "3  2017  Northern Boarder           5280  30.197075  41.817119   \n",
       "4  2017  Northern Boarder           5280  30.197075  41.817119   \n",
       "\n",
       "              accident_outcome  accident_count  x_point_y  y_point_y  \n",
       "0     No. of Casualties - Dead             265  27.400846  41.440696  \n",
       "1             No. of Accidents            9379  27.400846  41.440696  \n",
       "2  No. of Casualties - Injured             773  27.400846  41.440696  \n",
       "3             No. of Accidents           11540  30.197075  41.817119  \n",
       "4     No. of Casualties - Dead             112  30.197075  41.817119  "
      ]
     },
     "execution_count": 117,
     "metadata": {},
     "output_type": "execute_result"
    }
   ],
   "source": [
    "joined_df_2016_17 = pd.merge(licenses_df,accidents_df,on=['year','region'], how='inner')\n",
    "joined_df_2016_17.head()"
   ]
  },
  {
   "cell_type": "code",
   "execution_count": 16,
   "metadata": {},
   "outputs": [
    {
     "data": {
      "text/plain": [
       "(78, 9)"
      ]
     },
     "execution_count": 16,
     "metadata": {},
     "output_type": "execute_result"
    }
   ],
   "source": [
    "joined_df_2016_17.shape"
   ]
  },
  {
   "cell_type": "code",
   "execution_count": 17,
   "metadata": {},
   "outputs": [],
   "source": [
    "joined_df_2016_17.to_csv('../data/joined_df_2016_17.csv')"
   ]
  },
  {
   "cell_type": "code",
   "execution_count": 118,
   "metadata": {},
   "outputs": [
    {
     "data": {
      "text/html": [
       "<div>\n",
       "<style scoped>\n",
       "    .dataframe tbody tr th:only-of-type {\n",
       "        vertical-align: middle;\n",
       "    }\n",
       "\n",
       "    .dataframe tbody tr th {\n",
       "        vertical-align: top;\n",
       "    }\n",
       "\n",
       "    .dataframe thead th {\n",
       "        text-align: right;\n",
       "    }\n",
       "</style>\n",
       "<table border=\"1\" class=\"dataframe\">\n",
       "  <thead>\n",
       "    <tr style=\"text-align: right;\">\n",
       "      <th></th>\n",
       "      <th>year</th>\n",
       "      <th>region</th>\n",
       "      <th>license_count</th>\n",
       "      <th>x_point_x</th>\n",
       "      <th>y_point_x</th>\n",
       "      <th>accident_outcome</th>\n",
       "      <th>accident_count</th>\n",
       "      <th>x_point_y</th>\n",
       "      <th>y_point_y</th>\n",
       "    </tr>\n",
       "  </thead>\n",
       "  <tbody>\n",
       "    <tr>\n",
       "      <th>0</th>\n",
       "      <td>2017</td>\n",
       "      <td>Hail</td>\n",
       "      <td>22035</td>\n",
       "      <td>27.400846</td>\n",
       "      <td>41.440696</td>\n",
       "      <td>No. of Casualties - Dead</td>\n",
       "      <td>265</td>\n",
       "      <td>27.400846</td>\n",
       "      <td>41.440696</td>\n",
       "    </tr>\n",
       "    <tr>\n",
       "      <th>1</th>\n",
       "      <td>2017</td>\n",
       "      <td>Hail</td>\n",
       "      <td>22035</td>\n",
       "      <td>27.400846</td>\n",
       "      <td>41.440696</td>\n",
       "      <td>No. of Accidents</td>\n",
       "      <td>9379</td>\n",
       "      <td>27.400846</td>\n",
       "      <td>41.440696</td>\n",
       "    </tr>\n",
       "    <tr>\n",
       "      <th>2</th>\n",
       "      <td>2017</td>\n",
       "      <td>Hail</td>\n",
       "      <td>22035</td>\n",
       "      <td>27.400846</td>\n",
       "      <td>41.440696</td>\n",
       "      <td>No. of Casualties - Injured</td>\n",
       "      <td>773</td>\n",
       "      <td>27.400846</td>\n",
       "      <td>41.440696</td>\n",
       "    </tr>\n",
       "    <tr>\n",
       "      <th>3</th>\n",
       "      <td>2017</td>\n",
       "      <td>Northern Boarder</td>\n",
       "      <td>5280</td>\n",
       "      <td>30.197075</td>\n",
       "      <td>41.817119</td>\n",
       "      <td>No. of Accidents</td>\n",
       "      <td>11540</td>\n",
       "      <td>30.197075</td>\n",
       "      <td>41.817119</td>\n",
       "    </tr>\n",
       "    <tr>\n",
       "      <th>4</th>\n",
       "      <td>2017</td>\n",
       "      <td>Northern Boarder</td>\n",
       "      <td>5280</td>\n",
       "      <td>30.197075</td>\n",
       "      <td>41.817119</td>\n",
       "      <td>No. of Casualties - Dead</td>\n",
       "      <td>112</td>\n",
       "      <td>30.197075</td>\n",
       "      <td>41.817119</td>\n",
       "    </tr>\n",
       "    <tr>\n",
       "      <th>5</th>\n",
       "      <td>2017</td>\n",
       "      <td>Northern Boarder</td>\n",
       "      <td>5280</td>\n",
       "      <td>30.197075</td>\n",
       "      <td>41.817119</td>\n",
       "      <td>No. of Casualties - Injured</td>\n",
       "      <td>374</td>\n",
       "      <td>30.197075</td>\n",
       "      <td>41.817119</td>\n",
       "    </tr>\n",
       "    <tr>\n",
       "      <th>9</th>\n",
       "      <td>2017</td>\n",
       "      <td>Qassim</td>\n",
       "      <td>6318</td>\n",
       "      <td>26.196706</td>\n",
       "      <td>43.343000</td>\n",
       "      <td>No. of Accidents</td>\n",
       "      <td>22405</td>\n",
       "      <td>26.196706</td>\n",
       "      <td>43.343000</td>\n",
       "    </tr>\n",
       "    <tr>\n",
       "      <th>10</th>\n",
       "      <td>2017</td>\n",
       "      <td>Qassim</td>\n",
       "      <td>6318</td>\n",
       "      <td>26.196706</td>\n",
       "      <td>43.343000</td>\n",
       "      <td>No. of Casualties - Injured</td>\n",
       "      <td>1446</td>\n",
       "      <td>26.196706</td>\n",
       "      <td>43.343000</td>\n",
       "    </tr>\n",
       "    <tr>\n",
       "      <th>11</th>\n",
       "      <td>2017</td>\n",
       "      <td>Qassim</td>\n",
       "      <td>6318</td>\n",
       "      <td>26.196706</td>\n",
       "      <td>43.343000</td>\n",
       "      <td>No. of Casualties - Dead</td>\n",
       "      <td>319</td>\n",
       "      <td>26.196706</td>\n",
       "      <td>43.343000</td>\n",
       "    </tr>\n",
       "    <tr>\n",
       "      <th>12</th>\n",
       "      <td>2017</td>\n",
       "      <td>Eastern Region</td>\n",
       "      <td>126816</td>\n",
       "      <td>23.288331</td>\n",
       "      <td>50.147830</td>\n",
       "      <td>No. of Accidents</td>\n",
       "      <td>81433</td>\n",
       "      <td>23.288331</td>\n",
       "      <td>50.147830</td>\n",
       "    </tr>\n",
       "    <tr>\n",
       "      <th>13</th>\n",
       "      <td>2017</td>\n",
       "      <td>Eastern Region</td>\n",
       "      <td>126816</td>\n",
       "      <td>23.288331</td>\n",
       "      <td>50.147830</td>\n",
       "      <td>No. of Casualties - Dead</td>\n",
       "      <td>963</td>\n",
       "      <td>23.288331</td>\n",
       "      <td>50.147830</td>\n",
       "    </tr>\n",
       "    <tr>\n",
       "      <th>14</th>\n",
       "      <td>2017</td>\n",
       "      <td>Eastern Region</td>\n",
       "      <td>126816</td>\n",
       "      <td>23.288331</td>\n",
       "      <td>50.147830</td>\n",
       "      <td>No. of Casualties - Injured</td>\n",
       "      <td>4073</td>\n",
       "      <td>23.288331</td>\n",
       "      <td>50.147830</td>\n",
       "    </tr>\n",
       "    <tr>\n",
       "      <th>15</th>\n",
       "      <td>2017</td>\n",
       "      <td>Tabouk</td>\n",
       "      <td>10232</td>\n",
       "      <td>27.901655</td>\n",
       "      <td>37.259858</td>\n",
       "      <td>No. of Accidents</td>\n",
       "      <td>11713</td>\n",
       "      <td>27.901655</td>\n",
       "      <td>37.259858</td>\n",
       "    </tr>\n",
       "    <tr>\n",
       "      <th>16</th>\n",
       "      <td>2017</td>\n",
       "      <td>Tabouk</td>\n",
       "      <td>10232</td>\n",
       "      <td>27.901655</td>\n",
       "      <td>37.259858</td>\n",
       "      <td>No. of Casualties - Injured</td>\n",
       "      <td>1243</td>\n",
       "      <td>27.901655</td>\n",
       "      <td>37.259858</td>\n",
       "    </tr>\n",
       "    <tr>\n",
       "      <th>17</th>\n",
       "      <td>2017</td>\n",
       "      <td>Tabouk</td>\n",
       "      <td>10232</td>\n",
       "      <td>27.901655</td>\n",
       "      <td>37.259858</td>\n",
       "      <td>No. of Casualties - Dead</td>\n",
       "      <td>348</td>\n",
       "      <td>27.901655</td>\n",
       "      <td>37.259858</td>\n",
       "    </tr>\n",
       "    <tr>\n",
       "      <th>24</th>\n",
       "      <td>2017</td>\n",
       "      <td>Makkah</td>\n",
       "      <td>142487</td>\n",
       "      <td>21.628963</td>\n",
       "      <td>41.263690</td>\n",
       "      <td>No. of Casualties - Injured</td>\n",
       "      <td>10623</td>\n",
       "      <td>21.628963</td>\n",
       "      <td>41.263690</td>\n",
       "    </tr>\n",
       "    <tr>\n",
       "      <th>25</th>\n",
       "      <td>2017</td>\n",
       "      <td>Makkah</td>\n",
       "      <td>142487</td>\n",
       "      <td>21.628963</td>\n",
       "      <td>41.263690</td>\n",
       "      <td>No. of Casualties - Dead</td>\n",
       "      <td>1641</td>\n",
       "      <td>21.628963</td>\n",
       "      <td>41.263690</td>\n",
       "    </tr>\n",
       "    <tr>\n",
       "      <th>26</th>\n",
       "      <td>2017</td>\n",
       "      <td>Makkah</td>\n",
       "      <td>142487</td>\n",
       "      <td>21.628963</td>\n",
       "      <td>41.263690</td>\n",
       "      <td>No. of Accidents</td>\n",
       "      <td>145541</td>\n",
       "      <td>21.628963</td>\n",
       "      <td>41.263690</td>\n",
       "    </tr>\n",
       "    <tr>\n",
       "      <th>39</th>\n",
       "      <td>2017</td>\n",
       "      <td>Najran</td>\n",
       "      <td>13825</td>\n",
       "      <td>18.451100</td>\n",
       "      <td>46.868850</td>\n",
       "      <td>No. of Casualties - Dead</td>\n",
       "      <td>194</td>\n",
       "      <td>18.451100</td>\n",
       "      <td>46.868850</td>\n",
       "    </tr>\n",
       "    <tr>\n",
       "      <th>40</th>\n",
       "      <td>2017</td>\n",
       "      <td>Najran</td>\n",
       "      <td>13825</td>\n",
       "      <td>18.451100</td>\n",
       "      <td>46.868850</td>\n",
       "      <td>No. of Accidents</td>\n",
       "      <td>3193</td>\n",
       "      <td>18.451100</td>\n",
       "      <td>46.868850</td>\n",
       "    </tr>\n",
       "    <tr>\n",
       "      <th>41</th>\n",
       "      <td>2017</td>\n",
       "      <td>Najran</td>\n",
       "      <td>13825</td>\n",
       "      <td>18.451100</td>\n",
       "      <td>46.868850</td>\n",
       "      <td>No. of Casualties - Injured</td>\n",
       "      <td>766</td>\n",
       "      <td>18.451100</td>\n",
       "      <td>46.868850</td>\n",
       "    </tr>\n",
       "    <tr>\n",
       "      <th>42</th>\n",
       "      <td>2017</td>\n",
       "      <td>Al-Jouf</td>\n",
       "      <td>8091</td>\n",
       "      <td>29.967745</td>\n",
       "      <td>39.557037</td>\n",
       "      <td>No. of Accidents</td>\n",
       "      <td>10469</td>\n",
       "      <td>29.967745</td>\n",
       "      <td>39.557037</td>\n",
       "    </tr>\n",
       "    <tr>\n",
       "      <th>43</th>\n",
       "      <td>2017</td>\n",
       "      <td>Al-Jouf</td>\n",
       "      <td>8091</td>\n",
       "      <td>29.967745</td>\n",
       "      <td>39.557037</td>\n",
       "      <td>No. of Casualties - Injured</td>\n",
       "      <td>862</td>\n",
       "      <td>29.967745</td>\n",
       "      <td>39.557037</td>\n",
       "    </tr>\n",
       "    <tr>\n",
       "      <th>44</th>\n",
       "      <td>2017</td>\n",
       "      <td>Al-Jouf</td>\n",
       "      <td>8091</td>\n",
       "      <td>29.967745</td>\n",
       "      <td>39.557037</td>\n",
       "      <td>No. of Casualties - Dead</td>\n",
       "      <td>240</td>\n",
       "      <td>29.967745</td>\n",
       "      <td>39.557037</td>\n",
       "    </tr>\n",
       "    <tr>\n",
       "      <th>45</th>\n",
       "      <td>2017</td>\n",
       "      <td>Madinah</td>\n",
       "      <td>36165</td>\n",
       "      <td>24.927535</td>\n",
       "      <td>39.491824</td>\n",
       "      <td>No. of Casualties - Dead</td>\n",
       "      <td>580</td>\n",
       "      <td>24.927535</td>\n",
       "      <td>39.491824</td>\n",
       "    </tr>\n",
       "    <tr>\n",
       "      <th>46</th>\n",
       "      <td>2017</td>\n",
       "      <td>Madinah</td>\n",
       "      <td>36165</td>\n",
       "      <td>24.927535</td>\n",
       "      <td>39.491824</td>\n",
       "      <td>No. of Casualties - Injured</td>\n",
       "      <td>2917</td>\n",
       "      <td>24.927535</td>\n",
       "      <td>39.491824</td>\n",
       "    </tr>\n",
       "    <tr>\n",
       "      <th>47</th>\n",
       "      <td>2017</td>\n",
       "      <td>Madinah</td>\n",
       "      <td>36165</td>\n",
       "      <td>24.927535</td>\n",
       "      <td>39.491824</td>\n",
       "      <td>No. of Accidents</td>\n",
       "      <td>16070</td>\n",
       "      <td>24.927535</td>\n",
       "      <td>39.491824</td>\n",
       "    </tr>\n",
       "    <tr>\n",
       "      <th>51</th>\n",
       "      <td>2017</td>\n",
       "      <td>Asir</td>\n",
       "      <td>39133</td>\n",
       "      <td>19.138785</td>\n",
       "      <td>42.941470</td>\n",
       "      <td>No. of Accidents</td>\n",
       "      <td>25245</td>\n",
       "      <td>19.138785</td>\n",
       "      <td>42.941470</td>\n",
       "    </tr>\n",
       "    <tr>\n",
       "      <th>52</th>\n",
       "      <td>2017</td>\n",
       "      <td>Asir</td>\n",
       "      <td>39133</td>\n",
       "      <td>19.138785</td>\n",
       "      <td>42.941470</td>\n",
       "      <td>No. of Casualties - Dead</td>\n",
       "      <td>828</td>\n",
       "      <td>19.138785</td>\n",
       "      <td>42.941470</td>\n",
       "    </tr>\n",
       "    <tr>\n",
       "      <th>53</th>\n",
       "      <td>2017</td>\n",
       "      <td>Asir</td>\n",
       "      <td>39133</td>\n",
       "      <td>19.138785</td>\n",
       "      <td>42.941470</td>\n",
       "      <td>No. of Casualties - Injured</td>\n",
       "      <td>2368</td>\n",
       "      <td>19.138785</td>\n",
       "      <td>42.941470</td>\n",
       "    </tr>\n",
       "    <tr>\n",
       "      <th>57</th>\n",
       "      <td>2017</td>\n",
       "      <td>Jazan</td>\n",
       "      <td>18345</td>\n",
       "      <td>17.207231</td>\n",
       "      <td>42.652581</td>\n",
       "      <td>No. of Accidents</td>\n",
       "      <td>22161</td>\n",
       "      <td>17.207231</td>\n",
       "      <td>42.652581</td>\n",
       "    </tr>\n",
       "    <tr>\n",
       "      <th>58</th>\n",
       "      <td>2017</td>\n",
       "      <td>Jazan</td>\n",
       "      <td>18345</td>\n",
       "      <td>17.207231</td>\n",
       "      <td>42.652581</td>\n",
       "      <td>No. of Casualties - Dead</td>\n",
       "      <td>466</td>\n",
       "      <td>17.207231</td>\n",
       "      <td>42.652581</td>\n",
       "    </tr>\n",
       "    <tr>\n",
       "      <th>59</th>\n",
       "      <td>2017</td>\n",
       "      <td>Jazan</td>\n",
       "      <td>18345</td>\n",
       "      <td>17.207231</td>\n",
       "      <td>42.652581</td>\n",
       "      <td>No. of Casualties - Injured</td>\n",
       "      <td>2207</td>\n",
       "      <td>17.207231</td>\n",
       "      <td>42.652581</td>\n",
       "    </tr>\n",
       "    <tr>\n",
       "      <th>63</th>\n",
       "      <td>2017</td>\n",
       "      <td>Riyadh</td>\n",
       "      <td>495307</td>\n",
       "      <td>23.081434</td>\n",
       "      <td>45.585751</td>\n",
       "      <td>No. of Accidents</td>\n",
       "      <td>99925</td>\n",
       "      <td>23.081434</td>\n",
       "      <td>45.585751</td>\n",
       "    </tr>\n",
       "    <tr>\n",
       "      <th>64</th>\n",
       "      <td>2017</td>\n",
       "      <td>Riyadh</td>\n",
       "      <td>495307</td>\n",
       "      <td>23.081434</td>\n",
       "      <td>45.585751</td>\n",
       "      <td>No. of Casualties - Injured</td>\n",
       "      <td>4540</td>\n",
       "      <td>23.081434</td>\n",
       "      <td>45.585751</td>\n",
       "    </tr>\n",
       "    <tr>\n",
       "      <th>65</th>\n",
       "      <td>2017</td>\n",
       "      <td>Riyadh</td>\n",
       "      <td>495307</td>\n",
       "      <td>23.081434</td>\n",
       "      <td>45.585751</td>\n",
       "      <td>No. of Casualties - Dead</td>\n",
       "      <td>1399</td>\n",
       "      <td>23.081434</td>\n",
       "      <td>45.585751</td>\n",
       "    </tr>\n",
       "    <tr>\n",
       "      <th>69</th>\n",
       "      <td>2017</td>\n",
       "      <td>Al-Baha</td>\n",
       "      <td>4131</td>\n",
       "      <td>20.148406</td>\n",
       "      <td>41.466548</td>\n",
       "      <td>No. of Casualties - Dead</td>\n",
       "      <td>134</td>\n",
       "      <td>20.148406</td>\n",
       "      <td>41.466548</td>\n",
       "    </tr>\n",
       "    <tr>\n",
       "      <th>70</th>\n",
       "      <td>2017</td>\n",
       "      <td>Al-Baha</td>\n",
       "      <td>4131</td>\n",
       "      <td>20.148406</td>\n",
       "      <td>41.466548</td>\n",
       "      <td>No. of Accidents</td>\n",
       "      <td>1414</td>\n",
       "      <td>20.148406</td>\n",
       "      <td>41.466548</td>\n",
       "    </tr>\n",
       "    <tr>\n",
       "      <th>71</th>\n",
       "      <td>2017</td>\n",
       "      <td>Al-Baha</td>\n",
       "      <td>4131</td>\n",
       "      <td>20.148406</td>\n",
       "      <td>41.466548</td>\n",
       "      <td>No. of Casualties - Injured</td>\n",
       "      <td>1007</td>\n",
       "      <td>20.148406</td>\n",
       "      <td>41.466548</td>\n",
       "    </tr>\n",
       "  </tbody>\n",
       "</table>\n",
       "</div>"
      ],
      "text/plain": [
       "    year            region  license_count  x_point_x  y_point_x  \\\n",
       "0   2017              Hail          22035  27.400846  41.440696   \n",
       "1   2017              Hail          22035  27.400846  41.440696   \n",
       "2   2017              Hail          22035  27.400846  41.440696   \n",
       "3   2017  Northern Boarder           5280  30.197075  41.817119   \n",
       "4   2017  Northern Boarder           5280  30.197075  41.817119   \n",
       "5   2017  Northern Boarder           5280  30.197075  41.817119   \n",
       "9   2017            Qassim           6318  26.196706  43.343000   \n",
       "10  2017            Qassim           6318  26.196706  43.343000   \n",
       "11  2017            Qassim           6318  26.196706  43.343000   \n",
       "12  2017    Eastern Region         126816  23.288331  50.147830   \n",
       "13  2017    Eastern Region         126816  23.288331  50.147830   \n",
       "14  2017    Eastern Region         126816  23.288331  50.147830   \n",
       "15  2017            Tabouk          10232  27.901655  37.259858   \n",
       "16  2017            Tabouk          10232  27.901655  37.259858   \n",
       "17  2017            Tabouk          10232  27.901655  37.259858   \n",
       "24  2017            Makkah         142487  21.628963  41.263690   \n",
       "25  2017            Makkah         142487  21.628963  41.263690   \n",
       "26  2017            Makkah         142487  21.628963  41.263690   \n",
       "39  2017            Najran          13825  18.451100  46.868850   \n",
       "40  2017            Najran          13825  18.451100  46.868850   \n",
       "41  2017            Najran          13825  18.451100  46.868850   \n",
       "42  2017           Al-Jouf           8091  29.967745  39.557037   \n",
       "43  2017           Al-Jouf           8091  29.967745  39.557037   \n",
       "44  2017           Al-Jouf           8091  29.967745  39.557037   \n",
       "45  2017           Madinah          36165  24.927535  39.491824   \n",
       "46  2017           Madinah          36165  24.927535  39.491824   \n",
       "47  2017           Madinah          36165  24.927535  39.491824   \n",
       "51  2017              Asir          39133  19.138785  42.941470   \n",
       "52  2017              Asir          39133  19.138785  42.941470   \n",
       "53  2017              Asir          39133  19.138785  42.941470   \n",
       "57  2017             Jazan          18345  17.207231  42.652581   \n",
       "58  2017             Jazan          18345  17.207231  42.652581   \n",
       "59  2017             Jazan          18345  17.207231  42.652581   \n",
       "63  2017            Riyadh         495307  23.081434  45.585751   \n",
       "64  2017            Riyadh         495307  23.081434  45.585751   \n",
       "65  2017            Riyadh         495307  23.081434  45.585751   \n",
       "69  2017           Al-Baha           4131  20.148406  41.466548   \n",
       "70  2017           Al-Baha           4131  20.148406  41.466548   \n",
       "71  2017           Al-Baha           4131  20.148406  41.466548   \n",
       "\n",
       "               accident_outcome  accident_count  x_point_y  y_point_y  \n",
       "0      No. of Casualties - Dead             265  27.400846  41.440696  \n",
       "1              No. of Accidents            9379  27.400846  41.440696  \n",
       "2   No. of Casualties - Injured             773  27.400846  41.440696  \n",
       "3              No. of Accidents           11540  30.197075  41.817119  \n",
       "4      No. of Casualties - Dead             112  30.197075  41.817119  \n",
       "5   No. of Casualties - Injured             374  30.197075  41.817119  \n",
       "9              No. of Accidents           22405  26.196706  43.343000  \n",
       "10  No. of Casualties - Injured            1446  26.196706  43.343000  \n",
       "11     No. of Casualties - Dead             319  26.196706  43.343000  \n",
       "12             No. of Accidents           81433  23.288331  50.147830  \n",
       "13     No. of Casualties - Dead             963  23.288331  50.147830  \n",
       "14  No. of Casualties - Injured            4073  23.288331  50.147830  \n",
       "15             No. of Accidents           11713  27.901655  37.259858  \n",
       "16  No. of Casualties - Injured            1243  27.901655  37.259858  \n",
       "17     No. of Casualties - Dead             348  27.901655  37.259858  \n",
       "24  No. of Casualties - Injured           10623  21.628963  41.263690  \n",
       "25     No. of Casualties - Dead            1641  21.628963  41.263690  \n",
       "26             No. of Accidents          145541  21.628963  41.263690  \n",
       "39     No. of Casualties - Dead             194  18.451100  46.868850  \n",
       "40             No. of Accidents            3193  18.451100  46.868850  \n",
       "41  No. of Casualties - Injured             766  18.451100  46.868850  \n",
       "42             No. of Accidents           10469  29.967745  39.557037  \n",
       "43  No. of Casualties - Injured             862  29.967745  39.557037  \n",
       "44     No. of Casualties - Dead             240  29.967745  39.557037  \n",
       "45     No. of Casualties - Dead             580  24.927535  39.491824  \n",
       "46  No. of Casualties - Injured            2917  24.927535  39.491824  \n",
       "47             No. of Accidents           16070  24.927535  39.491824  \n",
       "51             No. of Accidents           25245  19.138785  42.941470  \n",
       "52     No. of Casualties - Dead             828  19.138785  42.941470  \n",
       "53  No. of Casualties - Injured            2368  19.138785  42.941470  \n",
       "57             No. of Accidents           22161  17.207231  42.652581  \n",
       "58     No. of Casualties - Dead             466  17.207231  42.652581  \n",
       "59  No. of Casualties - Injured            2207  17.207231  42.652581  \n",
       "63             No. of Accidents           99925  23.081434  45.585751  \n",
       "64  No. of Casualties - Injured            4540  23.081434  45.585751  \n",
       "65     No. of Casualties - Dead            1399  23.081434  45.585751  \n",
       "69     No. of Casualties - Dead             134  20.148406  41.466548  \n",
       "70             No. of Accidents            1414  20.148406  41.466548  \n",
       "71  No. of Casualties - Injured            1007  20.148406  41.466548  "
      ]
     },
     "execution_count": 118,
     "metadata": {},
     "output_type": "execute_result"
    }
   ],
   "source": [
    "#making separate df for 2017: to analyze accidents vs licenses in 2017 only\n",
    "\n",
    "df_2017 =joined_df_2016_17[(joined_df_2016_17['year']>2016)]\n",
    "df_2017.head(50)"
   ]
  },
  {
   "cell_type": "code",
   "execution_count": 49,
   "metadata": {},
   "outputs": [
    {
     "data": {
      "text/html": [
       "<div>\n",
       "<style scoped>\n",
       "    .dataframe tbody tr th:only-of-type {\n",
       "        vertical-align: middle;\n",
       "    }\n",
       "\n",
       "    .dataframe tbody tr th {\n",
       "        vertical-align: top;\n",
       "    }\n",
       "\n",
       "    .dataframe thead th {\n",
       "        text-align: right;\n",
       "    }\n",
       "</style>\n",
       "<table border=\"1\" class=\"dataframe\">\n",
       "  <thead>\n",
       "    <tr style=\"text-align: right;\">\n",
       "      <th></th>\n",
       "      <th>year</th>\n",
       "      <th>region</th>\n",
       "      <th>license_count</th>\n",
       "      <th>x_point_x</th>\n",
       "      <th>y_point_x</th>\n",
       "      <th>accident_outcome</th>\n",
       "      <th>accident_count</th>\n",
       "      <th>x_point_y</th>\n",
       "      <th>y_point_y</th>\n",
       "    </tr>\n",
       "  </thead>\n",
       "  <tbody>\n",
       "    <tr>\n",
       "      <th>6</th>\n",
       "      <td>2016</td>\n",
       "      <td>Al-Baha</td>\n",
       "      <td>4614</td>\n",
       "      <td>20.148406</td>\n",
       "      <td>41.466548</td>\n",
       "      <td>No. of Casualties - Injured</td>\n",
       "      <td>1227</td>\n",
       "      <td>20.148406</td>\n",
       "      <td>41.466548</td>\n",
       "    </tr>\n",
       "    <tr>\n",
       "      <th>7</th>\n",
       "      <td>2016</td>\n",
       "      <td>Al-Baha</td>\n",
       "      <td>4614</td>\n",
       "      <td>20.148406</td>\n",
       "      <td>41.466548</td>\n",
       "      <td>No. of Casualties - Dead</td>\n",
       "      <td>185</td>\n",
       "      <td>20.148406</td>\n",
       "      <td>41.466548</td>\n",
       "    </tr>\n",
       "    <tr>\n",
       "      <th>8</th>\n",
       "      <td>2016</td>\n",
       "      <td>Al-Baha</td>\n",
       "      <td>4614</td>\n",
       "      <td>20.148406</td>\n",
       "      <td>41.466548</td>\n",
       "      <td>No. of Accidents</td>\n",
       "      <td>3618</td>\n",
       "      <td>20.148406</td>\n",
       "      <td>41.466548</td>\n",
       "    </tr>\n",
       "    <tr>\n",
       "      <th>18</th>\n",
       "      <td>2016</td>\n",
       "      <td>Northern Boarder</td>\n",
       "      <td>4958</td>\n",
       "      <td>30.197075</td>\n",
       "      <td>41.817119</td>\n",
       "      <td>No. of Casualties - Dead</td>\n",
       "      <td>193</td>\n",
       "      <td>30.197075</td>\n",
       "      <td>41.817119</td>\n",
       "    </tr>\n",
       "    <tr>\n",
       "      <th>19</th>\n",
       "      <td>2016</td>\n",
       "      <td>Northern Boarder</td>\n",
       "      <td>4958</td>\n",
       "      <td>30.197075</td>\n",
       "      <td>41.817119</td>\n",
       "      <td>No. of Casualties - Injured</td>\n",
       "      <td>631</td>\n",
       "      <td>30.197075</td>\n",
       "      <td>41.817119</td>\n",
       "    </tr>\n",
       "  </tbody>\n",
       "</table>\n",
       "</div>"
      ],
      "text/plain": [
       "    year            region  license_count  x_point_x  y_point_x  \\\n",
       "6   2016           Al-Baha           4614  20.148406  41.466548   \n",
       "7   2016           Al-Baha           4614  20.148406  41.466548   \n",
       "8   2016           Al-Baha           4614  20.148406  41.466548   \n",
       "18  2016  Northern Boarder           4958  30.197075  41.817119   \n",
       "19  2016  Northern Boarder           4958  30.197075  41.817119   \n",
       "\n",
       "               accident_outcome  accident_count  x_point_y  y_point_y  \n",
       "6   No. of Casualties - Injured            1227  20.148406  41.466548  \n",
       "7      No. of Casualties - Dead             185  20.148406  41.466548  \n",
       "8              No. of Accidents            3618  20.148406  41.466548  \n",
       "18     No. of Casualties - Dead             193  30.197075  41.817119  \n",
       "19  No. of Casualties - Injured             631  30.197075  41.817119  "
      ]
     },
     "execution_count": 49,
     "metadata": {},
     "output_type": "execute_result"
    }
   ],
   "source": [
    "#making separate df for 2016: to analyze accidents vs licenses in 2016 only\n",
    "\n",
    "df_2016 =joined_df_2016_17[(joined_df_2016_17['year'] == 2016)]\n",
    "df_2016.head()"
   ]
  },
  {
   "cell_type": "code",
   "execution_count": null,
   "metadata": {},
   "outputs": [],
   "source": [
    "# Driving Licenses vs. Traffic Accidents for 2017\n",
    "# Driving Licenses vs. Traffic Accidents for 2016\n",
    "# Driving Licenses for 2016 vs 2017\n",
    "# Traffic Accidents for 2016 vs 2017"
   ]
  },
  {
   "cell_type": "code",
   "execution_count": 53,
   "metadata": {
    "scrolled": false
   },
   "outputs": [
    {
     "data": {
      "image/png": "[encoded data removed]",
      "text/plain": [
       "<Figure size 504x504 with 1 Axes>"
      ]
     },
     "metadata": {
      "image/png": {
       "height": 424,
       "width": 458
      },
      "needs_background": "light"
     },
     "output_type": "display_data"
    }
   ],
   "source": [
    "# Driving Licenses vs. Traffic Accidents for 2017\n",
    "df_2017.plot(x='accident_count', y='license_count', kind='scatter', c='red', colormap='Reds', figsize=(7,7), s=20);"
   ]
  },
  {
   "cell_type": "code",
   "execution_count": 116,
   "metadata": {},
   "outputs": [
    {
     "data": {
      "image/png": "[encoded data removed]",
      "text/plain": [
       "<Figure size 504x504 with 1 Axes>"
      ]
     },
     "metadata": {
      "image/png": {
       "height": 424,
       "width": 458
      },
      "needs_background": "light"
     },
     "output_type": "display_data"
    }
   ],
   "source": [
    "# just trying the above plot with c_df  delete later\n",
    "c.plot(x='accident_count_2017', y='license_count_2017', kind='scatter', c='red', colormap='Reds', figsize=(7,7), s=20);"
   ]
  },
  {
   "cell_type": "code",
   "execution_count": 61,
   "metadata": {},
   "outputs": [
    {
     "data": {
      "image/png": "[encoded data removed]",
      "text/plain": [
       "<Figure size 504x504 with 1 Axes>"
      ]
     },
     "metadata": {
      "image/png": {
       "height": 424,
       "width": 458
      },
      "needs_background": "light"
     },
     "output_type": "display_data"
    }
   ],
   "source": [
    "# Driving Licenses vs. Traffic Accidents for 2016\n",
    "\n",
    "df_2016.plot(x='accident_count', y='license_count', kind='scatter', c='red', colormap='Reds', figsize=(7,7), s=20);"
   ]
  },
  {
   "cell_type": "code",
   "execution_count": null,
   "metadata": {},
   "outputs": [],
   "source": []
  },
  {
   "cell_type": "code",
   "execution_count": null,
   "metadata": {},
   "outputs": [],
   "source": [
    "# need to concat both df 2016 and 17 to do q3: # Driving Licenses for 2016 vs 2017"
   ]
  },
  {
   "cell_type": "code",
   "execution_count": 74,
   "metadata": {},
   "outputs": [],
   "source": [
    "# not working. ill try full join\n",
    "\n",
    "#concat_2016_17 = pd.concat([df_2016,df_2017], axis=0) #colum axis =1, row axis = 0\n",
    "\n",
    "#concat_2016_17.head(40)"
   ]
  },
  {
   "cell_type": "code",
   "execution_count": 75,
   "metadata": {
    "scrolled": true
   },
   "outputs": [
    {
     "data": {
      "text/html": [
       "<div>\n",
       "<style scoped>\n",
       "    .dataframe tbody tr th:only-of-type {\n",
       "        vertical-align: middle;\n",
       "    }\n",
       "\n",
       "    .dataframe tbody tr th {\n",
       "        vertical-align: top;\n",
       "    }\n",
       "\n",
       "    .dataframe thead th {\n",
       "        text-align: right;\n",
       "    }\n",
       "</style>\n",
       "<table border=\"1\" class=\"dataframe\">\n",
       "  <thead>\n",
       "    <tr style=\"text-align: right;\">\n",
       "      <th></th>\n",
       "      <th>year_x</th>\n",
       "      <th>region</th>\n",
       "      <th>license_count_x</th>\n",
       "      <th>x_point_x_x</th>\n",
       "      <th>y_point_x_x</th>\n",
       "      <th>accident_outcome_x</th>\n",
       "      <th>accident_count_x</th>\n",
       "      <th>x_point_y_x</th>\n",
       "      <th>y_point_y_x</th>\n",
       "      <th>year_y</th>\n",
       "      <th>license_count_y</th>\n",
       "      <th>x_point_x_y</th>\n",
       "      <th>y_point_x_y</th>\n",
       "      <th>accident_outcome_y</th>\n",
       "      <th>accident_count_y</th>\n",
       "      <th>x_point_y_y</th>\n",
       "      <th>y_point_y_y</th>\n",
       "    </tr>\n",
       "  </thead>\n",
       "  <tbody>\n",
       "    <tr>\n",
       "      <th>0</th>\n",
       "      <td>2016</td>\n",
       "      <td>Al-Baha</td>\n",
       "      <td>4614</td>\n",
       "      <td>20.148406</td>\n",
       "      <td>41.466548</td>\n",
       "      <td>No. of Casualties - Injured</td>\n",
       "      <td>1227</td>\n",
       "      <td>20.148406</td>\n",
       "      <td>41.466548</td>\n",
       "      <td>2017</td>\n",
       "      <td>4131</td>\n",
       "      <td>20.148406</td>\n",
       "      <td>41.466548</td>\n",
       "      <td>No. of Casualties - Dead</td>\n",
       "      <td>134</td>\n",
       "      <td>20.148406</td>\n",
       "      <td>41.466548</td>\n",
       "    </tr>\n",
       "    <tr>\n",
       "      <th>1</th>\n",
       "      <td>2016</td>\n",
       "      <td>Al-Baha</td>\n",
       "      <td>4614</td>\n",
       "      <td>20.148406</td>\n",
       "      <td>41.466548</td>\n",
       "      <td>No. of Casualties - Injured</td>\n",
       "      <td>1227</td>\n",
       "      <td>20.148406</td>\n",
       "      <td>41.466548</td>\n",
       "      <td>2017</td>\n",
       "      <td>4131</td>\n",
       "      <td>20.148406</td>\n",
       "      <td>41.466548</td>\n",
       "      <td>No. of Accidents</td>\n",
       "      <td>1414</td>\n",
       "      <td>20.148406</td>\n",
       "      <td>41.466548</td>\n",
       "    </tr>\n",
       "    <tr>\n",
       "      <th>2</th>\n",
       "      <td>2016</td>\n",
       "      <td>Al-Baha</td>\n",
       "      <td>4614</td>\n",
       "      <td>20.148406</td>\n",
       "      <td>41.466548</td>\n",
       "      <td>No. of Casualties - Injured</td>\n",
       "      <td>1227</td>\n",
       "      <td>20.148406</td>\n",
       "      <td>41.466548</td>\n",
       "      <td>2017</td>\n",
       "      <td>4131</td>\n",
       "      <td>20.148406</td>\n",
       "      <td>41.466548</td>\n",
       "      <td>No. of Casualties - Injured</td>\n",
       "      <td>1007</td>\n",
       "      <td>20.148406</td>\n",
       "      <td>41.466548</td>\n",
       "    </tr>\n",
       "    <tr>\n",
       "      <th>3</th>\n",
       "      <td>2016</td>\n",
       "      <td>Al-Baha</td>\n",
       "      <td>4614</td>\n",
       "      <td>20.148406</td>\n",
       "      <td>41.466548</td>\n",
       "      <td>No. of Casualties - Dead</td>\n",
       "      <td>185</td>\n",
       "      <td>20.148406</td>\n",
       "      <td>41.466548</td>\n",
       "      <td>2017</td>\n",
       "      <td>4131</td>\n",
       "      <td>20.148406</td>\n",
       "      <td>41.466548</td>\n",
       "      <td>No. of Casualties - Dead</td>\n",
       "      <td>134</td>\n",
       "      <td>20.148406</td>\n",
       "      <td>41.466548</td>\n",
       "    </tr>\n",
       "    <tr>\n",
       "      <th>4</th>\n",
       "      <td>2016</td>\n",
       "      <td>Al-Baha</td>\n",
       "      <td>4614</td>\n",
       "      <td>20.148406</td>\n",
       "      <td>41.466548</td>\n",
       "      <td>No. of Casualties - Dead</td>\n",
       "      <td>185</td>\n",
       "      <td>20.148406</td>\n",
       "      <td>41.466548</td>\n",
       "      <td>2017</td>\n",
       "      <td>4131</td>\n",
       "      <td>20.148406</td>\n",
       "      <td>41.466548</td>\n",
       "      <td>No. of Accidents</td>\n",
       "      <td>1414</td>\n",
       "      <td>20.148406</td>\n",
       "      <td>41.466548</td>\n",
       "    </tr>\n",
       "  </tbody>\n",
       "</table>\n",
       "</div>"
      ],
      "text/plain": [
       "   year_x   region  license_count_x  x_point_x_x  y_point_x_x  \\\n",
       "0    2016  Al-Baha             4614    20.148406    41.466548   \n",
       "1    2016  Al-Baha             4614    20.148406    41.466548   \n",
       "2    2016  Al-Baha             4614    20.148406    41.466548   \n",
       "3    2016  Al-Baha             4614    20.148406    41.466548   \n",
       "4    2016  Al-Baha             4614    20.148406    41.466548   \n",
       "\n",
       "            accident_outcome_x  accident_count_x  x_point_y_x  y_point_y_x  \\\n",
       "0  No. of Casualties - Injured              1227    20.148406    41.466548   \n",
       "1  No. of Casualties - Injured              1227    20.148406    41.466548   \n",
       "2  No. of Casualties - Injured              1227    20.148406    41.466548   \n",
       "3     No. of Casualties - Dead               185    20.148406    41.466548   \n",
       "4     No. of Casualties - Dead               185    20.148406    41.466548   \n",
       "\n",
       "   year_y  license_count_y  x_point_x_y  y_point_x_y  \\\n",
       "0    2017             4131    20.148406    41.466548   \n",
       "1    2017             4131    20.148406    41.466548   \n",
       "2    2017             4131    20.148406    41.466548   \n",
       "3    2017             4131    20.148406    41.466548   \n",
       "4    2017             4131    20.148406    41.466548   \n",
       "\n",
       "            accident_outcome_y  accident_count_y  x_point_y_y  y_point_y_y  \n",
       "0     No. of Casualties - Dead               134    20.148406    41.466548  \n",
       "1             No. of Accidents              1414    20.148406    41.466548  \n",
       "2  No. of Casualties - Injured              1007    20.148406    41.466548  \n",
       "3     No. of Casualties - Dead               134    20.148406    41.466548  \n",
       "4             No. of Accidents              1414    20.148406    41.466548  "
      ]
     },
     "execution_count": 75,
     "metadata": {},
     "output_type": "execute_result"
    }
   ],
   "source": [
    "outer_join = pd.merge(df_2016,df_2017,on='region',how='outer')\n",
    "outer_join.head(5)"
   ]
  },
  {
   "cell_type": "code",
   "execution_count": 76,
   "metadata": {
    "scrolled": false
   },
   "outputs": [
    {
     "data": {
      "text/plain": [
       "(117, 17)"
      ]
     },
     "execution_count": 76,
     "metadata": {},
     "output_type": "execute_result"
    }
   ],
   "source": [
    "outer_join.shape"
   ]
  },
  {
   "cell_type": "code",
   "execution_count": null,
   "metadata": {},
   "outputs": [],
   "source": [
    "# a.i will try separate years and acci_count in one df \n",
    "# b. and separate years and lic count in one df\n",
    "# c. and separate years lic and acci in one df"
   ]
  },
  {
   "cell_type": "code",
   "execution_count": 106,
   "metadata": {
    "scrolled": true
   },
   "outputs": [
    {
     "data": {
      "text/html": [
       "<div>\n",
       "<style scoped>\n",
       "    .dataframe tbody tr th:only-of-type {\n",
       "        vertical-align: middle;\n",
       "    }\n",
       "\n",
       "    .dataframe tbody tr th {\n",
       "        vertical-align: top;\n",
       "    }\n",
       "\n",
       "    .dataframe thead th {\n",
       "        text-align: right;\n",
       "    }\n",
       "</style>\n",
       "<table border=\"1\" class=\"dataframe\">\n",
       "  <thead>\n",
       "    <tr style=\"text-align: right;\">\n",
       "      <th></th>\n",
       "      <th>year_x</th>\n",
       "      <th>year_y</th>\n",
       "      <th>license_count_x</th>\n",
       "      <th>license_count_y</th>\n",
       "      <th>accident_count_x</th>\n",
       "      <th>accident_count_y</th>\n",
       "    </tr>\n",
       "  </thead>\n",
       "  <tbody>\n",
       "    <tr>\n",
       "      <th>0</th>\n",
       "      <td>2016</td>\n",
       "      <td>2017</td>\n",
       "      <td>4614</td>\n",
       "      <td>4131</td>\n",
       "      <td>1227</td>\n",
       "      <td>134</td>\n",
       "    </tr>\n",
       "    <tr>\n",
       "      <th>1</th>\n",
       "      <td>2016</td>\n",
       "      <td>2017</td>\n",
       "      <td>4614</td>\n",
       "      <td>4131</td>\n",
       "      <td>1227</td>\n",
       "      <td>1414</td>\n",
       "    </tr>\n",
       "    <tr>\n",
       "      <th>2</th>\n",
       "      <td>2016</td>\n",
       "      <td>2017</td>\n",
       "      <td>4614</td>\n",
       "      <td>4131</td>\n",
       "      <td>1227</td>\n",
       "      <td>1007</td>\n",
       "    </tr>\n",
       "    <tr>\n",
       "      <th>3</th>\n",
       "      <td>2016</td>\n",
       "      <td>2017</td>\n",
       "      <td>4614</td>\n",
       "      <td>4131</td>\n",
       "      <td>185</td>\n",
       "      <td>134</td>\n",
       "    </tr>\n",
       "    <tr>\n",
       "      <th>4</th>\n",
       "      <td>2016</td>\n",
       "      <td>2017</td>\n",
       "      <td>4614</td>\n",
       "      <td>4131</td>\n",
       "      <td>185</td>\n",
       "      <td>1414</td>\n",
       "    </tr>\n",
       "  </tbody>\n",
       "</table>\n",
       "</div>"
      ],
      "text/plain": [
       "   year_x  year_y  license_count_x  license_count_y  accident_count_x  \\\n",
       "0    2016    2017             4614             4131              1227   \n",
       "1    2016    2017             4614             4131              1227   \n",
       "2    2016    2017             4614             4131              1227   \n",
       "3    2016    2017             4614             4131               185   \n",
       "4    2016    2017             4614             4131               185   \n",
       "\n",
       "   accident_count_y  \n",
       "0               134  \n",
       "1              1414  \n",
       "2              1007  \n",
       "3               134  \n",
       "4              1414  "
      ]
     },
     "execution_count": 106,
     "metadata": {},
     "output_type": "execute_result"
    }
   ],
   "source": [
    "c = outer_join[['year_x','year_y','license_count_x','license_count_y','accident_count_x','accident_count_y']]\n",
    "c.head()"
   ]
  },
  {
   "cell_type": "code",
   "execution_count": 107,
   "metadata": {},
   "outputs": [
    {
     "data": {
      "text/plain": [
       "Index(['year_x', 'year_y', 'license_count_x', 'license_count_y',\n",
       "       'accident_count_x', 'accident_count_y'],\n",
       "      dtype='object')"
      ]
     },
     "execution_count": 107,
     "metadata": {},
     "output_type": "execute_result"
    }
   ],
   "source": [
    "c.columns"
   ]
  },
  {
   "cell_type": "code",
   "execution_count": 108,
   "metadata": {
    "scrolled": true
   },
   "outputs": [
    {
     "name": "stderr",
     "output_type": "stream",
     "text": [
      "/home/ahmed/anaconda3/lib/python3.8/site-packages/pandas/core/frame.py:4296: SettingWithCopyWarning: \n",
      "A value is trying to be set on a copy of a slice from a DataFrame\n",
      "\n",
      "See the caveats in the documentation: https://pandas.pydata.org/pandas-docs/stable/user_guide/indexing.html#returning-a-view-versus-a-copy\n",
      "  return super().rename(\n"
     ]
    }
   ],
   "source": [
    "c.rename(columns={\n",
    "        'year_x':'year_2016',                  # year == license year\n",
    "        'year_y':'year_2017', # region == license region\n",
    "        'license_count_x':'license_count_2016',      # count == licneses count\n",
    "        'license_count_y':'license_count_2017',                 # geo_x == license geo location x\n",
    "        'accident_count_x':'accident_count_2016',\n",
    "        'accident_count_y':'accident_count_2017'                                 # geo_y == license geo location y\n",
    "            }, inplace = True)"
   ]
  },
  {
   "cell_type": "code",
   "execution_count": 110,
   "metadata": {
    "scrolled": true
   },
   "outputs": [
    {
     "data": {
      "text/html": [
       "<div>\n",
       "<style scoped>\n",
       "    .dataframe tbody tr th:only-of-type {\n",
       "        vertical-align: middle;\n",
       "    }\n",
       "\n",
       "    .dataframe tbody tr th {\n",
       "        vertical-align: top;\n",
       "    }\n",
       "\n",
       "    .dataframe thead th {\n",
       "        text-align: right;\n",
       "    }\n",
       "</style>\n",
       "<table border=\"1\" class=\"dataframe\">\n",
       "  <thead>\n",
       "    <tr style=\"text-align: right;\">\n",
       "      <th></th>\n",
       "      <th>year_2016</th>\n",
       "      <th>year_2017</th>\n",
       "      <th>license_count_2016</th>\n",
       "      <th>license_count_2017</th>\n",
       "      <th>accident_count_2016</th>\n",
       "      <th>accident_count_2017</th>\n",
       "    </tr>\n",
       "  </thead>\n",
       "  <tbody>\n",
       "    <tr>\n",
       "      <th>0</th>\n",
       "      <td>2016</td>\n",
       "      <td>2017</td>\n",
       "      <td>4614</td>\n",
       "      <td>4131</td>\n",
       "      <td>1227</td>\n",
       "      <td>134</td>\n",
       "    </tr>\n",
       "    <tr>\n",
       "      <th>1</th>\n",
       "      <td>2016</td>\n",
       "      <td>2017</td>\n",
       "      <td>4614</td>\n",
       "      <td>4131</td>\n",
       "      <td>1227</td>\n",
       "      <td>1414</td>\n",
       "    </tr>\n",
       "    <tr>\n",
       "      <th>2</th>\n",
       "      <td>2016</td>\n",
       "      <td>2017</td>\n",
       "      <td>4614</td>\n",
       "      <td>4131</td>\n",
       "      <td>1227</td>\n",
       "      <td>1007</td>\n",
       "    </tr>\n",
       "    <tr>\n",
       "      <th>3</th>\n",
       "      <td>2016</td>\n",
       "      <td>2017</td>\n",
       "      <td>4614</td>\n",
       "      <td>4131</td>\n",
       "      <td>185</td>\n",
       "      <td>134</td>\n",
       "    </tr>\n",
       "    <tr>\n",
       "      <th>4</th>\n",
       "      <td>2016</td>\n",
       "      <td>2017</td>\n",
       "      <td>4614</td>\n",
       "      <td>4131</td>\n",
       "      <td>185</td>\n",
       "      <td>1414</td>\n",
       "    </tr>\n",
       "  </tbody>\n",
       "</table>\n",
       "</div>"
      ],
      "text/plain": [
       "   year_2016  year_2017  license_count_2016  license_count_2017  \\\n",
       "0       2016       2017                4614                4131   \n",
       "1       2016       2017                4614                4131   \n",
       "2       2016       2017                4614                4131   \n",
       "3       2016       2017                4614                4131   \n",
       "4       2016       2017                4614                4131   \n",
       "\n",
       "   accident_count_2016  accident_count_2017  \n",
       "0                 1227                  134  \n",
       "1                 1227                 1414  \n",
       "2                 1227                 1007  \n",
       "3                  185                  134  \n",
       "4                  185                 1414  "
      ]
     },
     "execution_count": 110,
     "metadata": {},
     "output_type": "execute_result"
    }
   ],
   "source": [
    "c.head()"
   ]
  },
  {
   "cell_type": "code",
   "execution_count": 112,
   "metadata": {},
   "outputs": [
    {
     "data": {
      "image/png": "[encoded data removed]",
      "text/plain": [
       "<Figure size 504x504 with 1 Axes>"
      ]
     },
     "metadata": {
      "image/png": {
       "height": 424,
       "width": 461
      },
      "needs_background": "light"
     },
     "output_type": "display_data"
    }
   ],
   "source": [
    "\n",
    "c.plot(x='license_count_2017', y='license_count_2016', kind='scatter', c='red', colormap='Reds', figsize=(7,7), s=20);"
   ]
  },
  {
   "cell_type": "code",
   "execution_count": 87,
   "metadata": {
    "scrolled": true
   },
   "outputs": [
    {
     "data": {
      "image/png": "[encoded data removed]",
      "text/plain": [
       "<Figure size 432x288 with 1 Axes>"
      ]
     },
     "metadata": {
      "image/png": {
       "height": 261,
       "width": 407
      },
      "needs_background": "light"
     },
     "output_type": "display_data"
    }
   ],
   "source": [
    "#sns.scatterplot(data=outer_join, x=\"total_bill\", y=\"tip\", hue=\"time\", style=\"time\")\n",
    "sns.scatterplot(x='license_count_y', y='license_count_x', data=outer_join, style='year_x')\n",
    "plt.show()\n",
    "\n",
    "\n",
    "#just rename cols in outer_df"
   ]
  },
  {
   "cell_type": "code",
   "execution_count": 88,
   "metadata": {
    "scrolled": false
   },
   "outputs": [
    {
     "data": {
      "text/plain": [
       "6273153"
      ]
     },
     "execution_count": 88,
     "metadata": {},
     "output_type": "execute_result"
    }
   ],
   "source": [
    "outer_join.license_count_x.sum() #2016 this explains the fig. more lice +ev corre in lic# from 2016-2017"
   ]
  },
  {
   "cell_type": "code",
   "execution_count": 90,
   "metadata": {
    "scrolled": true
   },
   "outputs": [
    {
     "data": {
      "text/plain": [
       "8353485"
      ]
     },
     "execution_count": 90,
     "metadata": {},
     "output_type": "execute_result"
    }
   ],
   "source": [
    "outer_join.license_count_y.sum() # 2017"
   ]
  },
  {
   "cell_type": "code",
   "execution_count": 91,
   "metadata": {},
   "outputs": [
    {
     "data": {
      "image/png": "[encoded data removed]",
      "text/plain": [
       "<Figure size 504x504 with 1 Axes>"
      ]
     },
     "metadata": {
      "image/png": {
       "height": 424,
       "width": 461
      },
      "needs_background": "light"
     },
     "output_type": "display_data"
    }
   ],
   "source": [
    "# pick either this graph or one above\n",
    "\n",
    "# after performing and out join, lets do q3: # Driving Licenses for 2016 vs 2017\n",
    "\n",
    "outer_join.plot(x='license_count_y', y='license_count_x', kind='scatter', c='red', colormap='Reds', figsize=(7,7), s=20);\n"
   ]
  },
  {
   "cell_type": "code",
   "execution_count": 94,
   "metadata": {},
   "outputs": [
    {
     "data": {
      "image/png": "[encoded data removed]",
      "text/plain": [
       "<Figure size 504x504 with 1 Axes>"
      ]
     },
     "metadata": {
      "image/png": {
       "height": 424,
       "width": 458
      },
      "needs_background": "light"
     },
     "output_type": "display_data"
    }
   ],
   "source": [
    "#Traffic Accidents for 2016 vs 2017\n",
    "outer_join.plot(x='accident_count_x', y='accident_count_y', kind='scatter', c='red', colormap='Reds', figsize=(7,7), s=20);"
   ]
  },
  {
   "cell_type": "code",
   "execution_count": 39,
   "metadata": {
    "scrolled": false
   },
   "outputs": [
    {
     "data": {
      "image/png": "[encoded data removed]",
      "text/plain": [
       "<Figure size 504x504 with 1 Axes>"
      ]
     },
     "metadata": {
      "image/png": {
       "height": 424,
       "width": 458
      },
      "needs_background": "light"
     },
     "output_type": "display_data"
    }
   ],
   "source": [
    "\n",
    "\n",
    "joined_df_2016_17.plot(kind='scatter', x='accident_count', y='license_count',figsize=(7,7));"
   ]
  },
  {
   "cell_type": "code",
   "execution_count": 20,
   "metadata": {
    "scrolled": false
   },
   "outputs": [
    {
     "data": {
      "image/png": "[encoded data removed]",
      "text/plain": [
       "<Figure size 720x576 with 4 Axes>"
      ]
     },
     "metadata": {
      "image/png": {
       "height": 496,
       "width": 619
      },
      "needs_background": "light"
     },
     "output_type": "display_data"
    }
   ],
   "source": [
    "# Scatter matrix of three numerical columns\n",
    "pd.plotting.scatter_matrix(joined_df_2016_17[['accident_count', 'license_count']], figsize=(10, 8));"
   ]
  },
  {
   "cell_type": "code",
   "execution_count": 38,
   "metadata": {},
   "outputs": [
    {
     "data": {
      "image/png": "[encoded data removed]",
      "text/plain": [
       "<Figure size 504x504 with 1 Axes>"
      ]
     },
     "metadata": {
      "image/png": {
       "height": 424,
       "width": 458
      },
      "needs_background": "light"
     },
     "output_type": "display_data"
    }
   ],
   "source": [
    "joined_df_2016_17.plot(x='accident_count', y='license_count', kind='scatter', c='red', colormap='Reds', figsize=(7,7), s=20);"
   ]
  },
  {
   "cell_type": "code",
   "execution_count": null,
   "metadata": {},
   "outputs": [],
   "source": []
  }
 ],
 "metadata": {
  "kernelspec": {
   "display_name": "Python 3",
   "language": "python",
   "name": "python3"
  },
  "language_info": {
   "codemirror_mode": {
    "name": "ipython",
    "version": 3
   },
   "file_extension": ".py",
   "mimetype": "text/x-python",
   "name": "python",
   "nbconvert_exporter": "python",
   "pygments_lexer": "ipython3",
   "version": "3.8.5"
  }
 },
 "nbformat": 4,
 "nbformat_minor": 4
}
