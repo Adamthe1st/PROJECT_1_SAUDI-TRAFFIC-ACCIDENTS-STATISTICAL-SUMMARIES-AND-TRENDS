{
 "cells": [
  {
   "cell_type": "markdown",
   "metadata": {},
   "source": [
    "# Project 1: Driving Licenses, Traffic Accidents and Casualties Analysis"
   ]
  },
  {
   "cell_type": "markdown",
   "metadata": {},
   "source": [
    "## Problem Statment\n",
    "\n",
    "Safe roads are what everyone desires. Safe roads are not for luxury or convenience, they are simply a given for a functional society. Sadly, there have been many recorded fatal road accidents in addition to countless road injuries in Saudi Arabia in recent years. To ensure the safety of ourselves and our loved ones, proper road safety measures should be egregiously reinforced. This report aims to analyze traffic accidents and driving licenses per region in Saudi Arabia and offers policy recommendations based on statistical observations of current affairs.     "
   ]
  },
  {
   "cell_type": "markdown",
   "metadata": {},
   "source": []
  },
  {
   "cell_type": "markdown",
   "metadata": {},
   "source": [
    "## Executive Summary\n",
    "\n",
    "\n",
    "\n",
    "\n",
    "\n",
    "**Quick facts**\n",
    "\n",
    "- in 2016-2017, the average traffic accident counts in Saudi Arabia was 13868 accidents\n",
    "- Over the years from 1993-2017, the average driving license count was 28915 driving licenses\n",
    "- The highest number of traffic accidents was in Makkah in 2017 with accidents count of 145541 \n",
    "- The highest number of driving licenses was in Riyadh in 2017. license count:495307\n",
    "- The lowest driving license count was 915 in Tabouk in 2015\n",
    "- The lowest traffict accident count was the Northren border in 2017\n",
    "- There is a positive correlation between the years 2016 and 2017 with regards to obtained driving licenses\n",
    "- More accidents were recorded in 2017 compared to 2016\n",
    "\n",
    "\n",
    "\n",
    "**Summary**\n",
    "\n",
    "In Saudi Arabia, The ministry of Transport pays a great deal of attention to ensure safer road standards are met. Indeed, roads in the kingdom are designed using modern materials and equipment that maximise safety. However, beside the appropriate road designs, instructive and directive signs and the abundance of traffic lights, road accidents remain relatively high in Saudi Arabia. \n",
    "\n",
    "Over the past three decades, the number of obtained driving licenses has increased significantly. This implies higher cars on the roads and, in correlation, higher road accidents. Examination of Saudi traffic data collected between the years 2016 - 2017 reflects high casualty counts for both injured and fatal accidents. This is especially prominent in high populated areas including Riyadh, Makkah and Eastren Region where traffic jams are the daily norm. \n",
    "\n",
    "In 2017, the mean recorded traffic accidents in Makkah was 145541, ranking the roads of Makkah as the most dangerous in the kingdom. This was a little higher than the record accidents in Riyadh in 2016 at 141736 accidents. In addition, both Makkah and Riyadh exceed the year average for the number of traffic accidents across the kingdom.\n",
    "\n",
    "Interestingly, Riyadh had the highest number of issued driving licenses over the years 2016 and 2017 (242851 and 495307) respectively. This is not the case for Makkah where the highest number of issued licenses was in 2015 at just 157389 driving licenses. \n",
    "\n",
    "Although one might expect high-accident counts to correlate with low driving license count, the contradicting example of Makkah and Riyadh leads to the conclusion that perhaps high accidents are more frequent in highly populated areas. This is supported by the finding that the lowest number of traffic accidents in 2017 was recorded in the Northern Border, a very low populated area, at just 112 accidents.\n",
    "\n",
    "\n",
    "\n",
    " \n",
    "\n",
    " \n",
    "**Recommendations**\n",
    "\n",
    " - Additional steps should be taken to pass driving license tests across the kingdom, especially in highly populated regions such as Makkah and Riyadh.\n",
    " - Effective use of speed cameras and seat belt checks should be implemented in highly populated areas to reduce speed and control safety on the roads\n",
    " - Implement traffic rules courses in junior and high schools as mandatory for both genders\n",
    " - The Ministry of Transport is highly advised to Invest in public transport facilities as this will improve road safety by reducing traffic jams. Finally, the effective use of public transport alighs will with vision 2030 in transforming the Saudi Arabia into a digital and eco-friendly way.\n",
    "\t    \n",
    "\n",
    "**Issues**\n",
    " - The data used contains some outliers as indicated by box-plots below. Thus, future investigations should therefore conduct further analysis to rule out outliers to draw more accurate conclusions.  \n",
    "\n",
    "\n",
    "\n",
    "\n"
   ]
  },
  {
   "cell_type": "markdown",
   "metadata": {},
   "source": []
  },
  {
   "cell_type": "markdown",
   "metadata": {},
   "source": [
    "### Contents:\n",
    "- [Datasets Description](#Datasets-Description)\n",
    "- [Data Import & Cleaning](#Data-Import-and-Cleaning)\n",
    "- [Exploratory Data Analysis](#Exploratory-Data-Analysis)\n",
    "- [Data Visualization](#Visualize-the-data)\n",
    "- [Descriptive and Inferential Statistics](#Descriptive-and-Inferential-Statistics)\n",
    "- [Outside Research](#Outside-Research)\n",
    "- [Conclusions and Recommendations](#Conclusions-and-Recommendations)"
   ]
  },
  {
   "cell_type": "markdown",
   "metadata": {},
   "source": [
    "**If you combine your problem statement, executive summary, data dictionary, and conclusions/recommendations, you have an amazing README.md file that quickly aligns your audience to the contents of your project.** Don't forget to cite your data sources!"
   ]
  },
  {
   "cell_type": "markdown",
   "metadata": {},
   "source": [
    "*All libraries used should be added here, including any Jupyter magic commands*"
   ]
  },
  {
   "cell_type": "code",
   "execution_count": 1,
   "metadata": {},
   "outputs": [],
   "source": [
    "# library imports\n",
    " \n",
    "import numpy as np\n",
    "import pandas as pd\n",
    "import matplotlib.pyplot as plt\n",
    "import seaborn as sns\n",
    "sns.set_style('whitegrid')\n",
    "%matplotlib inline\n",
    "\n",
    "#Setting display format to retina in matplotlib for better quality images.\n",
    "from IPython.display import set_matplotlib_formats\n",
    "set_matplotlib_formats('retina')"
   ]
  },
  {
   "cell_type": "markdown",
   "metadata": {},
   "source": [
    "## Datasets Description\n",
    "\n",
    "[Driving Licenses](https://datasource.kapsarc.org/explore/dataset/saudi-arabia-driving-licenses-issued-in-the-kingdom-2004-2008/information/?disjunctive.administritive_area&sort=time_period&location=5,24.37495,45.08024&basemap=jawg.streets)\n",
    "This dataset contains Saudi Arabia Driving Licenses Issued By Administrative Area for 1993 - 2016. Data from General Authority for Statistics . Follow datasource.kapsarc.org for timely data to advance energy economics research.\n",
    "\n",
    "[Traffic Accidents and Casualties](https://datasource.kapsarc.org/explore/dataset/saudi-arabia-traffic-accidents-and-casualties-injured-dead-2008/export/?disjunctive.region&disjunctive.indicator&sort=time_period)\n",
    "This dataset contains Saudi Arabia Traffic Accidents and Casualties by Region for 2016. Data from General Authority for Statistics. Follow datasource.kapsarc.org for timely data to advance energy economics research.\n"
   ]
  },
  {
   "cell_type": "markdown",
   "metadata": {},
   "source": [
    "## Data Import and Cleaning"
   ]
  },
  {
   "cell_type": "markdown",
   "metadata": {},
   "source": [
    "#### 1. Read In Driving Licenses & Traffic Accidents Data\n",
    "Read in the `saudi-arabia-traffic-accidents-2008.csv` and `saudi-arabia-driving-licenses-2004-2008.csv` files and assign them to appropriately named pandas dataframes."
   ]
  },
  {
   "cell_type": "code",
   "execution_count": 2,
   "metadata": {},
   "outputs": [],
   "source": [
    "#Code\n",
    "\n",
    "accidents_df = pd.read_csv('../data/saudi-arabia-traffic-accidents-2008.csv',sep=';')\n",
    "\n",
    "licenses_df = pd.read_csv('../data/saudi-arabia-driving-licenses-2004-2008.csv',sep = ';')"
   ]
  },
  {
   "cell_type": "code",
   "execution_count": 3,
   "metadata": {},
   "outputs": [
    {
     "name": "stdout",
     "output_type": "stream",
     "text": [
      "(84, 7)\n",
      "(350, 5)\n"
     ]
    }
   ],
   "source": [
    "# delete \n",
    "print(accidents_df.shape) \n",
    "#\n",
    "print(licenses_df.shape) "
   ]
  },
  {
   "cell_type": "markdown",
   "metadata": {},
   "source": [
    "#### 2. Display data\n",
    "\n",
    "Print the first 10 rows of each dataframe to your jupyter notebook"
   ]
  },
  {
   "cell_type": "code",
   "execution_count": 4,
   "metadata": {
    "scrolled": false
   },
   "outputs": [
    {
     "data": {
      "text/html": [
       "<div>\n",
       "<style scoped>\n",
       "    .dataframe tbody tr th:only-of-type {\n",
       "        vertical-align: middle;\n",
       "    }\n",
       "\n",
       "    .dataframe tbody tr th {\n",
       "        vertical-align: top;\n",
       "    }\n",
       "\n",
       "    .dataframe thead th {\n",
       "        text-align: right;\n",
       "    }\n",
       "</style>\n",
       "<table border=\"1\" class=\"dataframe\">\n",
       "  <thead>\n",
       "    <tr style=\"text-align: right;\">\n",
       "      <th></th>\n",
       "      <th>Unnamed: 0</th>\n",
       "      <th>Unnamed: 0.1</th>\n",
       "      <th>Year</th>\n",
       "      <th>Region</th>\n",
       "      <th>Indicator</th>\n",
       "      <th>Value</th>\n",
       "      <th>geo_point_2d</th>\n",
       "    </tr>\n",
       "  </thead>\n",
       "  <tbody>\n",
       "    <tr>\n",
       "      <th>0</th>\n",
       "      <td>0</td>\n",
       "      <td>0</td>\n",
       "      <td>(2016)</td>\n",
       "      <td>Makkah</td>\n",
       "      <td>No. of Casualties - Injured</td>\n",
       "      <td>12383n</td>\n",
       "      <td>21.628962766, 41.2636898334</td>\n",
       "    </tr>\n",
       "    <tr>\n",
       "      <th>1</th>\n",
       "      <td>1</td>\n",
       "      <td>1</td>\n",
       "      <td>(2016)</td>\n",
       "      <td>Eastern Region</td>\n",
       "      <td>No. of Casualties - Dead</td>\n",
       "      <td>1113n</td>\n",
       "      <td>23.2883307307, 50.1478302439</td>\n",
       "    </tr>\n",
       "    <tr>\n",
       "      <th>2</th>\n",
       "      <td>2</td>\n",
       "      <td>2</td>\n",
       "      <td>(2016)</td>\n",
       "      <td>Tabouk</td>\n",
       "      <td>No. of Casualties - Dead</td>\n",
       "      <td>434n</td>\n",
       "      <td>27.90165499, 37.2598581394</td>\n",
       "    </tr>\n",
       "    <tr>\n",
       "      <th>3</th>\n",
       "      <td>3</td>\n",
       "      <td>3</td>\n",
       "      <td>(2016)</td>\n",
       "      <td>Hail</td>\n",
       "      <td>No. of Casualties - Dead</td>\n",
       "      <td>299n</td>\n",
       "      <td>27.400845724, 41.4406960508</td>\n",
       "    </tr>\n",
       "    <tr>\n",
       "      <th>4</th>\n",
       "      <td>4</td>\n",
       "      <td>4</td>\n",
       "      <td>(2016)</td>\n",
       "      <td>Hail</td>\n",
       "      <td>No. of Accidents</td>\n",
       "      <td>10199n</td>\n",
       "      <td>27.400845724, 41.4406960508</td>\n",
       "    </tr>\n",
       "    <tr>\n",
       "      <th>5</th>\n",
       "      <td>5</td>\n",
       "      <td>5</td>\n",
       "      <td>(2016)</td>\n",
       "      <td>Northern Boarder</td>\n",
       "      <td>No. of Casualties - Dead</td>\n",
       "      <td>193n</td>\n",
       "      <td>30.197074783, 41.8171186952</td>\n",
       "    </tr>\n",
       "    <tr>\n",
       "      <th>6</th>\n",
       "      <td>6</td>\n",
       "      <td>6</td>\n",
       "      <td>(2017)</td>\n",
       "      <td>Jazan</td>\n",
       "      <td>No. of Accidents</td>\n",
       "      <td>22161n</td>\n",
       "      <td>17.2072313962, 42.6525807422</td>\n",
       "    </tr>\n",
       "    <tr>\n",
       "      <th>7</th>\n",
       "      <td>7</td>\n",
       "      <td>7</td>\n",
       "      <td>(2017)</td>\n",
       "      <td>Al-Jouf</td>\n",
       "      <td>No. of Accidents</td>\n",
       "      <td>10469n</td>\n",
       "      <td>29.9677445762, 39.5570371172</td>\n",
       "    </tr>\n",
       "    <tr>\n",
       "      <th>8</th>\n",
       "      <td>8</td>\n",
       "      <td>8</td>\n",
       "      <td>(2017)</td>\n",
       "      <td>Total</td>\n",
       "      <td>No. of Casualties - Dead</td>\n",
       "      <td>7489n</td>\n",
       "      <td>NaN</td>\n",
       "    </tr>\n",
       "    <tr>\n",
       "      <th>9</th>\n",
       "      <td>9</td>\n",
       "      <td>9</td>\n",
       "      <td>(2016)</td>\n",
       "      <td>Northern Boarder</td>\n",
       "      <td>No. of Casualties - Injured</td>\n",
       "      <td>631n</td>\n",
       "      <td>30.197074783, 41.8171186952</td>\n",
       "    </tr>\n",
       "  </tbody>\n",
       "</table>\n",
       "</div>"
      ],
      "text/plain": [
       "   Unnamed: 0  Unnamed: 0.1    Year            Region  \\\n",
       "0           0             0  (2016)            Makkah   \n",
       "1           1             1  (2016)    Eastern Region   \n",
       "2           2             2  (2016)            Tabouk   \n",
       "3           3             3  (2016)              Hail   \n",
       "4           4             4  (2016)              Hail   \n",
       "5           5             5  (2016)  Northern Boarder   \n",
       "6           6             6  (2017)             Jazan   \n",
       "7           7             7  (2017)           Al-Jouf   \n",
       "8           8             8  (2017)             Total   \n",
       "9           9             9  (2016)  Northern Boarder   \n",
       "\n",
       "                     Indicator   Value                  geo_point_2d  \n",
       "0  No. of Casualties - Injured  12383n   21.628962766, 41.2636898334  \n",
       "1     No. of Casualties - Dead   1113n  23.2883307307, 50.1478302439  \n",
       "2     No. of Casualties - Dead    434n    27.90165499, 37.2598581394  \n",
       "3     No. of Casualties - Dead    299n   27.400845724, 41.4406960508  \n",
       "4             No. of Accidents  10199n   27.400845724, 41.4406960508  \n",
       "5     No. of Casualties - Dead    193n   30.197074783, 41.8171186952  \n",
       "6             No. of Accidents  22161n  17.2072313962, 42.6525807422  \n",
       "7             No. of Accidents  10469n  29.9677445762, 39.5570371172  \n",
       "8     No. of Casualties - Dead   7489n                           NaN  \n",
       "9  No. of Casualties - Injured    631n   30.197074783, 41.8171186952  "
      ]
     },
     "execution_count": 4,
     "metadata": {},
     "output_type": "execute_result"
    }
   ],
   "source": [
    "#Code\n",
    "\n",
    "accidents_df.head(10)"
   ]
  },
  {
   "cell_type": "code",
   "execution_count": 5,
   "metadata": {
    "scrolled": true
   },
   "outputs": [
    {
     "data": {
      "text/html": [
       "<div>\n",
       "<style scoped>\n",
       "    .dataframe tbody tr th:only-of-type {\n",
       "        vertical-align: middle;\n",
       "    }\n",
       "\n",
       "    .dataframe tbody tr th {\n",
       "        vertical-align: top;\n",
       "    }\n",
       "\n",
       "    .dataframe thead th {\n",
       "        text-align: right;\n",
       "    }\n",
       "</style>\n",
       "<table border=\"1\" class=\"dataframe\">\n",
       "  <thead>\n",
       "    <tr style=\"text-align: right;\">\n",
       "      <th></th>\n",
       "      <th>Unnamed: 0</th>\n",
       "      <th>Year</th>\n",
       "      <th>Administritive Area</th>\n",
       "      <th>Driving Liceses</th>\n",
       "      <th>geo_point_2d</th>\n",
       "    </tr>\n",
       "  </thead>\n",
       "  <tbody>\n",
       "    <tr>\n",
       "      <th>0</th>\n",
       "      <td>0</td>\n",
       "      <td>(2012)</td>\n",
       "      <td>Makkah</td>\n",
       "      <td>143954n</td>\n",
       "      <td>21.628962766, 41.2636898334</td>\n",
       "    </tr>\n",
       "    <tr>\n",
       "      <th>1</th>\n",
       "      <td>1</td>\n",
       "      <td>(1994)</td>\n",
       "      <td>Makkah</td>\n",
       "      <td>75349n</td>\n",
       "      <td>21.628962766, 41.2636898334</td>\n",
       "    </tr>\n",
       "    <tr>\n",
       "      <th>2</th>\n",
       "      <td>2</td>\n",
       "      <td>(1998)</td>\n",
       "      <td>Makkah</td>\n",
       "      <td>86082n</td>\n",
       "      <td>21.628962766, 41.2636898334</td>\n",
       "    </tr>\n",
       "    <tr>\n",
       "      <th>3</th>\n",
       "      <td>3</td>\n",
       "      <td>(2004)</td>\n",
       "      <td>Makkah</td>\n",
       "      <td>86636n</td>\n",
       "      <td>21.628962766, 41.2636898334</td>\n",
       "    </tr>\n",
       "    <tr>\n",
       "      <th>4</th>\n",
       "      <td>4</td>\n",
       "      <td>(2005)</td>\n",
       "      <td>Makkah</td>\n",
       "      <td>65099n</td>\n",
       "      <td>21.628962766, 41.2636898334</td>\n",
       "    </tr>\n",
       "    <tr>\n",
       "      <th>5</th>\n",
       "      <td>5</td>\n",
       "      <td>(2008)</td>\n",
       "      <td>Makkah</td>\n",
       "      <td>77013n</td>\n",
       "      <td>21.628962766, 41.2636898334</td>\n",
       "    </tr>\n",
       "    <tr>\n",
       "      <th>6</th>\n",
       "      <td>6</td>\n",
       "      <td>(2014)</td>\n",
       "      <td>Madinah</td>\n",
       "      <td>31447n</td>\n",
       "      <td>24.927534539, 39.4918237173</td>\n",
       "    </tr>\n",
       "    <tr>\n",
       "      <th>7</th>\n",
       "      <td>7</td>\n",
       "      <td>(2013)</td>\n",
       "      <td>Madinah</td>\n",
       "      <td>28513n</td>\n",
       "      <td>24.927534539, 39.4918237173</td>\n",
       "    </tr>\n",
       "    <tr>\n",
       "      <th>8</th>\n",
       "      <td>8</td>\n",
       "      <td>(2012)</td>\n",
       "      <td>Madinah</td>\n",
       "      <td>14459n</td>\n",
       "      <td>24.927534539, 39.4918237173</td>\n",
       "    </tr>\n",
       "    <tr>\n",
       "      <th>9</th>\n",
       "      <td>9</td>\n",
       "      <td>(1994)</td>\n",
       "      <td>Madinah</td>\n",
       "      <td>3767n</td>\n",
       "      <td>24.927534539, 39.4918237173</td>\n",
       "    </tr>\n",
       "  </tbody>\n",
       "</table>\n",
       "</div>"
      ],
      "text/plain": [
       "   Unnamed: 0    Year Administritive Area Driving Liceses  \\\n",
       "0           0  (2012)              Makkah         143954n   \n",
       "1           1  (1994)              Makkah          75349n   \n",
       "2           2  (1998)              Makkah          86082n   \n",
       "3           3  (2004)              Makkah          86636n   \n",
       "4           4  (2005)              Makkah          65099n   \n",
       "5           5  (2008)              Makkah          77013n   \n",
       "6           6  (2014)             Madinah          31447n   \n",
       "7           7  (2013)             Madinah          28513n   \n",
       "8           8  (2012)             Madinah          14459n   \n",
       "9           9  (1994)             Madinah           3767n   \n",
       "\n",
       "                  geo_point_2d  \n",
       "0  21.628962766, 41.2636898334  \n",
       "1  21.628962766, 41.2636898334  \n",
       "2  21.628962766, 41.2636898334  \n",
       "3  21.628962766, 41.2636898334  \n",
       "4  21.628962766, 41.2636898334  \n",
       "5  21.628962766, 41.2636898334  \n",
       "6  24.927534539, 39.4918237173  \n",
       "7  24.927534539, 39.4918237173  \n",
       "8  24.927534539, 39.4918237173  \n",
       "9  24.927534539, 39.4918237173  "
      ]
     },
     "execution_count": 5,
     "metadata": {},
     "output_type": "execute_result"
    }
   ],
   "source": [
    "licenses_df.head(10)"
   ]
  },
  {
   "cell_type": "markdown",
   "metadata": {},
   "source": [
    "#### 3. Briefly describe the data\n",
    "\n",
    "Take your time looking through the data and briefly describe the data in the markdown cell below. Note things about what the columns might mean, and the general information that is conveyed in the dataframe."
   ]
  },
  {
   "cell_type": "markdown",
   "metadata": {},
   "source": [
    "Answer:\n",
    "\n",
    "1. Traffic accidents dataframe: \n",
    "\n",
    "Dataframe exists in .csv format. The dimensions of the dataframe are (84 rows, 7 columns).\n",
    "Each row represents traffic accident features as follows: \n",
    "\n",
    "    unnamed 0:seems to serve as index for df\n",
    "    unnamed 0.1: has same values as unnamed 0\n",
    "    year: describes the year of traffic accident\n",
    "    region: describes area of traffic accident\n",
    "    indicator: describes result of traffic accident as injured or dead and total accidents\n",
    "    value: corresponds to number of traffic accidents\n",
    "    geo_point_2d: describes geographical location of traffic accidents  \n",
    "\n",
    "2. Driving licenses dataframe:\n",
    "\n",
    "Dataframe exists in .csv format. The dimensions of the dataframe are (350 rows, 5 columns).\n",
    "Each row represents driving license features as follows:\n",
    "\n",
    "    nnamed 0:seems to serve as index for df\n",
    "    year: the year of issued driving licenses\n",
    "    administritive area: describes issuing area\n",
    "    driving licenses: number of issued licenses\n",
    "    geo_point_2d:describes geographical location of issuing area \n",
    "    \n"
   ]
  },
  {
   "cell_type": "markdown",
   "metadata": {},
   "source": [
    "#### 4a. How complete is the data?\n",
    "\n",
    "Investigate missing values etc."
   ]
  },
  {
   "cell_type": "code",
   "execution_count": 6,
   "metadata": {},
   "outputs": [
    {
     "name": "stdout",
     "output_type": "stream",
     "text": [
      "Unnamed: 0      0\n",
      "Unnamed: 0.1    0\n",
      "Year            0\n",
      "Region          0\n",
      "Indicator       0\n",
      "Value           0\n",
      "geo_point_2d    6\n",
      "dtype: int64\n",
      "-----------------\n",
      "Unnamed: 0              0\n",
      "Year                    0\n",
      "Administritive Area     0\n",
      "Driving Liceses         0\n",
      "geo_point_2d           25\n",
      "dtype: int64\n",
      "-----------------\n",
      "(84, 7)\n",
      "(350, 5)\n"
     ]
    }
   ],
   "source": [
    "print(accidents_df.isnull().sum()) # there are 6 missing values in accidents_df['geo_point_2d']\n",
    "print('-----------------')\n",
    "print(licenses_df.isnull().sum() ) # there are 25 missing values in accidents_df['geo_point_2d']\n",
    "\n",
    "#\n",
    "\n",
    "print('-----------------')\n",
    "print(accidents_df.shape)\n",
    "print(licenses_df.shape)\n"
   ]
  },
  {
   "cell_type": "code",
   "execution_count": 7,
   "metadata": {
    "scrolled": true
   },
   "outputs": [],
   "source": [
    "# After examining csv files for both dataframes, rows of missing values must be droped as they will interfere\n",
    "# with our analysis later. in addition, they are also unrelated to regions.\n",
    "\n",
    "\n",
    "#dropping missing values from both dataframes\n",
    "\n",
    "accidents_df.dropna(how='any', inplace=True)\n",
    "licenses_df.dropna(how='any', inplace=True)"
   ]
  },
  {
   "cell_type": "code",
   "execution_count": 8,
   "metadata": {
    "scrolled": true
   },
   "outputs": [
    {
     "name": "stdout",
     "output_type": "stream",
     "text": [
      "Unnamed: 0      0\n",
      "Unnamed: 0.1    0\n",
      "Year            0\n",
      "Region          0\n",
      "Indicator       0\n",
      "Value           0\n",
      "geo_point_2d    0\n",
      "dtype: int64\n",
      "-----------------\n",
      "Unnamed: 0             0\n",
      "Year                   0\n",
      "Administritive Area    0\n",
      "Driving Liceses        0\n",
      "geo_point_2d           0\n",
      "dtype: int64\n",
      "-----------------\n",
      "(78, 7)\n",
      "(325, 5)\n"
     ]
    }
   ],
   "source": [
    "# missing values re-check\n",
    "\n",
    "print(accidents_df.isnull().sum()) \n",
    "print('-----------------')\n",
    "print(licenses_df.isnull().sum())\n",
    "\n",
    "\n",
    "print('-----------------')\n",
    "print(accidents_df.shape)\n",
    "print(licenses_df.shape)"
   ]
  },
  {
   "cell_type": "markdown",
   "metadata": {},
   "source": [
    "#### 4b. Are there any obvious issues with the observations?\n",
    "\n",
    "yes, \n",
    "\n",
    "\n",
    "- There are unnamed columns that will have to be dropped.\n",
    "\n",
    "- geo_point column has missing values in both dataframes and were subsequently dropped. \n",
    "\n",
    "- geo_point column in both dataframes need to be separated on (',')into two additional cloumns.\n",
    "\n",
    "- Driving licenses column in the licenses_df contains string of numbers follwed by letter n. This letter needs to be removed and numbers within the same column need to be converted into integer type.\n",
    "\n",
    "\n",
    "**What is the minimum *possible* value for each dataset? What is the maximum *possible* value?**"
   ]
  },
  {
   "cell_type": "code",
   "execution_count": 9,
   "metadata": {
    "scrolled": false
   },
   "outputs": [
    {
     "name": "stdout",
     "output_type": "stream",
     "text": [
      "Unnamed: 0                               83\n",
      "Unnamed: 0.1                             83\n",
      "Year                                 (2017)\n",
      "Region                               Tabouk\n",
      "Indicator       No. of Casualties - Injured\n",
      "Value                                99925n\n",
      "geo_point_2d    30.197074783, 41.8171186952\n",
      "dtype: object\n",
      "------------\n",
      "Unnamed: 0                                 0\n",
      "Unnamed: 0.1                               0\n",
      "Year                                  (2016)\n",
      "Region                              Al-Baaha\n",
      "Indicator                   No. of Accidents\n",
      "Value                                  1007n\n",
      "geo_point_2d    17.2072313962, 42.6525807422\n",
      "dtype: object\n"
     ]
    }
   ],
   "source": [
    "# checking max and min for accidents_df\n",
    "\n",
    "print(accidents_df.max(axis = 0, skipna = True)); \n",
    "print('------------')\n",
    "print(accidents_df.min(axis = 0, skipna = True));"
   ]
  },
  {
   "cell_type": "code",
   "execution_count": 10,
   "metadata": {
    "scrolled": false
   },
   "outputs": [
    {
     "name": "stdout",
     "output_type": "stream",
     "text": [
      "Unnamed: 0                                     349\n",
      "Year                                        (2017)\n",
      "Administritive Area                         Tabouk\n",
      "Driving Liceses                              9983n\n",
      "geo_point_2d           30.197074783, 41.8171186952\n",
      "dtype: object\n",
      "-----------\n",
      "Unnamed: 0                                        0\n",
      "Year                                         (1993)\n",
      "Administritive Area                         Al-Baha\n",
      "Driving Liceses                             100291n\n",
      "geo_point_2d           17.2072313962, 42.6525807422\n",
      "dtype: object\n"
     ]
    }
   ],
   "source": [
    "# checking max and min for licenses_df\n",
    "\n",
    "print(licenses_df.max(axis = 0, skipna = True));\n",
    "print('-----------')\n",
    "print(licenses_df.min(axis = 0, skipna = True)); "
   ]
  },
  {
   "cell_type": "markdown",
   "metadata": {},
   "source": [
    "#### 5. What are your data types? \n",
    "Display the data types of each feature. "
   ]
  },
  {
   "cell_type": "code",
   "execution_count": 11,
   "metadata": {},
   "outputs": [
    {
     "name": "stdout",
     "output_type": "stream",
     "text": [
      "Unnamed: 0              int64\n",
      "Year                   object\n",
      "Administritive Area    object\n",
      "Driving Liceses        object\n",
      "geo_point_2d           object\n",
      "dtype: object\n",
      "------------------\n",
      "Unnamed: 0       int64\n",
      "Unnamed: 0.1     int64\n",
      "Year            object\n",
      "Region          object\n",
      "Indicator       object\n",
      "Value           object\n",
      "geo_point_2d    object\n",
      "dtype: object\n"
     ]
    }
   ],
   "source": [
    "#displying datatype for each feature for both dataframes\n",
    "\n",
    "print(licenses_df.dtypes) \n",
    "print('------------------')\n",
    "print(accidents_df.dtypes)"
   ]
  },
  {
   "cell_type": "markdown",
   "metadata": {},
   "source": [
    "What did you learn?\n",
    "- Do any of them seem odd? \n",
    "- Which ones are not as they should be?     "
   ]
  },
  {
   "cell_type": "markdown",
   "metadata": {},
   "source": [
    "Answer: \n",
    "\n",
    "\n",
    "yes,\n",
    "\n",
    "- numerical columns (year, value, geopoints) contain strin objects. These will have to be converted into correct value types as int and floats  "
   ]
  },
  {
   "cell_type": "markdown",
   "metadata": {},
   "source": [
    "#### 6. Fix incorrect data types\n",
    "Based on what you discovered above, use appropriate methods to re-type incorrectly typed data.\n",
    "- Define a function that will allow you to convert numerical columns to an appropriate numeric type. Use `map` or `apply` to change these columns in each dataframe."
   ]
  },
  {
   "cell_type": "code",
   "execution_count": 12,
   "metadata": {},
   "outputs": [
    {
     "name": "stdout",
     "output_type": "stream",
     "text": [
      "Unnamed: 0       int64\n",
      "Unnamed: 0.1     int64\n",
      "Year             int64\n",
      "Region          object\n",
      "Indicator       object\n",
      "Value           object\n",
      "geo_point_2d    object\n",
      "dtype: object\n",
      "--------------\n",
      "Unnamed: 0              int64\n",
      "Year                    int64\n",
      "Administritive Area    object\n",
      "Driving Liceses        object\n",
      "geo_point_2d           object\n",
      "dtype: object\n"
     ]
    }
   ],
   "source": [
    "# using one-line function to convert ['Year'] object str to integer type. and omitting ()\n",
    "\n",
    "accidents_df['Year'] = accidents_df['Year'].apply(lambda x: x.replace('(', '').replace(')', '')).astype('int')\n",
    "licenses_df['Year'] = licenses_df['Year'].apply(lambda x: x.replace('(', '').replace(')', '')).astype('int')\n",
    "#\n",
    "print(accidents_df.dtypes)\n",
    "print('--------------')\n",
    "print(licenses_df.dtypes)\n",
    "\n"
   ]
  },
  {
   "cell_type": "markdown",
   "metadata": {},
   "source": [
    "- Make new columns `x` and `y` using `geo_point_2d`"
   ]
  },
  {
   "cell_type": "code",
   "execution_count": 13,
   "metadata": {},
   "outputs": [],
   "source": [
    "# creating new x,y columns using geo_point_2d and splitting on (',') \n",
    "\n",
    "accidents_df[['x','y']] = accidents_df.geo_point_2d.str.split(\",\",expand=True,)\n",
    "licenses_df[['x','y']] = licenses_df.geo_point_2d.str.split(\",\",expand=True,)"
   ]
  },
  {
   "cell_type": "code",
   "execution_count": 14,
   "metadata": {},
   "outputs": [
    {
     "data": {
      "text/plain": [
       "str"
      ]
     },
     "execution_count": 14,
     "metadata": {},
     "output_type": "execute_result"
    }
   ],
   "source": [
    "type(accidents_df.x.loc[10]) #checking type of random value in x column"
   ]
  },
  {
   "cell_type": "code",
   "execution_count": 15,
   "metadata": {},
   "outputs": [],
   "source": [
    "# converting x and y cols to floats instead of object str for both dataframes\n",
    "\n",
    "accidents_df[['x','y']] = accidents_df[['x','y']].astype('float')\n",
    "licenses_df[['x','y']] = licenses_df[['x','y']].astype('float')"
   ]
  },
  {
   "cell_type": "code",
   "execution_count": 16,
   "metadata": {},
   "outputs": [
    {
     "data": {
      "text/plain": [
       "numpy.float64"
      ]
     },
     "execution_count": 16,
     "metadata": {},
     "output_type": "execute_result"
    }
   ],
   "source": [
    "type(accidents_df.x.loc[10]) # re-checking type of the same value in x column"
   ]
  },
  {
   "cell_type": "code",
   "execution_count": 17,
   "metadata": {},
   "outputs": [],
   "source": [
    "# dropping unnecessary columns goint forward\n",
    "accidents_df = accidents_df.drop(['Unnamed: 0','Unnamed: 0.1','geo_point_2d'], axis=1)\n",
    "licenses_df = licenses_df.drop(['Unnamed: 0','geo_point_2d'], axis=1)\n"
   ]
  },
  {
   "cell_type": "markdown",
   "metadata": {},
   "source": [
    "- Fix any individual values preventing other columns from being the appropriate type."
   ]
  },
  {
   "cell_type": "code",
   "execution_count": 18,
   "metadata": {},
   "outputs": [],
   "source": [
    "# using .apply lambda to omit letter n from columns ['Value'] and ['Driving Licenses'] \n",
    "# and converting column value types into integers\n",
    "\n",
    "accidents_df['Value'] = accidents_df['Value'].apply(lambda x: x.replace('n', '')).astype('int')\n",
    "licenses_df['Driving Liceses'] = licenses_df['Driving Liceses'].apply(lambda x: x.replace('n', '')).astype('int')"
   ]
  },
  {
   "cell_type": "markdown",
   "metadata": {},
   "source": [
    "- Finish your data modifications by making sure the columns are now typed appropriately."
   ]
  },
  {
   "cell_type": "code",
   "execution_count": 19,
   "metadata": {},
   "outputs": [
    {
     "data": {
      "text/html": [
       "<div>\n",
       "<style scoped>\n",
       "    .dataframe tbody tr th:only-of-type {\n",
       "        vertical-align: middle;\n",
       "    }\n",
       "\n",
       "    .dataframe tbody tr th {\n",
       "        vertical-align: top;\n",
       "    }\n",
       "\n",
       "    .dataframe thead th {\n",
       "        text-align: right;\n",
       "    }\n",
       "</style>\n",
       "<table border=\"1\" class=\"dataframe\">\n",
       "  <thead>\n",
       "    <tr style=\"text-align: right;\">\n",
       "      <th></th>\n",
       "      <th>Year</th>\n",
       "      <th>Administritive Area</th>\n",
       "      <th>Driving Liceses</th>\n",
       "      <th>x</th>\n",
       "      <th>y</th>\n",
       "    </tr>\n",
       "  </thead>\n",
       "  <tbody>\n",
       "    <tr>\n",
       "      <th>0</th>\n",
       "      <td>2012</td>\n",
       "      <td>Makkah</td>\n",
       "      <td>143954</td>\n",
       "      <td>21.628963</td>\n",
       "      <td>41.26369</td>\n",
       "    </tr>\n",
       "    <tr>\n",
       "      <th>1</th>\n",
       "      <td>1994</td>\n",
       "      <td>Makkah</td>\n",
       "      <td>75349</td>\n",
       "      <td>21.628963</td>\n",
       "      <td>41.26369</td>\n",
       "    </tr>\n",
       "    <tr>\n",
       "      <th>2</th>\n",
       "      <td>1998</td>\n",
       "      <td>Makkah</td>\n",
       "      <td>86082</td>\n",
       "      <td>21.628963</td>\n",
       "      <td>41.26369</td>\n",
       "    </tr>\n",
       "    <tr>\n",
       "      <th>3</th>\n",
       "      <td>2004</td>\n",
       "      <td>Makkah</td>\n",
       "      <td>86636</td>\n",
       "      <td>21.628963</td>\n",
       "      <td>41.26369</td>\n",
       "    </tr>\n",
       "    <tr>\n",
       "      <th>4</th>\n",
       "      <td>2005</td>\n",
       "      <td>Makkah</td>\n",
       "      <td>65099</td>\n",
       "      <td>21.628963</td>\n",
       "      <td>41.26369</td>\n",
       "    </tr>\n",
       "  </tbody>\n",
       "</table>\n",
       "</div>"
      ],
      "text/plain": [
       "   Year Administritive Area  Driving Liceses          x         y\n",
       "0  2012              Makkah           143954  21.628963  41.26369\n",
       "1  1994              Makkah            75349  21.628963  41.26369\n",
       "2  1998              Makkah            86082  21.628963  41.26369\n",
       "3  2004              Makkah            86636  21.628963  41.26369\n",
       "4  2005              Makkah            65099  21.628963  41.26369"
      ]
     },
     "execution_count": 19,
     "metadata": {},
     "output_type": "execute_result"
    }
   ],
   "source": [
    "licenses_df.head()"
   ]
  },
  {
   "cell_type": "code",
   "execution_count": 20,
   "metadata": {},
   "outputs": [
    {
     "data": {
      "text/html": [
       "<div>\n",
       "<style scoped>\n",
       "    .dataframe tbody tr th:only-of-type {\n",
       "        vertical-align: middle;\n",
       "    }\n",
       "\n",
       "    .dataframe tbody tr th {\n",
       "        vertical-align: top;\n",
       "    }\n",
       "\n",
       "    .dataframe thead th {\n",
       "        text-align: right;\n",
       "    }\n",
       "</style>\n",
       "<table border=\"1\" class=\"dataframe\">\n",
       "  <thead>\n",
       "    <tr style=\"text-align: right;\">\n",
       "      <th></th>\n",
       "      <th>Year</th>\n",
       "      <th>Region</th>\n",
       "      <th>Indicator</th>\n",
       "      <th>Value</th>\n",
       "      <th>x</th>\n",
       "      <th>y</th>\n",
       "    </tr>\n",
       "  </thead>\n",
       "  <tbody>\n",
       "    <tr>\n",
       "      <th>0</th>\n",
       "      <td>2016</td>\n",
       "      <td>Makkah</td>\n",
       "      <td>No. of Casualties - Injured</td>\n",
       "      <td>12383</td>\n",
       "      <td>21.628963</td>\n",
       "      <td>41.263690</td>\n",
       "    </tr>\n",
       "    <tr>\n",
       "      <th>1</th>\n",
       "      <td>2016</td>\n",
       "      <td>Eastern Region</td>\n",
       "      <td>No. of Casualties - Dead</td>\n",
       "      <td>1113</td>\n",
       "      <td>23.288331</td>\n",
       "      <td>50.147830</td>\n",
       "    </tr>\n",
       "    <tr>\n",
       "      <th>2</th>\n",
       "      <td>2016</td>\n",
       "      <td>Tabouk</td>\n",
       "      <td>No. of Casualties - Dead</td>\n",
       "      <td>434</td>\n",
       "      <td>27.901655</td>\n",
       "      <td>37.259858</td>\n",
       "    </tr>\n",
       "    <tr>\n",
       "      <th>3</th>\n",
       "      <td>2016</td>\n",
       "      <td>Hail</td>\n",
       "      <td>No. of Casualties - Dead</td>\n",
       "      <td>299</td>\n",
       "      <td>27.400846</td>\n",
       "      <td>41.440696</td>\n",
       "    </tr>\n",
       "    <tr>\n",
       "      <th>4</th>\n",
       "      <td>2016</td>\n",
       "      <td>Hail</td>\n",
       "      <td>No. of Accidents</td>\n",
       "      <td>10199</td>\n",
       "      <td>27.400846</td>\n",
       "      <td>41.440696</td>\n",
       "    </tr>\n",
       "  </tbody>\n",
       "</table>\n",
       "</div>"
      ],
      "text/plain": [
       "   Year          Region                    Indicator  Value          x  \\\n",
       "0  2016          Makkah  No. of Casualties - Injured  12383  21.628963   \n",
       "1  2016  Eastern Region     No. of Casualties - Dead   1113  23.288331   \n",
       "2  2016          Tabouk     No. of Casualties - Dead    434  27.901655   \n",
       "3  2016            Hail     No. of Casualties - Dead    299  27.400846   \n",
       "4  2016            Hail             No. of Accidents  10199  27.400846   \n",
       "\n",
       "           y  \n",
       "0  41.263690  \n",
       "1  50.147830  \n",
       "2  37.259858  \n",
       "3  41.440696  \n",
       "4  41.440696  "
      ]
     },
     "execution_count": 20,
     "metadata": {},
     "output_type": "execute_result"
    }
   ],
   "source": [
    "accidents_df.head()"
   ]
  },
  {
   "cell_type": "markdown",
   "metadata": {},
   "source": [
    "- Display the data types again to confirm they are correct."
   ]
  },
  {
   "cell_type": "code",
   "execution_count": 21,
   "metadata": {},
   "outputs": [
    {
     "name": "stdout",
     "output_type": "stream",
     "text": [
      "Year           int64\n",
      "Region        object\n",
      "Indicator     object\n",
      "Value          int64\n",
      "x            float64\n",
      "y            float64\n",
      "dtype: object\n",
      "---------------\n",
      "Year                     int64\n",
      "Administritive Area     object\n",
      "Driving Liceses          int64\n",
      "x                      float64\n",
      "y                      float64\n",
      "dtype: object\n"
     ]
    }
   ],
   "source": [
    "print(accidents_df.dtypes)\n",
    "print('---------------')\n",
    "print(licenses_df.dtypes)"
   ]
  },
  {
   "cell_type": "markdown",
   "metadata": {},
   "source": [
    "#### 7. Rename columns\n",
    "Change the names of the columns to more expressive names so that you can tell the difference the Driving Licenses  columns and the & Traffic Accidents columns. Your solution should map all column names being changed at once (no repeated singular name-changes). **We will be combining these two datasets, and so you should name columns in an appropriate way**.\n",
    "\n",
    "**Guidelines**:\n",
    "- Column names should be all lowercase (you will thank yourself when you start pushing data to SQL later in the course)\n",
    "- Column names should not contain spaces (underscores will suffice--this allows for using the `df.column_name` method to access columns in addition to `df['column_name']`.\n",
    "- Column names should be unique and informative (the only feature that we actually share between dataframes is the state).\n",
    "- Please also fix any typos you see in the column names."
   ]
  },
  {
   "cell_type": "code",
   "execution_count": 22,
   "metadata": {},
   "outputs": [
    {
     "data": {
      "text/plain": [
       "Index(['Year', 'Administritive Area', 'Driving Liceses', 'x', 'y'], dtype='object')"
      ]
     },
     "execution_count": 22,
     "metadata": {},
     "output_type": "execute_result"
    }
   ],
   "source": [
    "# displaying column names in licenses_df\n",
    "licenses_df.columns"
   ]
  },
  {
   "cell_type": "code",
   "execution_count": 23,
   "metadata": {},
   "outputs": [],
   "source": [
    "# renaming columns in licenses_df using the dictionary method:\n",
    "\n",
    "licenses_df.rename(columns={\n",
    "        'Year':'licese_year',                \n",
    "        'Administritive Area':'region', \n",
    "        'Driving Liceses':'license_count',     \n",
    "        'x':'x_point',                 \n",
    "        'y':'y_point'            \n",
    "            }, inplace = True)"
   ]
  },
  {
   "cell_type": "code",
   "execution_count": 24,
   "metadata": {},
   "outputs": [
    {
     "data": {
      "text/html": [
       "<div>\n",
       "<style scoped>\n",
       "    .dataframe tbody tr th:only-of-type {\n",
       "        vertical-align: middle;\n",
       "    }\n",
       "\n",
       "    .dataframe tbody tr th {\n",
       "        vertical-align: top;\n",
       "    }\n",
       "\n",
       "    .dataframe thead th {\n",
       "        text-align: right;\n",
       "    }\n",
       "</style>\n",
       "<table border=\"1\" class=\"dataframe\">\n",
       "  <thead>\n",
       "    <tr style=\"text-align: right;\">\n",
       "      <th></th>\n",
       "      <th>licese_year</th>\n",
       "      <th>region</th>\n",
       "      <th>license_count</th>\n",
       "      <th>x_point</th>\n",
       "      <th>y_point</th>\n",
       "    </tr>\n",
       "  </thead>\n",
       "  <tbody>\n",
       "    <tr>\n",
       "      <th>0</th>\n",
       "      <td>2012</td>\n",
       "      <td>Makkah</td>\n",
       "      <td>143954</td>\n",
       "      <td>21.628963</td>\n",
       "      <td>41.26369</td>\n",
       "    </tr>\n",
       "    <tr>\n",
       "      <th>1</th>\n",
       "      <td>1994</td>\n",
       "      <td>Makkah</td>\n",
       "      <td>75349</td>\n",
       "      <td>21.628963</td>\n",
       "      <td>41.26369</td>\n",
       "    </tr>\n",
       "    <tr>\n",
       "      <th>2</th>\n",
       "      <td>1998</td>\n",
       "      <td>Makkah</td>\n",
       "      <td>86082</td>\n",
       "      <td>21.628963</td>\n",
       "      <td>41.26369</td>\n",
       "    </tr>\n",
       "    <tr>\n",
       "      <th>3</th>\n",
       "      <td>2004</td>\n",
       "      <td>Makkah</td>\n",
       "      <td>86636</td>\n",
       "      <td>21.628963</td>\n",
       "      <td>41.26369</td>\n",
       "    </tr>\n",
       "    <tr>\n",
       "      <th>4</th>\n",
       "      <td>2005</td>\n",
       "      <td>Makkah</td>\n",
       "      <td>65099</td>\n",
       "      <td>21.628963</td>\n",
       "      <td>41.26369</td>\n",
       "    </tr>\n",
       "  </tbody>\n",
       "</table>\n",
       "</div>"
      ],
      "text/plain": [
       "   licese_year  region  license_count    x_point   y_point\n",
       "0         2012  Makkah         143954  21.628963  41.26369\n",
       "1         1994  Makkah          75349  21.628963  41.26369\n",
       "2         1998  Makkah          86082  21.628963  41.26369\n",
       "3         2004  Makkah          86636  21.628963  41.26369\n",
       "4         2005  Makkah          65099  21.628963  41.26369"
      ]
     },
     "execution_count": 24,
     "metadata": {},
     "output_type": "execute_result"
    }
   ],
   "source": [
    "# displaying new column names in licenses_df\n",
    "licenses_df.head()"
   ]
  },
  {
   "cell_type": "code",
   "execution_count": 25,
   "metadata": {},
   "outputs": [
    {
     "data": {
      "text/plain": [
       "Index(['Year', 'Region', 'Indicator', 'Value', 'x', 'y'], dtype='object')"
      ]
     },
     "execution_count": 25,
     "metadata": {},
     "output_type": "execute_result"
    }
   ],
   "source": [
    "# displaying a list of column names in accidnets_df\n",
    "accidents_df.columns"
   ]
  },
  {
   "cell_type": "code",
   "execution_count": 26,
   "metadata": {},
   "outputs": [],
   "source": [
    "# renaming columns in accidents_df using the dictionary method:\n",
    "\n",
    "accidents_df.rename(columns={\n",
    "        'Year':'accident_year',            \n",
    "        'Region':'region',        \n",
    "        'Indicator':'accident_outcome',    \n",
    "        'Value':'accident_count',          \n",
    "        'x':'x_point',          \n",
    "        'y':'y_point'           \n",
    "            }, inplace=True)"
   ]
  },
  {
   "cell_type": "code",
   "execution_count": 27,
   "metadata": {
    "scrolled": false
   },
   "outputs": [
    {
     "data": {
      "text/html": [
       "<div>\n",
       "<style scoped>\n",
       "    .dataframe tbody tr th:only-of-type {\n",
       "        vertical-align: middle;\n",
       "    }\n",
       "\n",
       "    .dataframe tbody tr th {\n",
       "        vertical-align: top;\n",
       "    }\n",
       "\n",
       "    .dataframe thead th {\n",
       "        text-align: right;\n",
       "    }\n",
       "</style>\n",
       "<table border=\"1\" class=\"dataframe\">\n",
       "  <thead>\n",
       "    <tr style=\"text-align: right;\">\n",
       "      <th></th>\n",
       "      <th>accident_year</th>\n",
       "      <th>region</th>\n",
       "      <th>accident_outcome</th>\n",
       "      <th>accident_count</th>\n",
       "      <th>x_point</th>\n",
       "      <th>y_point</th>\n",
       "    </tr>\n",
       "  </thead>\n",
       "  <tbody>\n",
       "    <tr>\n",
       "      <th>0</th>\n",
       "      <td>2016</td>\n",
       "      <td>Makkah</td>\n",
       "      <td>No. of Casualties - Injured</td>\n",
       "      <td>12383</td>\n",
       "      <td>21.628963</td>\n",
       "      <td>41.263690</td>\n",
       "    </tr>\n",
       "    <tr>\n",
       "      <th>1</th>\n",
       "      <td>2016</td>\n",
       "      <td>Eastern Region</td>\n",
       "      <td>No. of Casualties - Dead</td>\n",
       "      <td>1113</td>\n",
       "      <td>23.288331</td>\n",
       "      <td>50.147830</td>\n",
       "    </tr>\n",
       "    <tr>\n",
       "      <th>2</th>\n",
       "      <td>2016</td>\n",
       "      <td>Tabouk</td>\n",
       "      <td>No. of Casualties - Dead</td>\n",
       "      <td>434</td>\n",
       "      <td>27.901655</td>\n",
       "      <td>37.259858</td>\n",
       "    </tr>\n",
       "    <tr>\n",
       "      <th>3</th>\n",
       "      <td>2016</td>\n",
       "      <td>Hail</td>\n",
       "      <td>No. of Casualties - Dead</td>\n",
       "      <td>299</td>\n",
       "      <td>27.400846</td>\n",
       "      <td>41.440696</td>\n",
       "    </tr>\n",
       "    <tr>\n",
       "      <th>4</th>\n",
       "      <td>2016</td>\n",
       "      <td>Hail</td>\n",
       "      <td>No. of Accidents</td>\n",
       "      <td>10199</td>\n",
       "      <td>27.400846</td>\n",
       "      <td>41.440696</td>\n",
       "    </tr>\n",
       "  </tbody>\n",
       "</table>\n",
       "</div>"
      ],
      "text/plain": [
       "   accident_year          region             accident_outcome  accident_count  \\\n",
       "0           2016          Makkah  No. of Casualties - Injured           12383   \n",
       "1           2016  Eastern Region     No. of Casualties - Dead            1113   \n",
       "2           2016          Tabouk     No. of Casualties - Dead             434   \n",
       "3           2016            Hail     No. of Casualties - Dead             299   \n",
       "4           2016            Hail             No. of Accidents           10199   \n",
       "\n",
       "     x_point    y_point  \n",
       "0  21.628963  41.263690  \n",
       "1  23.288331  50.147830  \n",
       "2  27.901655  37.259858  \n",
       "3  27.400846  41.440696  \n",
       "4  27.400846  41.440696  "
      ]
     },
     "execution_count": 27,
     "metadata": {},
     "output_type": "execute_result"
    }
   ],
   "source": [
    "# displaying new column names in accidents_df\n",
    "accidents_df.head()"
   ]
  },
  {
   "cell_type": "markdown",
   "metadata": {},
   "source": [
    "#### 8. Create a data dictionary\n",
    "\n",
    "Now that we've fixed our data, and given it appropriate names, let's create a [data dictionary](http://library.ucmerced.edu/node/10249). \n",
    "\n",
    "A data dictionary provides a quick overview of features/variables/columns, alongside data types and descriptions. The more descriptive you can be, the more useful this document is.\n",
    "\n",
    "Example of a Fictional Data Dictionary Entry: \n",
    "\n",
    "|Feature|Type|Dataset|Description|\n",
    "|---|---|---|---|\n",
    "|**county_pop**|*integer*|2010 census|The population of the county (units in thousands, where 2.5 represents 2500 people).| \n",
    "|**per_poverty**|*float*|2010 census|The percent of the county over the age of 18 living below the 200% of official US poverty rate (units percent to two decimal places 98.10 means 98.1%)|\n",
    "\n",
    "[Here's a quick link to a short guide for formatting markdown in Jupyter notebooks](https://jupyter-notebook.readthedocs.io/en/stable/examples/Notebook/Working%20With%20Markdown%20Cells.html).\n",
    "\n",
    "Provided is the skeleton for formatting a markdown table, with columns headers that will help you create a data dictionary to quickly summarize your data, as well as some examples. **This would be a great thing to copy and paste into your custom README for this project.**"
   ]
  },
  {
   "cell_type": "markdown",
   "metadata": {},
   "source": [
    "Note: the code in the cell below left aligns the data dictionary table.\n"
   ]
  },
  {
   "cell_type": "code",
   "execution_count": 28,
   "metadata": {},
   "outputs": [
    {
     "data": {
      "text/html": [
       "<style>\n",
       "table {float:left}\n",
       "</style>\n"
      ],
      "text/plain": [
       "<IPython.core.display.HTML object>"
      ]
     },
     "metadata": {},
     "output_type": "display_data"
    }
   ],
   "source": [
    "%%html\n",
    "<style>\n",
    "table {float:left}\n",
    "</style>"
   ]
  },
  {
   "cell_type": "markdown",
   "metadata": {},
   "source": [
    "|Feature|Type|Dataset|Description|\n",
    "|:-|:-|:-|:------------:|\n",
    "|accident_year|*int*|accidents_df|year in which traffict accidents occurred|\n",
    "|region|*object*|accidents_df & licenses_df|region of traffic accident or issued driving license|\n",
    "|accident_outcome|*object*|accidents_df|outcome of accidents - dead/injured|\n",
    "|accident_count|*int*|accidents_df|number accidents|\n",
    "|x_point|*float*|accidents_df & licenses_df|x coordinate location of accident or issued driving license| \n",
    "|y_point|*float*|accidents_df & licenses_df|y coordinate location of accident or issued driving license|\n",
    "|licese_year|*int*|licenses_df|year of issued driving license|\n",
    "|license_count|*int*|licenses_df|number of issued driving licenses|\n",
    "\n",
    "\n",
    "\n"
   ]
  },
  {
   "cell_type": "markdown",
   "metadata": {},
   "source": [
    "#### 9. Drop unnecessary rows\n",
    "\n",
    "This study concerns accident and license in regions/area. Please do the followings:\n",
    "0. Which rows are not associated with regions?\n",
    "1. Confirm the numbers of all regions add up to total.\n",
    "2. Remove the rows that are not associated with regions"
   ]
  },
  {
   "cell_type": "markdown",
   "metadata": {},
   "source": [
    "#Answer \n",
    "\n",
    " - unnecessary rows correspond to value == Total instead of a particular region/area \n",
    " - the same rows (with Total instead of region) also lack geo_point_2d values (nulls)\n",
    "        \n",
    "        These rows were droped earlier using:\n",
    "        \n",
    "        accidents_df.dropna(how='any', inplace=True)\n",
    "        licenses_df.dropna(how='any', inplace=True)\n"
   ]
  },
  {
   "cell_type": "code",
   "execution_count": 29,
   "metadata": {},
   "outputs": [],
   "source": [
    "# renaming regions to be the same across both dataframes\n",
    "\n",
    "licenses_df['region'].replace({'Makkah':'Makkah',\n",
    "                                'Eastern':'Eastern Region',\n",
    "                                'Tabouk':'Tabouk',\n",
    "                                'Hail':'Hail',\n",
    "                                'Northern Boarder':'Northern Boarder',\n",
    "                                'Jazan':'Jazan',\n",
    "                                'Al-Jouf':'Al-Jouf',\n",
    "                                'Al-Baaha':'Al-Baha',\n",
    "                                'Riyadh':'Riyadh',\n",
    "                                'Madinah':'Madinah',\n",
    "                                'Al-Qaseem':'Qassim',\n",
    "                                'Najran':'Najran',\n",
    "                                'Assir':'Asir'},inplace=True) # inplace = True to update original df"
   ]
  },
  {
   "cell_type": "code",
   "execution_count": 30,
   "metadata": {},
   "outputs": [],
   "source": [
    "# renaming regions to be the same across both dataframes\n",
    "\n",
    "\n",
    "accidents_df['region'].replace({'Mecca':'Makkah',\n",
    "                                'Eastern Region':'Eastern Region',\n",
    "                                'Tabouk':'Tabouk',\n",
    "                                'Hail':'Hail',\n",
    "                                'Northern Boarder':'Northern Boarder',\n",
    "                                'Jazan':'Jazan',\n",
    "                                'Al-Jouf':'Al-Jouf',\n",
    "                                'Al-Baaha':'Al-Baha',\n",
    "                                'Riyadh':'Riyadh',\n",
    "                                'Madinah':'Madinah',\n",
    "                                'Qassim':'Qassim',\n",
    "                                'Najran':'Najran',\n",
    "                                'Asir':'Asir'},inplace=True) "
   ]
  },
  {
   "cell_type": "code",
   "execution_count": 31,
   "metadata": {
    "scrolled": true
   },
   "outputs": [
    {
     "data": {
      "text/plain": [
       "array(['Makkah', 'Eastern Region', 'Tabouk', 'Hail', 'Northern Boarder',\n",
       "       'Jazan', 'Al-Jouf', 'Al-Baha', 'Riyadh', 'Madinah', 'Qassim',\n",
       "       'Najran', 'Asir'], dtype=object)"
      ]
     },
     "execution_count": 31,
     "metadata": {},
     "output_type": "execute_result"
    }
   ],
   "source": [
    "# checking updated region names in accidents_df\n",
    "accidents_df['region'].unique()"
   ]
  },
  {
   "cell_type": "code",
   "execution_count": 32,
   "metadata": {},
   "outputs": [
    {
     "data": {
      "text/plain": [
       "array(['Makkah', 'Madinah', 'Qassim', 'Eastern Region', 'Asir', 'Tabouk',\n",
       "       'Hail', 'Northern Boarder', 'Jazan', 'Najran', 'Al-Baha',\n",
       "       'Al-Jouf', 'Riyadh'], dtype=object)"
      ]
     },
     "execution_count": 32,
     "metadata": {},
     "output_type": "execute_result"
    }
   ],
   "source": [
    "#checking updated region names in licenses_df\n",
    "licenses_df['region'].unique()"
   ]
  },
  {
   "cell_type": "code",
   "execution_count": 33,
   "metadata": {
    "scrolled": true
   },
   "outputs": [
    {
     "name": "stdout",
     "output_type": "stream",
     "text": [
      "Qassim              6\n",
      "Al-Baha             6\n",
      "Eastern Region      6\n",
      "Jazan               6\n",
      "Madinah             6\n",
      "Riyadh              6\n",
      "Tabouk              6\n",
      "Northern Boarder    6\n",
      "Hail                6\n",
      "Najran              6\n",
      "Asir                6\n",
      "Al-Jouf             6\n",
      "Makkah              6\n",
      "Name: region, dtype: int64\n",
      "---------------\n",
      "78\n",
      "---------------\n",
      "(78, 6)\n"
     ]
    }
   ],
   "source": [
    "print(accidents_df['region'].value_counts()) #getting value counts for each region in region column\n",
    "print('---------------')\n",
    "print(accidents_df['region'].value_counts().sum()) #adding regions \n",
    "print('---------------')\n",
    "print(accidents_df.shape) # confirming number of regions add up to total"
   ]
  },
  {
   "cell_type": "code",
   "execution_count": 34,
   "metadata": {
    "scrolled": true
   },
   "outputs": [
    {
     "name": "stdout",
     "output_type": "stream",
     "text": [
      "Qassim              25\n",
      "Makkah              25\n",
      "Al-Baha             25\n",
      "Jazan               25\n",
      "Madinah             25\n",
      "Riyadh              25\n",
      "Tabouk              25\n",
      "Eastern Region      25\n",
      "Hail                25\n",
      "Najran              25\n",
      "Asir                25\n",
      "Al-Jouf             25\n",
      "Northern Boarder    25\n",
      "Name: region, dtype: int64\n",
      "---------------\n",
      "325\n",
      "---------------\n",
      "(325, 5)\n"
     ]
    }
   ],
   "source": [
    "print(licenses_df['region'].value_counts()) #getting value counts for each region in region column\n",
    "print('---------------')\n",
    "print(licenses_df['region'].value_counts().sum()) #adding regions \n",
    "print('---------------')\n",
    "print(licenses_df.shape) # confirming number of regions add up to total"
   ]
  },
  {
   "cell_type": "markdown",
   "metadata": {},
   "source": [
    "#### 10a. Data formats\n",
    "Is the License data in long or wide format? How about the Accident data? And why?"
   ]
  },
  {
   "cell_type": "markdown",
   "metadata": {},
   "source": [
    "Answer:\n",
    "\n",
    "Both are in long format since each row contains one measure for the given variable or subject."
   ]
  },
  {
   "cell_type": "markdown",
   "metadata": {},
   "source": [
    "#### 10b. Changing formats\n",
    "Which format would work best for both dataframes? Transform the datasets to the same format before merging in the next task."
   ]
  },
  {
   "cell_type": "markdown",
   "metadata": {},
   "source": [
    "Answer:\n",
    "\n",
    "long format will be suitable for flexibility in obtaining statistical data and plotting"
   ]
  },
  {
   "cell_type": "markdown",
   "metadata": {},
   "source": [
    "#### 11. Merge dataframes\n",
    "\n",
    "Join the Driving Licenses & Traffic Accidents dataframes using the **region** and **year** in each dataframe as the key. Assign this to a new variable. Which join should you use to preserve the most data?"
   ]
  },
  {
   "cell_type": "code",
   "execution_count": 35,
   "metadata": {},
   "outputs": [
    {
     "data": {
      "text/html": [
       "<div>\n",
       "<style scoped>\n",
       "    .dataframe tbody tr th:only-of-type {\n",
       "        vertical-align: middle;\n",
       "    }\n",
       "\n",
       "    .dataframe tbody tr th {\n",
       "        vertical-align: top;\n",
       "    }\n",
       "\n",
       "    .dataframe thead th {\n",
       "        text-align: right;\n",
       "    }\n",
       "</style>\n",
       "<table border=\"1\" class=\"dataframe\">\n",
       "  <thead>\n",
       "    <tr style=\"text-align: right;\">\n",
       "      <th></th>\n",
       "      <th>licese_year</th>\n",
       "      <th>region</th>\n",
       "      <th>license_count</th>\n",
       "      <th>x_point</th>\n",
       "      <th>y_point</th>\n",
       "    </tr>\n",
       "  </thead>\n",
       "  <tbody>\n",
       "    <tr>\n",
       "      <th>0</th>\n",
       "      <td>2012</td>\n",
       "      <td>Makkah</td>\n",
       "      <td>143954</td>\n",
       "      <td>21.628963</td>\n",
       "      <td>41.26369</td>\n",
       "    </tr>\n",
       "    <tr>\n",
       "      <th>1</th>\n",
       "      <td>1994</td>\n",
       "      <td>Makkah</td>\n",
       "      <td>75349</td>\n",
       "      <td>21.628963</td>\n",
       "      <td>41.26369</td>\n",
       "    </tr>\n",
       "    <tr>\n",
       "      <th>2</th>\n",
       "      <td>1998</td>\n",
       "      <td>Makkah</td>\n",
       "      <td>86082</td>\n",
       "      <td>21.628963</td>\n",
       "      <td>41.26369</td>\n",
       "    </tr>\n",
       "    <tr>\n",
       "      <th>3</th>\n",
       "      <td>2004</td>\n",
       "      <td>Makkah</td>\n",
       "      <td>86636</td>\n",
       "      <td>21.628963</td>\n",
       "      <td>41.26369</td>\n",
       "    </tr>\n",
       "    <tr>\n",
       "      <th>4</th>\n",
       "      <td>2005</td>\n",
       "      <td>Makkah</td>\n",
       "      <td>65099</td>\n",
       "      <td>21.628963</td>\n",
       "      <td>41.26369</td>\n",
       "    </tr>\n",
       "  </tbody>\n",
       "</table>\n",
       "</div>"
      ],
      "text/plain": [
       "   licese_year  region  license_count    x_point   y_point\n",
       "0         2012  Makkah         143954  21.628963  41.26369\n",
       "1         1994  Makkah          75349  21.628963  41.26369\n",
       "2         1998  Makkah          86082  21.628963  41.26369\n",
       "3         2004  Makkah          86636  21.628963  41.26369\n",
       "4         2005  Makkah          65099  21.628963  41.26369"
      ]
     },
     "execution_count": 35,
     "metadata": {},
     "output_type": "execute_result"
    }
   ],
   "source": [
    "#display license_df before merge\n",
    "licenses_df.head()"
   ]
  },
  {
   "cell_type": "code",
   "execution_count": 36,
   "metadata": {},
   "outputs": [
    {
     "data": {
      "text/html": [
       "<div>\n",
       "<style scoped>\n",
       "    .dataframe tbody tr th:only-of-type {\n",
       "        vertical-align: middle;\n",
       "    }\n",
       "\n",
       "    .dataframe tbody tr th {\n",
       "        vertical-align: top;\n",
       "    }\n",
       "\n",
       "    .dataframe thead th {\n",
       "        text-align: right;\n",
       "    }\n",
       "</style>\n",
       "<table border=\"1\" class=\"dataframe\">\n",
       "  <thead>\n",
       "    <tr style=\"text-align: right;\">\n",
       "      <th></th>\n",
       "      <th>accident_year</th>\n",
       "      <th>region</th>\n",
       "      <th>accident_outcome</th>\n",
       "      <th>accident_count</th>\n",
       "      <th>x_point</th>\n",
       "      <th>y_point</th>\n",
       "    </tr>\n",
       "  </thead>\n",
       "  <tbody>\n",
       "    <tr>\n",
       "      <th>0</th>\n",
       "      <td>2016</td>\n",
       "      <td>Makkah</td>\n",
       "      <td>No. of Casualties - Injured</td>\n",
       "      <td>12383</td>\n",
       "      <td>21.628963</td>\n",
       "      <td>41.263690</td>\n",
       "    </tr>\n",
       "    <tr>\n",
       "      <th>1</th>\n",
       "      <td>2016</td>\n",
       "      <td>Eastern Region</td>\n",
       "      <td>No. of Casualties - Dead</td>\n",
       "      <td>1113</td>\n",
       "      <td>23.288331</td>\n",
       "      <td>50.147830</td>\n",
       "    </tr>\n",
       "    <tr>\n",
       "      <th>2</th>\n",
       "      <td>2016</td>\n",
       "      <td>Tabouk</td>\n",
       "      <td>No. of Casualties - Dead</td>\n",
       "      <td>434</td>\n",
       "      <td>27.901655</td>\n",
       "      <td>37.259858</td>\n",
       "    </tr>\n",
       "    <tr>\n",
       "      <th>3</th>\n",
       "      <td>2016</td>\n",
       "      <td>Hail</td>\n",
       "      <td>No. of Casualties - Dead</td>\n",
       "      <td>299</td>\n",
       "      <td>27.400846</td>\n",
       "      <td>41.440696</td>\n",
       "    </tr>\n",
       "    <tr>\n",
       "      <th>4</th>\n",
       "      <td>2016</td>\n",
       "      <td>Hail</td>\n",
       "      <td>No. of Accidents</td>\n",
       "      <td>10199</td>\n",
       "      <td>27.400846</td>\n",
       "      <td>41.440696</td>\n",
       "    </tr>\n",
       "  </tbody>\n",
       "</table>\n",
       "</div>"
      ],
      "text/plain": [
       "   accident_year          region             accident_outcome  accident_count  \\\n",
       "0           2016          Makkah  No. of Casualties - Injured           12383   \n",
       "1           2016  Eastern Region     No. of Casualties - Dead            1113   \n",
       "2           2016          Tabouk     No. of Casualties - Dead             434   \n",
       "3           2016            Hail     No. of Casualties - Dead             299   \n",
       "4           2016            Hail             No. of Accidents           10199   \n",
       "\n",
       "     x_point    y_point  \n",
       "0  21.628963  41.263690  \n",
       "1  23.288331  50.147830  \n",
       "2  27.901655  37.259858  \n",
       "3  27.400846  41.440696  \n",
       "4  27.400846  41.440696  "
      ]
     },
     "execution_count": 36,
     "metadata": {},
     "output_type": "execute_result"
    }
   ],
   "source": [
    "#display accidents_df before merge\n",
    "accidents_df.head()"
   ]
  },
  {
   "cell_type": "code",
   "execution_count": 37,
   "metadata": {
    "scrolled": false
   },
   "outputs": [
    {
     "data": {
      "text/html": [
       "<div>\n",
       "<style scoped>\n",
       "    .dataframe tbody tr th:only-of-type {\n",
       "        vertical-align: middle;\n",
       "    }\n",
       "\n",
       "    .dataframe tbody tr th {\n",
       "        vertical-align: top;\n",
       "    }\n",
       "\n",
       "    .dataframe thead th {\n",
       "        text-align: right;\n",
       "    }\n",
       "</style>\n",
       "<table border=\"1\" class=\"dataframe\">\n",
       "  <thead>\n",
       "    <tr style=\"text-align: right;\">\n",
       "      <th></th>\n",
       "      <th>licese_year</th>\n",
       "      <th>region</th>\n",
       "      <th>license_count</th>\n",
       "      <th>x_point</th>\n",
       "      <th>y_point</th>\n",
       "      <th>accident_year</th>\n",
       "      <th>accident_outcome</th>\n",
       "      <th>accident_count</th>\n",
       "    </tr>\n",
       "  </thead>\n",
       "  <tbody>\n",
       "    <tr>\n",
       "      <th>0</th>\n",
       "      <td>2012</td>\n",
       "      <td>Makkah</td>\n",
       "      <td>143954</td>\n",
       "      <td>21.628963</td>\n",
       "      <td>41.26369</td>\n",
       "      <td>2016</td>\n",
       "      <td>No. of Casualties - Injured</td>\n",
       "      <td>12383</td>\n",
       "    </tr>\n",
       "    <tr>\n",
       "      <th>1</th>\n",
       "      <td>2012</td>\n",
       "      <td>Makkah</td>\n",
       "      <td>143954</td>\n",
       "      <td>21.628963</td>\n",
       "      <td>41.26369</td>\n",
       "      <td>2016</td>\n",
       "      <td>No. of Accidents</td>\n",
       "      <td>134838</td>\n",
       "    </tr>\n",
       "    <tr>\n",
       "      <th>2</th>\n",
       "      <td>2012</td>\n",
       "      <td>Makkah</td>\n",
       "      <td>143954</td>\n",
       "      <td>21.628963</td>\n",
       "      <td>41.26369</td>\n",
       "      <td>2017</td>\n",
       "      <td>No. of Casualties - Injured</td>\n",
       "      <td>10623</td>\n",
       "    </tr>\n",
       "    <tr>\n",
       "      <th>3</th>\n",
       "      <td>2012</td>\n",
       "      <td>Makkah</td>\n",
       "      <td>143954</td>\n",
       "      <td>21.628963</td>\n",
       "      <td>41.26369</td>\n",
       "      <td>2017</td>\n",
       "      <td>No. of Casualties - Dead</td>\n",
       "      <td>1641</td>\n",
       "    </tr>\n",
       "    <tr>\n",
       "      <th>4</th>\n",
       "      <td>2012</td>\n",
       "      <td>Makkah</td>\n",
       "      <td>143954</td>\n",
       "      <td>21.628963</td>\n",
       "      <td>41.26369</td>\n",
       "      <td>2016</td>\n",
       "      <td>No. of Casualties - Dead</td>\n",
       "      <td>2243</td>\n",
       "    </tr>\n",
       "  </tbody>\n",
       "</table>\n",
       "</div>"
      ],
      "text/plain": [
       "   licese_year  region  license_count    x_point   y_point  accident_year  \\\n",
       "0         2012  Makkah         143954  21.628963  41.26369           2016   \n",
       "1         2012  Makkah         143954  21.628963  41.26369           2016   \n",
       "2         2012  Makkah         143954  21.628963  41.26369           2017   \n",
       "3         2012  Makkah         143954  21.628963  41.26369           2017   \n",
       "4         2012  Makkah         143954  21.628963  41.26369           2016   \n",
       "\n",
       "              accident_outcome  accident_count  \n",
       "0  No. of Casualties - Injured           12383  \n",
       "1             No. of Accidents          134838  \n",
       "2  No. of Casualties - Injured           10623  \n",
       "3     No. of Casualties - Dead            1641  \n",
       "4     No. of Casualties - Dead            2243  "
      ]
     },
     "execution_count": 37,
     "metadata": {},
     "output_type": "execute_result"
    }
   ],
   "source": [
    "#performing an inner join to preserve most data \n",
    "\n",
    "combined_datasets = pd.merge(licenses_df,accidents_df,on=['region','x_point','y_point'], how='inner')\n",
    "\n",
    "combined_datasets.head()"
   ]
  },
  {
   "cell_type": "code",
   "execution_count": 38,
   "metadata": {
    "scrolled": true
   },
   "outputs": [
    {
     "name": "stdout",
     "output_type": "stream",
     "text": [
      "accidents_df: (78, 6)\n",
      "licenses_df: (325, 5)\n",
      "combined_datasets: (1950, 8)\n"
     ]
    }
   ],
   "source": [
    "print(f'accidents_df: {accidents_df.shape}\\nlicenses_df: {licenses_df.shape}\\ncombined_datasets: {combined_datasets.shape}')"
   ]
  },
  {
   "cell_type": "markdown",
   "metadata": {},
   "source": [
    "#### 12. Save your cleaned, merged dataframe\n",
    "\n",
    "Use a relative path to save out your data as `combined_datasets.csv`."
   ]
  },
  {
   "cell_type": "markdown",
   "metadata": {},
   "source": [
    "Saving cleaned dataframes: combined_datasets, licenses_df and accidents_df"
   ]
  },
  {
   "cell_type": "code",
   "execution_count": 39,
   "metadata": {},
   "outputs": [],
   "source": [
    "combined_datasets.to_csv('../data/combined_datasets.csv')"
   ]
  },
  {
   "cell_type": "code",
   "execution_count": 40,
   "metadata": {},
   "outputs": [],
   "source": [
    "licenses_df.to_csv('../data/licenses_df.csv') "
   ]
  },
  {
   "cell_type": "code",
   "execution_count": 41,
   "metadata": {},
   "outputs": [],
   "source": [
    "accidents_df.to_csv('../data/accidents_df.csv')"
   ]
  },
  {
   "cell_type": "markdown",
   "metadata": {},
   "source": [
    "## Exploratory Data Analysis\n",
    "\n",
    "\n",
    "### Summary Statistics\n",
    "Transpose the output of pandas `describe` method to create a quick overview of each numeric feature."
   ]
  },
  {
   "cell_type": "code",
   "execution_count": 42,
   "metadata": {
    "scrolled": true
   },
   "outputs": [
    {
     "data": {
      "text/html": [
       "<div>\n",
       "<style scoped>\n",
       "    .dataframe tbody tr th:only-of-type {\n",
       "        vertical-align: middle;\n",
       "    }\n",
       "\n",
       "    .dataframe tbody tr th {\n",
       "        vertical-align: top;\n",
       "    }\n",
       "\n",
       "    .dataframe thead th {\n",
       "        text-align: right;\n",
       "    }\n",
       "</style>\n",
       "<table border=\"1\" class=\"dataframe\">\n",
       "  <thead>\n",
       "    <tr style=\"text-align: right;\">\n",
       "      <th></th>\n",
       "      <th>licese_year</th>\n",
       "      <th>license_count</th>\n",
       "      <th>x_point</th>\n",
       "      <th>y_point</th>\n",
       "      <th>accident_year</th>\n",
       "      <th>accident_count</th>\n",
       "    </tr>\n",
       "  </thead>\n",
       "  <tbody>\n",
       "    <tr>\n",
       "      <th>count</th>\n",
       "      <td>1950.000000</td>\n",
       "      <td>1950.000000</td>\n",
       "      <td>1950.000000</td>\n",
       "      <td>1950.000000</td>\n",
       "      <td>1950.000000</td>\n",
       "      <td>1950.000000</td>\n",
       "    </tr>\n",
       "    <tr>\n",
       "      <th>mean</th>\n",
       "      <td>2005.000000</td>\n",
       "      <td>28915.347692</td>\n",
       "      <td>23.810447</td>\n",
       "      <td>42.602789</td>\n",
       "      <td>2016.500000</td>\n",
       "      <td>13868.038462</td>\n",
       "    </tr>\n",
       "    <tr>\n",
       "      <th>std</th>\n",
       "      <td>7.212952</td>\n",
       "      <td>47358.194902</td>\n",
       "      <td>4.192599</td>\n",
       "      <td>3.250019</td>\n",
       "      <td>0.500128</td>\n",
       "      <td>31520.999482</td>\n",
       "    </tr>\n",
       "    <tr>\n",
       "      <th>min</th>\n",
       "      <td>1993.000000</td>\n",
       "      <td>915.000000</td>\n",
       "      <td>17.207231</td>\n",
       "      <td>37.259858</td>\n",
       "      <td>2016.000000</td>\n",
       "      <td>112.000000</td>\n",
       "    </tr>\n",
       "    <tr>\n",
       "      <th>25%</th>\n",
       "      <td>1999.000000</td>\n",
       "      <td>4846.000000</td>\n",
       "      <td>20.148406</td>\n",
       "      <td>41.263690</td>\n",
       "      <td>2016.000000</td>\n",
       "      <td>706.000000</td>\n",
       "    </tr>\n",
       "    <tr>\n",
       "      <th>50%</th>\n",
       "      <td>2005.000000</td>\n",
       "      <td>10267.000000</td>\n",
       "      <td>23.288331</td>\n",
       "      <td>41.817119</td>\n",
       "      <td>2016.500000</td>\n",
       "      <td>1682.500000</td>\n",
       "    </tr>\n",
       "    <tr>\n",
       "      <th>75%</th>\n",
       "      <td>2011.000000</td>\n",
       "      <td>25423.000000</td>\n",
       "      <td>27.400846</td>\n",
       "      <td>43.343000</td>\n",
       "      <td>2017.000000</td>\n",
       "      <td>10623.000000</td>\n",
       "    </tr>\n",
       "    <tr>\n",
       "      <th>max</th>\n",
       "      <td>2017.000000</td>\n",
       "      <td>495307.000000</td>\n",
       "      <td>30.197075</td>\n",
       "      <td>50.147830</td>\n",
       "      <td>2017.000000</td>\n",
       "      <td>145541.000000</td>\n",
       "    </tr>\n",
       "  </tbody>\n",
       "</table>\n",
       "</div>"
      ],
      "text/plain": [
       "       licese_year  license_count      x_point      y_point  accident_year  \\\n",
       "count  1950.000000    1950.000000  1950.000000  1950.000000    1950.000000   \n",
       "mean   2005.000000   28915.347692    23.810447    42.602789    2016.500000   \n",
       "std       7.212952   47358.194902     4.192599     3.250019       0.500128   \n",
       "min    1993.000000     915.000000    17.207231    37.259858    2016.000000   \n",
       "25%    1999.000000    4846.000000    20.148406    41.263690    2016.000000   \n",
       "50%    2005.000000   10267.000000    23.288331    41.817119    2016.500000   \n",
       "75%    2011.000000   25423.000000    27.400846    43.343000    2017.000000   \n",
       "max    2017.000000  495307.000000    30.197075    50.147830    2017.000000   \n",
       "\n",
       "       accident_count  \n",
       "count     1950.000000  \n",
       "mean     13868.038462  \n",
       "std      31520.999482  \n",
       "min        112.000000  \n",
       "25%        706.000000  \n",
       "50%       1682.500000  \n",
       "75%      10623.000000  \n",
       "max     145541.000000  "
      ]
     },
     "execution_count": 42,
     "metadata": {},
     "output_type": "execute_result"
    }
   ],
   "source": [
    "combined_datasets.describe()"
   ]
  },
  {
   "cell_type": "markdown",
   "metadata": {},
   "source": [
    "#### Manually calculate standard deviation\n",
    "\n",
    "$$\\sigma = \\sqrt{\\frac{1}{n}\\sum_{i=1}^n(x_i - \\mu)^2}$$\n",
    "\n",
    "- Write a function to calculate standard deviation using the formula above"
   ]
  },
  {
   "cell_type": "code",
   "execution_count": 43,
   "metadata": {},
   "outputs": [],
   "source": [
    "# importing libraries\n",
    "#=================\n",
    "import math\n",
    "import sys\n",
    "#=================\n",
    "# defining standard dev function as stdev_cal\n",
    "def stdev_cal(data):\n",
    "    n = len(data)\n",
    "\n",
    "    if n <= 1:\n",
    "        return 0.0\n",
    "\n",
    "    mean, sd = mean_cal(data), 0.0\n",
    "\n",
    "    # calculating standard dev\n",
    "    for el in data:\n",
    "        sd += (int(el) - mean)**2\n",
    "    sd = math.sqrt(sd / int(n-1))\n",
    "\n",
    "    return sd\n",
    "#================================\n",
    "# defining function to calculate mean as mean_cal\n",
    "def mean_cal (ls):\n",
    "    n, mean = len(ls), 0.0\n",
    "\n",
    "    if n <= 1:\n",
    "        return ls[0]\n",
    "\n",
    "    # calculating mean\n",
    "    for el in ls:\n",
    "        mean = mean + int(el)\n",
    "    mean = mean / int(n)\n",
    "\n",
    "    return mean"
   ]
  },
  {
   "cell_type": "code",
   "execution_count": 44,
   "metadata": {},
   "outputs": [
    {
     "data": {
      "text/plain": [
       "47358.194901554685"
      ]
     },
     "execution_count": 44,
     "metadata": {},
     "output_type": "execute_result"
    }
   ],
   "source": [
    "# testing function\n",
    "stdev_cal(combined_datasets['license_count'])"
   ]
  },
  {
   "cell_type": "code",
   "execution_count": 45,
   "metadata": {},
   "outputs": [
    {
     "data": {
      "text/plain": [
       "31520.99948248163"
      ]
     },
     "execution_count": 45,
     "metadata": {},
     "output_type": "execute_result"
    }
   ],
   "source": [
    "# testing function\n",
    "stdev_cal(combined_datasets['accident_count'])"
   ]
  },
  {
   "cell_type": "markdown",
   "metadata": {},
   "source": [
    "- Use a **dictionary comprehension** to apply your standard deviation function to each numeric column in the dataframe.  **No loops**  \n",
    "- Assign the output to variable `sd` as a dictionary where: \n",
    "    - Each column name is now a key \n",
    "    - That standard deviation of the column is the value \n",
    "     \n",
    "*Example Output :* `{'Driving_Licenses_x': 120, 'Traffic_Accidents_x': 120, ...}`"
   ]
  },
  {
   "cell_type": "code",
   "execution_count": 46,
   "metadata": {},
   "outputs": [
    {
     "data": {
      "text/html": [
       "<div>\n",
       "<style scoped>\n",
       "    .dataframe tbody tr th:only-of-type {\n",
       "        vertical-align: middle;\n",
       "    }\n",
       "\n",
       "    .dataframe tbody tr th {\n",
       "        vertical-align: top;\n",
       "    }\n",
       "\n",
       "    .dataframe thead th {\n",
       "        text-align: right;\n",
       "    }\n",
       "</style>\n",
       "<table border=\"1\" class=\"dataframe\">\n",
       "  <thead>\n",
       "    <tr style=\"text-align: right;\">\n",
       "      <th></th>\n",
       "      <th>licese_year</th>\n",
       "      <th>license_count</th>\n",
       "      <th>x_point</th>\n",
       "      <th>y_point</th>\n",
       "      <th>accident_year</th>\n",
       "      <th>accident_count</th>\n",
       "    </tr>\n",
       "  </thead>\n",
       "  <tbody>\n",
       "    <tr>\n",
       "      <th>0</th>\n",
       "      <td>2012</td>\n",
       "      <td>143954</td>\n",
       "      <td>21.628963</td>\n",
       "      <td>41.26369</td>\n",
       "      <td>2016</td>\n",
       "      <td>12383</td>\n",
       "    </tr>\n",
       "    <tr>\n",
       "      <th>1</th>\n",
       "      <td>2012</td>\n",
       "      <td>143954</td>\n",
       "      <td>21.628963</td>\n",
       "      <td>41.26369</td>\n",
       "      <td>2016</td>\n",
       "      <td>134838</td>\n",
       "    </tr>\n",
       "    <tr>\n",
       "      <th>2</th>\n",
       "      <td>2012</td>\n",
       "      <td>143954</td>\n",
       "      <td>21.628963</td>\n",
       "      <td>41.26369</td>\n",
       "      <td>2017</td>\n",
       "      <td>10623</td>\n",
       "    </tr>\n",
       "    <tr>\n",
       "      <th>3</th>\n",
       "      <td>2012</td>\n",
       "      <td>143954</td>\n",
       "      <td>21.628963</td>\n",
       "      <td>41.26369</td>\n",
       "      <td>2017</td>\n",
       "      <td>1641</td>\n",
       "    </tr>\n",
       "    <tr>\n",
       "      <th>4</th>\n",
       "      <td>2012</td>\n",
       "      <td>143954</td>\n",
       "      <td>21.628963</td>\n",
       "      <td>41.26369</td>\n",
       "      <td>2016</td>\n",
       "      <td>2243</td>\n",
       "    </tr>\n",
       "  </tbody>\n",
       "</table>\n",
       "</div>"
      ],
      "text/plain": [
       "   licese_year  license_count    x_point   y_point  accident_year  \\\n",
       "0         2012         143954  21.628963  41.26369           2016   \n",
       "1         2012         143954  21.628963  41.26369           2016   \n",
       "2         2012         143954  21.628963  41.26369           2017   \n",
       "3         2012         143954  21.628963  41.26369           2017   \n",
       "4         2012         143954  21.628963  41.26369           2016   \n",
       "\n",
       "   accident_count  \n",
       "0           12383  \n",
       "1          134838  \n",
       "2           10623  \n",
       "3            1641  \n",
       "4            2243  "
      ]
     },
     "execution_count": 46,
     "metadata": {},
     "output_type": "execute_result"
    }
   ],
   "source": [
    "# creating a list and numerical columns in combined_datasets and assigning variable\n",
    "numerical_df =combined_datasets[['licese_year', 'license_count', 'x_point', 'y_point','accident_year','accident_count']]\n",
    "numerical_df.head()"
   ]
  },
  {
   "cell_type": "code",
   "execution_count": 47,
   "metadata": {},
   "outputs": [
    {
     "data": {
      "text/plain": [
       "{'licese_year': 7.212952263040209,\n",
       " 'license_count': 47358.194901554685,\n",
       " 'x_point': 4.068521518702693,\n",
       " 'y_point': 3.246220641735414,\n",
       " 'accident_year': 0.5001282544589518,\n",
       " 'accident_count': 31520.99948248163}"
      ]
     },
     "execution_count": 47,
     "metadata": {},
     "output_type": "execute_result"
    }
   ],
   "source": [
    "# iterating our created stdev function through numerical_df using dictionary method\n",
    "\n",
    "dict((col_name, std) for col_name,std in numerical_df.apply(stdev_cal).iteritems()) "
   ]
  },
  {
   "cell_type": "markdown",
   "metadata": {},
   "source": [
    "Do your manually calculated standard deviations match up with the output from pandas `describe`? What about numpy's `std` method?"
   ]
  },
  {
   "cell_type": "code",
   "execution_count": 48,
   "metadata": {},
   "outputs": [
    {
     "name": "stdout",
     "output_type": "stream",
     "text": [
      "manula standard dev: 47358.194901554685\n",
      "numpy std: 47346.0502174464\n"
     ]
    }
   ],
   "source": [
    "#  Answer: yes\n",
    "\n",
    "# testing manual function:\n",
    "print('manula standard dev:',stdev_cal(combined_datasets['license_count']))\n",
    "\n",
    "# testing via numpy:\n",
    "import numpy as np\n",
    "print('numpy std:',np.std(combined_datasets['license_count']))\n"
   ]
  },
  {
   "cell_type": "code",
   "execution_count": 49,
   "metadata": {},
   "outputs": [
    {
     "data": {
      "text/html": [
       "<div>\n",
       "<style scoped>\n",
       "    .dataframe tbody tr th:only-of-type {\n",
       "        vertical-align: middle;\n",
       "    }\n",
       "\n",
       "    .dataframe tbody tr th {\n",
       "        vertical-align: top;\n",
       "    }\n",
       "\n",
       "    .dataframe thead th {\n",
       "        text-align: right;\n",
       "    }\n",
       "</style>\n",
       "<table border=\"1\" class=\"dataframe\">\n",
       "  <thead>\n",
       "    <tr style=\"text-align: right;\">\n",
       "      <th></th>\n",
       "      <th>licese_year</th>\n",
       "      <th>license_count</th>\n",
       "      <th>x_point</th>\n",
       "      <th>y_point</th>\n",
       "      <th>accident_year</th>\n",
       "      <th>accident_count</th>\n",
       "    </tr>\n",
       "  </thead>\n",
       "  <tbody>\n",
       "    <tr>\n",
       "      <th>count</th>\n",
       "      <td>1950.000000</td>\n",
       "      <td>1950.000000</td>\n",
       "      <td>1950.000000</td>\n",
       "      <td>1950.000000</td>\n",
       "      <td>1950.000000</td>\n",
       "      <td>1950.000000</td>\n",
       "    </tr>\n",
       "    <tr>\n",
       "      <th>mean</th>\n",
       "      <td>2005.000000</td>\n",
       "      <td>28915.347692</td>\n",
       "      <td>23.810447</td>\n",
       "      <td>42.602789</td>\n",
       "      <td>2016.500000</td>\n",
       "      <td>13868.038462</td>\n",
       "    </tr>\n",
       "    <tr>\n",
       "      <th>std</th>\n",
       "      <td>7.212952</td>\n",
       "      <td>47358.194902</td>\n",
       "      <td>4.192599</td>\n",
       "      <td>3.250019</td>\n",
       "      <td>0.500128</td>\n",
       "      <td>31520.999482</td>\n",
       "    </tr>\n",
       "    <tr>\n",
       "      <th>min</th>\n",
       "      <td>1993.000000</td>\n",
       "      <td>915.000000</td>\n",
       "      <td>17.207231</td>\n",
       "      <td>37.259858</td>\n",
       "      <td>2016.000000</td>\n",
       "      <td>112.000000</td>\n",
       "    </tr>\n",
       "    <tr>\n",
       "      <th>25%</th>\n",
       "      <td>1999.000000</td>\n",
       "      <td>4846.000000</td>\n",
       "      <td>20.148406</td>\n",
       "      <td>41.263690</td>\n",
       "      <td>2016.000000</td>\n",
       "      <td>706.000000</td>\n",
       "    </tr>\n",
       "    <tr>\n",
       "      <th>50%</th>\n",
       "      <td>2005.000000</td>\n",
       "      <td>10267.000000</td>\n",
       "      <td>23.288331</td>\n",
       "      <td>41.817119</td>\n",
       "      <td>2016.500000</td>\n",
       "      <td>1682.500000</td>\n",
       "    </tr>\n",
       "    <tr>\n",
       "      <th>75%</th>\n",
       "      <td>2011.000000</td>\n",
       "      <td>25423.000000</td>\n",
       "      <td>27.400846</td>\n",
       "      <td>43.343000</td>\n",
       "      <td>2017.000000</td>\n",
       "      <td>10623.000000</td>\n",
       "    </tr>\n",
       "    <tr>\n",
       "      <th>max</th>\n",
       "      <td>2017.000000</td>\n",
       "      <td>495307.000000</td>\n",
       "      <td>30.197075</td>\n",
       "      <td>50.147830</td>\n",
       "      <td>2017.000000</td>\n",
       "      <td>145541.000000</td>\n",
       "    </tr>\n",
       "  </tbody>\n",
       "</table>\n",
       "</div>"
      ],
      "text/plain": [
       "       licese_year  license_count      x_point      y_point  accident_year  \\\n",
       "count  1950.000000    1950.000000  1950.000000  1950.000000    1950.000000   \n",
       "mean   2005.000000   28915.347692    23.810447    42.602789    2016.500000   \n",
       "std       7.212952   47358.194902     4.192599     3.250019       0.500128   \n",
       "min    1993.000000     915.000000    17.207231    37.259858    2016.000000   \n",
       "25%    1999.000000    4846.000000    20.148406    41.263690    2016.000000   \n",
       "50%    2005.000000   10267.000000    23.288331    41.817119    2016.500000   \n",
       "75%    2011.000000   25423.000000    27.400846    43.343000    2017.000000   \n",
       "max    2017.000000  495307.000000    30.197075    50.147830    2017.000000   \n",
       "\n",
       "       accident_count  \n",
       "count     1950.000000  \n",
       "mean     13868.038462  \n",
       "std      31520.999482  \n",
       "min        112.000000  \n",
       "25%        706.000000  \n",
       "50%       1682.500000  \n",
       "75%      10623.000000  \n",
       "max     145541.000000  "
      ]
     },
     "execution_count": 49,
     "metadata": {},
     "output_type": "execute_result"
    }
   ],
   "source": [
    "# confirming license count standard dev == manual and numpy standard dev output\n",
    "combined_datasets.describe()"
   ]
  },
  {
   "cell_type": "markdown",
   "metadata": {},
   "source": [
    "#### Investigate trends in the data\n",
    "Using sorting and/or masking (along with the `.head` method to not print our entire dataframe), consider the following questions:\n",
    "\n",
    "- Which regions have the highest and lowest Driving Licenses based on years (1993 - 2017)\n",
    "- Which regions have the highest and lowest mean Traffic Accidents numbers for years (2016 - 2017)\n",
    "- What are the regions that have more Driving Licenses issued in each year than the year average?\n",
    "- What are the regions that have more Traffic Accidents happened in each year than the year average?\n",
    "\n",
    "Based on what you've just observed, have you identified any regions that you're especially interested in? **Make a note of these and state *why* you think they're interesting**.\n",
    "\n",
    "**You should comment on your findings at each step in a markdown cell below your code block**. Make sure you include at least one example of sorting your dataframe by a column, and one example of using boolean filtering (i.e., masking) to select a subset of the dataframe."
   ]
  },
  {
   "cell_type": "code",
   "execution_count": 50,
   "metadata": {
    "scrolled": true
   },
   "outputs": [
    {
     "data": {
      "text/html": [
       "<div>\n",
       "<style scoped>\n",
       "    .dataframe tbody tr th:only-of-type {\n",
       "        vertical-align: middle;\n",
       "    }\n",
       "\n",
       "    .dataframe tbody tr th {\n",
       "        vertical-align: top;\n",
       "    }\n",
       "\n",
       "    .dataframe thead th {\n",
       "        text-align: right;\n",
       "    }\n",
       "</style>\n",
       "<table border=\"1\" class=\"dataframe\">\n",
       "  <thead>\n",
       "    <tr style=\"text-align: right;\">\n",
       "      <th></th>\n",
       "      <th>licese_year</th>\n",
       "      <th>region</th>\n",
       "      <th>license_count</th>\n",
       "      <th>x_point</th>\n",
       "      <th>y_point</th>\n",
       "      <th>accident_year</th>\n",
       "      <th>accident_outcome</th>\n",
       "      <th>accident_count</th>\n",
       "    </tr>\n",
       "  </thead>\n",
       "  <tbody>\n",
       "    <tr>\n",
       "      <th>824</th>\n",
       "      <td>2015</td>\n",
       "      <td>Tabouk</td>\n",
       "      <td>915</td>\n",
       "      <td>27.901655</td>\n",
       "      <td>37.259858</td>\n",
       "      <td>2016</td>\n",
       "      <td>No. of Accidents</td>\n",
       "      <td>16031</td>\n",
       "    </tr>\n",
       "  </tbody>\n",
       "</table>\n",
       "</div>"
      ],
      "text/plain": [
       "     licese_year  region  license_count    x_point    y_point  accident_year  \\\n",
       "824         2015  Tabouk            915  27.901655  37.259858           2016   \n",
       "\n",
       "     accident_outcome  accident_count  \n",
       "824  No. of Accidents           16031  "
      ]
     },
     "execution_count": 50,
     "metadata": {},
     "output_type": "execute_result"
    }
   ],
   "source": [
    "# 1.A\n",
    "#Which regions have the highest and lowest Driving Licenses based on years (1993 - 2017)?\n",
    "\n",
    "\n",
    "# Using .sort_values() and obtaining 1st row via iloc[]\n",
    "combined_datasets.sort_values(['license_count']).iloc[[0]]\n",
    "\n",
    "#===============\n",
    "#this can also be used on license_df for cleaner output:\n",
    "#licenses_df.sort_values('license_count').iloc[[0]] "
   ]
  },
  {
   "cell_type": "code",
   "execution_count": 51,
   "metadata": {
    "scrolled": true
   },
   "outputs": [
    {
     "data": {
      "text/html": [
       "<div>\n",
       "<style scoped>\n",
       "    .dataframe tbody tr th:only-of-type {\n",
       "        vertical-align: middle;\n",
       "    }\n",
       "\n",
       "    .dataframe tbody tr th {\n",
       "        vertical-align: top;\n",
       "    }\n",
       "\n",
       "    .dataframe thead th {\n",
       "        text-align: right;\n",
       "    }\n",
       "</style>\n",
       "<table border=\"1\" class=\"dataframe\">\n",
       "  <thead>\n",
       "    <tr style=\"text-align: right;\">\n",
       "      <th></th>\n",
       "      <th>licese_year</th>\n",
       "      <th>region</th>\n",
       "      <th>license_count</th>\n",
       "      <th>x_point</th>\n",
       "      <th>y_point</th>\n",
       "      <th>accident_year</th>\n",
       "      <th>accident_outcome</th>\n",
       "      <th>accident_count</th>\n",
       "    </tr>\n",
       "  </thead>\n",
       "  <tbody>\n",
       "    <tr>\n",
       "      <th>1908</th>\n",
       "      <td>2017</td>\n",
       "      <td>Riyadh</td>\n",
       "      <td>495307</td>\n",
       "      <td>23.081434</td>\n",
       "      <td>45.585751</td>\n",
       "      <td>2017</td>\n",
       "      <td>No. of Accidents</td>\n",
       "      <td>99925</td>\n",
       "    </tr>\n",
       "  </tbody>\n",
       "</table>\n",
       "</div>"
      ],
      "text/plain": [
       "      licese_year  region  license_count    x_point    y_point  accident_year  \\\n",
       "1908         2017  Riyadh         495307  23.081434  45.585751           2017   \n",
       "\n",
       "      accident_outcome  accident_count  \n",
       "1908  No. of Accidents           99925  "
      ]
     },
     "execution_count": 51,
     "metadata": {},
     "output_type": "execute_result"
    }
   ],
   "source": [
    "# 1.B\n",
    "\n",
    "# Using .sort_values(), ascend=False and obtaining 1st row via iloc[]\n",
    "combined_datasets.sort_values(['license_count'],ascending=False).iloc[[0]]\n",
    "\n",
    "#=============\n",
    "#this can also be used on license_df for cleaner output:\n",
    "#licenses_df.sort_values(['license_count'],ascending=False).iloc[[0]]"
   ]
  },
  {
   "cell_type": "markdown",
   "metadata": {},
   "source": [
    " **Which regions have the highest and lowest Driving Licenses based on years (1993 - 2017)?**\n",
    " \n",
    " Answer:\n",
    " \n",
    " - The highest number of driving licenses was in Riyadh in 2017. license count:495307\n",
    " - The lowest number of driving licenses was in Tabouk in 2015. license count: 915"
   ]
  },
  {
   "cell_type": "code",
   "execution_count": 52,
   "metadata": {},
   "outputs": [
    {
     "data": {
      "text/html": [
       "<div>\n",
       "<style scoped>\n",
       "    .dataframe tbody tr th:only-of-type {\n",
       "        vertical-align: middle;\n",
       "    }\n",
       "\n",
       "    .dataframe tbody tr th {\n",
       "        vertical-align: top;\n",
       "    }\n",
       "\n",
       "    .dataframe thead th {\n",
       "        text-align: right;\n",
       "    }\n",
       "</style>\n",
       "<table border=\"1\" class=\"dataframe\">\n",
       "  <thead>\n",
       "    <tr style=\"text-align: right;\">\n",
       "      <th></th>\n",
       "      <th>licese_year</th>\n",
       "      <th>region</th>\n",
       "      <th>license_count</th>\n",
       "      <th>x_point</th>\n",
       "      <th>y_point</th>\n",
       "      <th>accident_year</th>\n",
       "      <th>accident_outcome</th>\n",
       "      <th>accident_count</th>\n",
       "    </tr>\n",
       "  </thead>\n",
       "  <tbody>\n",
       "    <tr>\n",
       "      <th>1077</th>\n",
       "      <td>2005</td>\n",
       "      <td>Northern Boarder</td>\n",
       "      <td>1804</td>\n",
       "      <td>30.197075</td>\n",
       "      <td>41.817119</td>\n",
       "      <td>2017</td>\n",
       "      <td>No. of Casualties - Dead</td>\n",
       "      <td>112</td>\n",
       "    </tr>\n",
       "  </tbody>\n",
       "</table>\n",
       "</div>"
      ],
      "text/plain": [
       "      licese_year            region  license_count    x_point    y_point  \\\n",
       "1077         2005  Northern Boarder           1804  30.197075  41.817119   \n",
       "\n",
       "      accident_year          accident_outcome  accident_count  \n",
       "1077           2017  No. of Casualties - Dead             112  "
      ]
     },
     "execution_count": 52,
     "metadata": {},
     "output_type": "execute_result"
    }
   ],
   "source": [
    "# 2.A \n",
    "# Which regions have the highest and lowest mean Traffic Accidents numbers for years (2016 - 2017)?\n",
    "\n",
    "# using filtering logic to access columns of interest. \n",
    "# and sorting by accident count column, ascending=false\n",
    "\n",
    "combined_datasets[(combined_datasets['accident_count']>1)\n",
    "                  &(combined_datasets['accident_year']>=2016)].sort_values('accident_count',ascending=True).head(1)       \n",
    "\n",
    "#=============\n",
    "#this can also be used on accident_df for cleaner output:\n",
    "#accidents_df[(accidents_df['accident_count']>1)&(accidents_df['accident_year']>=2016)].sort_values('accident_count',ascending=True).head(1)       "
   ]
  },
  {
   "cell_type": "code",
   "execution_count": 53,
   "metadata": {
    "scrolled": false
   },
   "outputs": [
    {
     "data": {
      "text/html": [
       "<div>\n",
       "<style scoped>\n",
       "    .dataframe tbody tr th:only-of-type {\n",
       "        vertical-align: middle;\n",
       "    }\n",
       "\n",
       "    .dataframe tbody tr th {\n",
       "        vertical-align: top;\n",
       "    }\n",
       "\n",
       "    .dataframe thead th {\n",
       "        text-align: right;\n",
       "    }\n",
       "</style>\n",
       "<table border=\"1\" class=\"dataframe\">\n",
       "  <thead>\n",
       "    <tr style=\"text-align: right;\">\n",
       "      <th></th>\n",
       "      <th>licese_year</th>\n",
       "      <th>region</th>\n",
       "      <th>license_count</th>\n",
       "      <th>x_point</th>\n",
       "      <th>y_point</th>\n",
       "      <th>accident_year</th>\n",
       "      <th>accident_outcome</th>\n",
       "      <th>accident_count</th>\n",
       "    </tr>\n",
       "  </thead>\n",
       "  <tbody>\n",
       "    <tr>\n",
       "      <th>149</th>\n",
       "      <td>2007</td>\n",
       "      <td>Makkah</td>\n",
       "      <td>91902</td>\n",
       "      <td>21.628963</td>\n",
       "      <td>41.26369</td>\n",
       "      <td>2017</td>\n",
       "      <td>No. of Accidents</td>\n",
       "      <td>145541</td>\n",
       "    </tr>\n",
       "  </tbody>\n",
       "</table>\n",
       "</div>"
      ],
      "text/plain": [
       "     licese_year  region  license_count    x_point   y_point  accident_year  \\\n",
       "149         2007  Makkah          91902  21.628963  41.26369           2017   \n",
       "\n",
       "     accident_outcome  accident_count  \n",
       "149  No. of Accidents          145541  "
      ]
     },
     "execution_count": 53,
     "metadata": {},
     "output_type": "execute_result"
    }
   ],
   "source": [
    "#2.B\n",
    "\n",
    "combined_datasets[(combined_datasets['accident_count']>1)\n",
    "                  &(combined_datasets['accident_year']>=2016)].sort_values('accident_count',ascending=False).head(1)       \n",
    "\n",
    "#=============\n",
    "#this can also be used on accident_df for cleaner output:\n",
    "#accidents_df[(accidents_df['accident_count']>1)&(accidents_df['accident_year']>=2016)].sort_values('accident_count',ascending=False).head(1)       "
   ]
  },
  {
   "cell_type": "markdown",
   "metadata": {},
   "source": [
    "**Which regions have the highest and lowest mean Traffic Accidents numbers for years (2016 - 2017)?**\n",
    "\n",
    "Answer:\n",
    "\n",
    " - The highest number of traffic accidents was in Makkah in 2017. accidents count:145541\n",
    " - The lowest number of traffic accidents was in Northern Boarder in 2017. accident count: 112"
   ]
  },
  {
   "cell_type": "code",
   "execution_count": 54,
   "metadata": {
    "scrolled": true
   },
   "outputs": [
    {
     "name": "stdout",
     "output_type": "stream",
     "text": [
      "Regions above annual average licenses count:\n",
      " ['Makkah' 'Madinah' 'Qassim' 'Eastern Region' 'Asir' 'Hail' 'Riyadh']\n"
     ]
    }
   ],
   "source": [
    "# 3. What are the regions that have more Driving Licenses issued in each year than the year average?\n",
    "\n",
    "# obtaining mean license count and assigning variable\n",
    "lice_year_ave = np.mean(combined_datasets['license_count'])\n",
    "\n",
    "# flitering license_count for elements > lice_year_ave and assigning variable\n",
    "lice_above_ave = combined_datasets[(combined_datasets['license_count']>lice_year_ave)]\n",
    "\n",
    "#obtaining unique regions\n",
    "print('Regions above annual average licenses count:\\n', lice_above_ave['region'].unique())"
   ]
  },
  {
   "cell_type": "code",
   "execution_count": 55,
   "metadata": {
    "scrolled": true
   },
   "outputs": [
    {
     "name": "stdout",
     "output_type": "stream",
     "text": [
      "Makkah            25\n",
      "Eastern Region    21\n",
      "Riyadh            17\n",
      "Qassim             6\n",
      "Asir               5\n",
      "Madinah            2\n",
      "Hail               1\n",
      "Name: region, dtype: int64\n"
     ]
    }
   ],
   "source": [
    "lice_above_ave = licenses_df[(licenses_df['license_count']>lice_year_ave)]\n",
    "print(lice_above_ave.region.value_counts())"
   ]
  },
  {
   "cell_type": "markdown",
   "metadata": {},
   "source": [
    "Side note: It appears Makkah, ER and Riyadh beat the annual average for issued licenses by a big margin. However, this is expeced given the magnitude of population per these areas"
   ]
  },
  {
   "cell_type": "code",
   "execution_count": 56,
   "metadata": {},
   "outputs": [
    {
     "name": "stdout",
     "output_type": "stream",
     "text": [
      "Regions above annual average accident count:\n",
      " ['Makkah' 'Madinah' 'Qassim' 'Eastern Region' 'Asir' 'Tabouk' 'Jazan'\n",
      " 'Riyadh']\n"
     ]
    }
   ],
   "source": [
    "# 4. What are the regions that have more Traffic Accidents happened in each year than the year average?\n",
    "\n",
    "\n",
    "# obtaining mean accident count and assigning variable\n",
    "acci_year_ave = np.mean(combined_datasets['accident_count']) \n",
    "\n",
    "# flitering accident_count for elements > acci_year_ave and assigning variable\n",
    "acci_above_ave = combined_datasets[(combined_datasets['accident_count']>acci_year_ave)]\n",
    "\n",
    "#obtaining unique regions\n",
    "print('Regions above annual average accident count:\\n', acci_above_ave['region'].unique())"
   ]
  },
  {
   "cell_type": "code",
   "execution_count": 57,
   "metadata": {
    "scrolled": true
   },
   "outputs": [
    {
     "name": "stdout",
     "output_type": "stream",
     "text": [
      "Qassim            2\n",
      "Makkah            2\n",
      "Eastern Region    2\n",
      "Jazan             2\n",
      "Asir              2\n",
      "Madinah           2\n",
      "Riyadh            2\n",
      "Tabouk            1\n",
      "Name: region, dtype: int64\n"
     ]
    }
   ],
   "source": [
    "acci_above_ave = accidents_df[(accidents_df['accident_count']>acci_year_ave)]\n",
    "print(acci_above_ave.region.value_counts())"
   ]
  },
  {
   "cell_type": "markdown",
   "metadata": {},
   "source": [
    "Side note: Makkah, ER and Riyadh (and others), exceed the annual average for number of accidents (13868 accidents) in both 2016 and 2017."
   ]
  },
  {
   "cell_type": "markdown",
   "metadata": {},
   "source": [
    "## Visualize the data\n",
    "\n",
    "There's not a magic bullet recommendation for the right number of plots to understand a given dataset, but visualizing your data is *always* a good idea. Not only does it allow you to quickly convey your findings (even if you have a non-technical audience), it will often reveal trends in your data that escaped you when you were looking only at numbers.\n",
    "\n",
    "Some recommendations on plotting:\n",
    "- Plots have titles\n",
    "- Plots have axis labels\n",
    "- Plots have appropriate tick labels\n",
    "- All text is legible in a plot\n",
    "- Plots demonstrate meaningful and valid relationships\n",
    "- Plots are interpreted to aid understanding\n",
    "\n",
    "There is such a thing as too many plots, and there are a *lot* of bad plots. You might make some! (But hopefully not with the guided prompts below)."
   ]
  },
  {
   "cell_type": "markdown",
   "metadata": {},
   "source": [
    "#### Use Seaborn's heatmap with pandas `.corr()` to visualize correlations between all numeric features\n",
    "\n",
    "Heatmaps are generally not appropriate for presentations, and should often be excluded from reports as they can be visually overwhelming. **However**, they can be extremely useful in identify relationships of potential interest (as well as identifying potential collinearity before modeling).\n",
    "\n",
    "*example*:\n",
    "```python\n",
    "sns.heatmap(df.corr())\n",
    "```\n",
    "\n",
    "Please take time to format your output, adding a title. Look through some of the additional arguments and options. (Axis labels aren't really necessary, as long as the title is informative)."
   ]
  },
  {
   "cell_type": "code",
   "execution_count": 58,
   "metadata": {},
   "outputs": [
    {
     "name": "stderr",
     "output_type": "stream",
     "text": [
      "<ipython-input-58-22c8b7dfbab6>:5: MatplotlibDeprecationWarning: Adding an axes using the same arguments as a previous axes currently reuses the earlier instance.  In a future version, a new instance will always be created and returned.  Meanwhile, this warning can be suppressed, and the future behavior ensured, by passing a unique label to each axes instance.\n",
      "  ax = plt.axes()\n"
     ]
    },
    {
     "data": {
      "image/png": "[encoded data removed]",
      "text/plain": [
       "<Figure size 720x504 with 2 Axes>"
      ]
     },
     "metadata": {
      "image/png": {
       "height": 441,
       "width": 550
      },
      "needs_background": "light"
     },
     "output_type": "display_data"
    }
   ],
   "source": [
    "plt.figure(figsize = (10,7))\n",
    "sns.heatmap(combined_datasets.corr(), annot=True,linecolor='black'\n",
    "           ,linewidths=.1,cbar=True,cmap=\"Blues\")\n",
    "sns.set(font_scale=1)\n",
    "ax = plt.axes()\n",
    "ax.set_title('licenses issued vs accident counts - Saudi Arabia')\n",
    "plt.show();\n"
   ]
  },
  {
   "cell_type": "markdown",
   "metadata": {},
   "source": [
    "#### Define a custom function to subplot histograms\n",
    "\n",
    "We should write a function that will take the names of 2+ columns and subplot histograms. While you can use pandas plotting or Seaborn here, matplotlib gives you greater control over all aspects of your plots.\n",
    "\n",
    "[Helpful Link for Plotting Multiple Figures](https://matplotlib.org/users/pyplot_tutorial.html#working-with-multiple-figures-and-axes)\n",
    "\n",
    "Here's some starter code:"
   ]
  },
  {
   "cell_type": "code",
   "execution_count": 59,
   "metadata": {},
   "outputs": [],
   "source": [
    "def subplot_histograms(dataframe, list_of_columns, list_of_titles, list_of_xlabels):\n",
    "    nrows = int(np.ceil(len(list_of_columns)/2)) \n",
    "                \n",
    "                \n",
    "    fig, ax = plt.subplots(nrows=1, ncols=3, figsize=(16,5))\n",
    "                \n",
    "                \n",
    "    ax = ax.ravel() # Ravel turns a matrix into a vector, which is easier to iterate\n",
    "    for i, column in enumerate(list_of_columns): # Gives us an index value to get into all our lists\n",
    "        ax[i].hist(dataframe[column]) \n",
    "            \n",
    "        \n",
    "        if i == 0:\n",
    "            ax[i].set_title(list_of_titles[i])\n",
    "            ax[i].set_xlabel(list_of_xlabels[i])\n",
    "        else:\n",
    "            ax[i].set_title(list_of_titles[i])\n",
    "            ax[i].set_xlabel(list_of_xlabels[i])"
   ]
  },
  {
   "cell_type": "code",
   "execution_count": 60,
   "metadata": {
    "scrolled": true
   },
   "outputs": [
    {
     "data": {
      "text/plain": [
       "Index(['licese_year', 'license_count', 'x_point', 'y_point', 'accident_year',\n",
       "       'accident_count'],\n",
       "      dtype='object')"
      ]
     },
     "execution_count": 60,
     "metadata": {},
     "output_type": "execute_result"
    }
   ],
   "source": [
    "numerical_df.columns"
   ]
  },
  {
   "cell_type": "code",
   "execution_count": 61,
   "metadata": {},
   "outputs": [],
   "source": [
    "list_of_columns = ['license_count','accident_count','licese_year'] # specifying columns to plot\n",
    "list_of_titles = ['Issued driving licenses','Traffic accidents','years'] # specifying title names for plots\n",
    "list_of_xlabels = ['Number of licenses','Number of accidents','year'] # specifying plots x lables"
   ]
  },
  {
   "cell_type": "code",
   "execution_count": 62,
   "metadata": {},
   "outputs": [
    {
     "data": {
      "image/png": "[encoded data removed]",
      "text/plain": [
       "<Figure size 1152x360 with 3 Axes>"
      ]
     },
     "metadata": {
      "image/png": {
       "height": 336,
       "width": 941
      },
      "needs_background": "light"
     },
     "output_type": "display_data"
    }
   ],
   "source": [
    "sns.set_style('whitegrid')\n",
    "%matplotlib inline\n",
    "\n",
    "subplot_histograms(numerical_df, list_of_columns, list_of_titles, list_of_xlabels)"
   ]
  },
  {
   "cell_type": "markdown",
   "metadata": {},
   "source": [
    "#### Plot and interpret histograms \n",
    "For each of the following:\n",
    "- Driving Licenses number\n",
    "- Traffic Accidents number\n",
    "\n",
    "Please plot two additional histograms that will help with your understanding of the data"
   ]
  },
  {
   "cell_type": "code",
   "execution_count": 63,
   "metadata": {
    "scrolled": false
   },
   "outputs": [
    {
     "data": {
      "image/png": "[encoded data removed]",
      "text/plain": [
       "<Figure size 360x432 with 1 Axes>"
      ]
     },
     "metadata": {
      "image/png": {
       "height": 402,
       "width": 330
      },
      "needs_background": "light"
     },
     "output_type": "display_data"
    }
   ],
   "source": [
    "# plot for frequency of traffic accidents\n",
    "sns.set_style('whitegrid')\n",
    "%matplotlib inline\n",
    "\n",
    "font = {'size':10}\n",
    "plt.rc('font', **font)\n",
    "plt.figure(figsize=(5,6))\n",
    "plt.hist(accidents_df.accident_count, bins=15,range=[10000,150000], facecolor='grey', align='mid')\n",
    "plt.xticks(rotation='vertical')\n",
    "plt.xlabel('Number of accidents')\n",
    "plt.ylabel('Frequency');"
   ]
  },
  {
   "cell_type": "markdown",
   "metadata": {},
   "source": [
    " - The histogram for number of accidents is rightly skewed. ie. the mode is higher than the mean. \n",
    " - The most frequently occurring range of accidents is approximately between 10000 - 30000 accidents. \n"
   ]
  },
  {
   "cell_type": "code",
   "execution_count": 64,
   "metadata": {},
   "outputs": [
    {
     "data": {
      "image/png": "[encoded data removed]",
      "text/plain": [
       "<Figure size 360x504 with 1 Axes>"
      ]
     },
     "metadata": {
      "image/png": {
       "height": 504,
       "width": 324
      },
      "needs_background": "light"
     },
     "output_type": "display_data"
    }
   ],
   "source": [
    "# creating histogram plot for frequency of regions across the data\n",
    "font = {'size':10}\n",
    "plt.rc('font', **font)\n",
    "plt.figure(figsize=(5,7))\n",
    "plt.hist(accidents_df.region, bins=15,facecolor='grey', align='mid')\n",
    "plt.xticks(rotation='vertical')\n",
    "plt.ylabel('Frequency')\n",
    "plt.xlabel('Regions');"
   ]
  },
  {
   "cell_type": "markdown",
   "metadata": {},
   "source": [
    "The frequency of regions in our data is uniformly distributed.\n",
    "ie. the frequency of all regions is equal "
   ]
  },
  {
   "cell_type": "code",
   "execution_count": 65,
   "metadata": {
    "scrolled": false
   },
   "outputs": [
    {
     "data": {
      "image/png": "[encoded data removed]",
      "text/plain": [
       "<Figure size 360x504 with 1 Axes>"
      ]
     },
     "metadata": {
      "image/png": {
       "height": 456,
       "width": 330
      },
      "needs_background": "light"
     },
     "output_type": "display_data"
    }
   ],
   "source": [
    "# plotting frequency of issued driving licenses\n",
    "font = {'size':10}\n",
    "plt.rc('font', **font)\n",
    "plt.figure(figsize=(5,7))\n",
    "plt.hist(licenses_df.license_count, bins=15, range=[20000,200000], facecolor='green', align='mid')\n",
    "plt.xticks(rotation='vertical')\n",
    "plt.xlabel('Dirving licenses')\n",
    "plt.ylabel('Frequency');"
   ]
  },
  {
   "cell_type": "markdown",
   "metadata": {},
   "source": [
    "The histogram for number of issued driving licenses is rightly skewed. ie. the mode is higher than the mean.\n",
    "The most frequent amount of issued licenses is approximately between 20000 - 25000 licenses. "
   ]
  },
  {
   "cell_type": "code",
   "execution_count": 66,
   "metadata": {
    "scrolled": false
   },
   "outputs": [
    {
     "data": {
      "image/png": "[encoded data removed]",
      "text/plain": [
       "<Figure size 360x504 with 1 Axes>"
      ]
     },
     "metadata": {
      "image/png": {
       "height": 444,
       "width": 315
      },
      "needs_background": "light"
     },
     "output_type": "display_data"
    }
   ],
   "source": [
    "# plotting frequency of years for issued licenses\n",
    "font = {'size':10}\n",
    "plt.rc('font', **font)\n",
    "plt.figure(figsize=(5,7))\n",
    "plt.hist(licenses_df.licese_year, bins=30,range=[1993,2017],facecolor='green', align='mid')\n",
    "plt.xticks(rotation='vertical')\n",
    "plt.xlabel('years of issued licenses');"
   ]
  },
  {
   "cell_type": "markdown",
   "metadata": {},
   "source": [
    "The frequency of years for issued licenses in our data is uniformly distributed.\n",
    "ie. the frequency of all years is approximately equal (each year represented 13 times)"
   ]
  },
  {
   "cell_type": "markdown",
   "metadata": {},
   "source": [
    "#### Plot and interpret scatter plots\n",
    "\n",
    "For each of the following:\n",
    "- Driving Licenses vs. Traffic Accidents for 2017\n",
    "- Driving Licenses vs. Traffic Accidents for 2016\n",
    "- Driving Licenses for 2016 vs 2017\n",
    "- Traffic Accidents for 2016 vs 2017\n",
    "\n",
    "Plot the two variables against each other using matplotlib or Seaborn\n",
    "\n",
    "Your plots should show:\n",
    "- Two clearly labeled axes\n",
    "- A proper title\n",
    "- Using colors and symbols that are clear and unmistakable\n",
    "\n",
    "**Feel free to write a custom function, and subplot if you'd like.** Functions save both time and space.\n"
   ]
  },
  {
   "cell_type": "code",
   "execution_count": 67,
   "metadata": {},
   "outputs": [],
   "source": [
    "# reading joined_df for 2016 and 2017\n",
    "joined_df_2016_17 = pd.read_csv('../data/joined_df_2016_17.csv') \n",
    "joined_df_2016_17 = joined_df_2016_17.drop(['Unnamed: 0'], axis=1)"
   ]
  },
  {
   "cell_type": "code",
   "execution_count": 68,
   "metadata": {},
   "outputs": [
    {
     "data": {
      "text/plain": [
       "Index(['year', 'region', 'license_count', 'x_point_x', 'y_point_x',\n",
       "       'accident_outcome', 'accident_count', 'x_point_y', 'y_point_y'],\n",
       "      dtype='object')"
      ]
     },
     "execution_count": 68,
     "metadata": {},
     "output_type": "execute_result"
    }
   ],
   "source": [
    "joined_df_2016_17.columns"
   ]
  },
  {
   "cell_type": "code",
   "execution_count": 69,
   "metadata": {},
   "outputs": [],
   "source": [
    "# using list comprehension to select elements from joined_df_2016_17\n",
    "\n",
    "# accessing element in accident_count column that correspond to the year 2017 only. And assigning variable \n",
    "traf_acci_2017=[x for x in joined_df_2016_17.accident_count for y in joined_df_2016_17.year if y==2017]\n",
    "\n",
    "\n",
    "\n",
    "# accessing element in license_count column that correspond to the year 2017 only. And assigning variable\n",
    "driv_lice_2017=[x for x in joined_df_2016_17.license_count for y in joined_df_2016_17.year if y==2017]"
   ]
  },
  {
   "cell_type": "code",
   "execution_count": 70,
   "metadata": {
    "scrolled": false
   },
   "outputs": [
    {
     "data": {
      "image/png": "[encoded data removed]",
      "text/plain": [
       "<Figure size 1152x576 with 1 Axes>"
      ]
     },
     "metadata": {
      "image/png": {
       "height": 488,
       "width": 953
      },
      "needs_background": "light"
     },
     "output_type": "display_data"
    }
   ],
   "source": [
    "# Driving Licenses vs. Traffic Accidents for 2017\n",
    "\n",
    "fig= plt.subplots(figsize=(16,8))\n",
    "plt.scatter(traf_acci_2017, driv_lice_2017,color=\"blue\")\n",
    "plt.title('Driving Licenses vs. Traffic Accidents - 2017', fontsize = 20,color='black');\n",
    "plt.show()"
   ]
  },
  {
   "cell_type": "code",
   "execution_count": 71,
   "metadata": {},
   "outputs": [],
   "source": [
    "traf_acci_2016=[x for x in joined_df_2016_17.accident_count  for y in joined_df_2016_17.year if y==2016]\n",
    "\n",
    "driv_lice_2016=[x for x in joined_df_2016_17.license_count  for y in joined_df_2016_17.year if y==2016]"
   ]
  },
  {
   "cell_type": "code",
   "execution_count": 72,
   "metadata": {},
   "outputs": [
    {
     "data": {
      "image/png": "[encoded data removed]",
      "text/plain": [
       "<Figure size 1152x576 with 1 Axes>"
      ]
     },
     "metadata": {
      "image/png": {
       "height": 488,
       "width": 953
      },
      "needs_background": "light"
     },
     "output_type": "display_data"
    }
   ],
   "source": [
    "# Driving Licenses vs. Traffic Accidents for 2016\n",
    "\n",
    "fig= plt.subplots(figsize=(16,8))\n",
    "plt.scatter(traf_acci_2016, driv_lice_2016,color=\"green\")\n",
    "plt.title('Driving Licenses vs. Traffic Accidents - 2016', fontsize = 20,color='black');\n",
    "plt.show()"
   ]
  },
  {
   "cell_type": "code",
   "execution_count": 73,
   "metadata": {},
   "outputs": [
    {
     "data": {
      "image/png": "[encoded data removed]",
      "text/plain": [
       "<Figure size 1152x576 with 1 Axes>"
      ]
     },
     "metadata": {
      "image/png": {
       "height": 504,
       "width": 968
      },
      "needs_background": "light"
     },
     "output_type": "display_data"
    }
   ],
   "source": [
    "# Q3 Driving Licenses for 2016 vs 2017\n",
    "\n",
    "\n",
    "fig= plt.subplots(figsize=(16,8))\n",
    "plt.scatter(x = driv_lice_2017, y= driv_lice_2016,color=\"red\")\n",
    "plt.title('Driving  Licenses  for  2016  vs.  2017', fontsize = 20,color='black');\n",
    "plt.xlabel('Driving license 2017')\n",
    "plt.ylabel('Driving license 2016')\n",
    "plt.show()"
   ]
  },
  {
   "cell_type": "code",
   "execution_count": 74,
   "metadata": {},
   "outputs": [
    {
     "data": {
      "image/png": "[encoded data removed]",
      "text/plain": [
       "<Figure size 1152x576 with 1 Axes>"
      ]
     },
     "metadata": {
      "image/png": {
       "height": 504,
       "width": 968
      },
      "needs_background": "light"
     },
     "output_type": "display_data"
    }
   ],
   "source": [
    "# Traffic Accidents for 2016 vs 2017\n",
    "\n",
    "fig= plt.subplots(figsize=(16,8))\n",
    "plt.scatter(x = traf_acci_2016, y= traf_acci_2017,color=\"black\")\n",
    "plt.title('Traffic  Accidents  for  2016  vs. 2017', fontsize = 20,color='black');\n",
    "plt.xlabel('Driving license 2017')\n",
    "plt.ylabel('Driving license 2016')\n",
    "plt.show()"
   ]
  },
  {
   "cell_type": "markdown",
   "metadata": {},
   "source": [
    "#### Plot and interpret boxplots\n",
    "\n",
    "For each numeric variable in the dataframe create a boxplot using Seaborn. Boxplots demonstrate central tendency and spread in variables. In a certain sense, these are somewhat redundant with histograms, but you may be better able to identify clear outliers or differences in IQR, etc.\n",
    "\n",
    "Multiple values can be plotted to a single boxplot as long as they are of the same relative scale (meaning they have similar min/max values).\n",
    "\n",
    "Each boxplot should:\n",
    "- Only include variables of a similar scale\n",
    "- Have clear labels for each variable\n",
    "- Have appropriate titles and labels"
   ]
  },
  {
   "cell_type": "code",
   "execution_count": 75,
   "metadata": {},
   "outputs": [],
   "source": [
    "# using a function to standardize varibles so that they are of the same scale\n",
    "def var_standardized(var):\n",
    "    var_stand = (var-var.mean())/var.std()\n",
    "    return var_stand"
   ]
  },
  {
   "cell_type": "code",
   "execution_count": 76,
   "metadata": {},
   "outputs": [],
   "source": [
    "numerical= var_standardized(numerical_df)"
   ]
  },
  {
   "cell_type": "code",
   "execution_count": 77,
   "metadata": {
    "scrolled": false
   },
   "outputs": [
    {
     "data": {
      "image/png": "[encoded data removed]",
      "text/plain": [
       "<Figure size 1152x720 with 1 Axes>"
      ]
     },
     "metadata": {
      "image/png": {
       "height": 577,
       "width": 929
      },
      "needs_background": "light"
     },
     "output_type": "display_data"
    }
   ],
   "source": [
    "numerical.plot(kind='box', figsize=(16,10));"
   ]
  },
  {
   "cell_type": "code",
   "execution_count": 78,
   "metadata": {},
   "outputs": [
    {
     "data": {
      "image/png": "[encoded data removed]",
      "text/plain": [
       "<Figure size 1152x720 with 1 Axes>"
      ]
     },
     "metadata": {
      "image/png": {
       "height": 577,
       "width": 922
      },
      "needs_background": "light"
     },
     "output_type": "display_data"
    }
   ],
   "source": [
    "numerical.accident_count.plot(kind='box', figsize=(16,10)); # this was separately plotted for clearer view"
   ]
  },
  {
   "cell_type": "markdown",
   "metadata": {},
   "source": [
    "#### Feel free to do additional plots below\n",
    "*(do research and choose your own chart types & variables)*\n",
    "\n",
    "Are there any additional trends or relationships you haven't explored? Was there something interesting you saw that you'd like to dive further into? It's likely that there are a few more plots you might want to generate to support your narrative and recommendations that you are building toward. **As always, make sure you're interpreting your plots as you go**."
   ]
  },
  {
   "cell_type": "code",
   "execution_count": null,
   "metadata": {},
   "outputs": [],
   "source": []
  },
  {
   "cell_type": "markdown",
   "metadata": {},
   "source": [
    "## Descriptive and Inferential Statistics"
   ]
  },
  {
   "cell_type": "markdown",
   "metadata": {},
   "source": [
    "#### Summarizing Distributions\n",
    "\n",
    "Above, we used pandas `describe` to provide quick summary statistics of our numeric columns. We also demonstrated many visual relationships.\n",
    "\n",
    "As data scientists, having a complete understanding of data is imperative prior to modeling.\n",
    "\n",
    "While we will continue to build our analytic tools, we know that measures of *central tendency*, *spread*, and *shape/skewness* provide a quick summary of distributions.\n",
    "\n",
    "For each variable in your data, summarize the underlying distributions (in words & statistics)\n",
    " - Be thorough in your verbal description of these distributions.\n",
    " - Be sure to back up these summaries with statistics."
   ]
  },
  {
   "cell_type": "code",
   "execution_count": 88,
   "metadata": {},
   "outputs": [
    {
     "data": {
      "text/html": [
       "<div>\n",
       "<style scoped>\n",
       "    .dataframe tbody tr th:only-of-type {\n",
       "        vertical-align: middle;\n",
       "    }\n",
       "\n",
       "    .dataframe tbody tr th {\n",
       "        vertical-align: top;\n",
       "    }\n",
       "\n",
       "    .dataframe thead th {\n",
       "        text-align: right;\n",
       "    }\n",
       "</style>\n",
       "<table border=\"1\" class=\"dataframe\">\n",
       "  <thead>\n",
       "    <tr style=\"text-align: right;\">\n",
       "      <th></th>\n",
       "      <th>licese_year</th>\n",
       "      <th>license_count</th>\n",
       "      <th>x_point</th>\n",
       "      <th>y_point</th>\n",
       "      <th>accident_year</th>\n",
       "      <th>accident_count</th>\n",
       "    </tr>\n",
       "  </thead>\n",
       "  <tbody>\n",
       "    <tr>\n",
       "      <th>count</th>\n",
       "      <td>1950.000000</td>\n",
       "      <td>1950.000000</td>\n",
       "      <td>1950.000000</td>\n",
       "      <td>1950.000000</td>\n",
       "      <td>1950.000000</td>\n",
       "      <td>1950.000000</td>\n",
       "    </tr>\n",
       "    <tr>\n",
       "      <th>mean</th>\n",
       "      <td>2005.000000</td>\n",
       "      <td>28915.347692</td>\n",
       "      <td>23.810447</td>\n",
       "      <td>42.602789</td>\n",
       "      <td>2016.500000</td>\n",
       "      <td>13868.038462</td>\n",
       "    </tr>\n",
       "    <tr>\n",
       "      <th>std</th>\n",
       "      <td>7.212952</td>\n",
       "      <td>47358.194902</td>\n",
       "      <td>4.192599</td>\n",
       "      <td>3.250019</td>\n",
       "      <td>0.500128</td>\n",
       "      <td>31520.999482</td>\n",
       "    </tr>\n",
       "    <tr>\n",
       "      <th>min</th>\n",
       "      <td>1993.000000</td>\n",
       "      <td>915.000000</td>\n",
       "      <td>17.207231</td>\n",
       "      <td>37.259858</td>\n",
       "      <td>2016.000000</td>\n",
       "      <td>112.000000</td>\n",
       "    </tr>\n",
       "    <tr>\n",
       "      <th>25%</th>\n",
       "      <td>1999.000000</td>\n",
       "      <td>4846.000000</td>\n",
       "      <td>20.148406</td>\n",
       "      <td>41.263690</td>\n",
       "      <td>2016.000000</td>\n",
       "      <td>706.000000</td>\n",
       "    </tr>\n",
       "    <tr>\n",
       "      <th>50%</th>\n",
       "      <td>2005.000000</td>\n",
       "      <td>10267.000000</td>\n",
       "      <td>23.288331</td>\n",
       "      <td>41.817119</td>\n",
       "      <td>2016.500000</td>\n",
       "      <td>1682.500000</td>\n",
       "    </tr>\n",
       "    <tr>\n",
       "      <th>75%</th>\n",
       "      <td>2011.000000</td>\n",
       "      <td>25423.000000</td>\n",
       "      <td>27.400846</td>\n",
       "      <td>43.343000</td>\n",
       "      <td>2017.000000</td>\n",
       "      <td>10623.000000</td>\n",
       "    </tr>\n",
       "    <tr>\n",
       "      <th>max</th>\n",
       "      <td>2017.000000</td>\n",
       "      <td>495307.000000</td>\n",
       "      <td>30.197075</td>\n",
       "      <td>50.147830</td>\n",
       "      <td>2017.000000</td>\n",
       "      <td>145541.000000</td>\n",
       "    </tr>\n",
       "  </tbody>\n",
       "</table>\n",
       "</div>"
      ],
      "text/plain": [
       "       licese_year  license_count      x_point      y_point  accident_year  \\\n",
       "count  1950.000000    1950.000000  1950.000000  1950.000000    1950.000000   \n",
       "mean   2005.000000   28915.347692    23.810447    42.602789    2016.500000   \n",
       "std       7.212952   47358.194902     4.192599     3.250019       0.500128   \n",
       "min    1993.000000     915.000000    17.207231    37.259858    2016.000000   \n",
       "25%    1999.000000    4846.000000    20.148406    41.263690    2016.000000   \n",
       "50%    2005.000000   10267.000000    23.288331    41.817119    2016.500000   \n",
       "75%    2011.000000   25423.000000    27.400846    43.343000    2017.000000   \n",
       "max    2017.000000  495307.000000    30.197075    50.147830    2017.000000   \n",
       "\n",
       "       accident_count  \n",
       "count     1950.000000  \n",
       "mean     13868.038462  \n",
       "std      31520.999482  \n",
       "min        112.000000  \n",
       "25%        706.000000  \n",
       "50%       1682.500000  \n",
       "75%      10623.000000  \n",
       "max     145541.000000  "
      ]
     },
     "execution_count": 88,
     "metadata": {},
     "output_type": "execute_result"
    }
   ],
   "source": [
    "combined_datasets.describe()"
   ]
  },
  {
   "cell_type": "markdown",
   "metadata": {},
   "source": [
    "Answers: \n",
    "\n",
    "Distributions summary\n",
    "\n",
    " - The distributions for different features of data in general do not follow normal distribution.\n",
    "\n",
    "\n",
    " - within the years 2016-2017, the most frequently occurring number of accidents was approximately between 10000 - 30000 accidents. However, this distribution is rightly skewed. That is, the mean is higher than the mode.\n",
    "\n",
    "\n",
    "\n",
    " - The frequency of regions in our data is uniformly distributed. That is, the frequency of all regions is equal (each region represented 6 times in the accidents data)\n",
    "\n",
    "\n",
    " - The distribution for number of issued driving licenses is rightly skewed. ie. the mean is higher than the mode. Acrroding to the data, between 1993 and 2017, the most frequent number of issued licenses is approximately 20000 - 25000 licenses\n",
    "\n",
    "\n",
    " - The frequency of years for issued licenses in our data is uniformly distributed. That is, the frequency of all years is approximately equal (each year represented 13 times)\n",
    "\n",
    "\n",
    "\n",
    "\n",
    "\n",
    "\n"
   ]
  },
  {
   "cell_type": "markdown",
   "metadata": {},
   "source": [
    "#### We generally assuming that data we sample from a population will be normally distributed. Do we observe this trend?"
   ]
  },
  {
   "cell_type": "markdown",
   "metadata": {},
   "source": [
    "Answer: No, distributions are generally positively skewed in our data"
   ]
  },
  {
   "cell_type": "markdown",
   "metadata": {},
   "source": [
    "Does This Assumption Hold for:\n",
    "    - Driving Licenses\n",
    "    - Traffic Accidents\n",
    "Explain your answers for each distribution and how you think this will affect estimates made from these data."
   ]
  },
  {
   "cell_type": "markdown",
   "metadata": {},
   "source": [
    "Answer: yes,\n",
    "\n",
    "\n",
    "Since our data is positively skewed, the measures of center are dispersed. In this case \n",
    "Mean  >  Median  >  Mode\n",
    "\n",
    "with such high level of skewness, interpretation of data can be misleading as statistical tests may generate inaccurate results. Hence, transformation of data via normality would be required for accurate analysis"
   ]
  },
  {
   "cell_type": "markdown",
   "metadata": {},
   "source": [
    "#### Statistical Evaluation of Distributions \n",
    "\n",
    "**If you feel it's appropriate**, using methods we discussed in class, run hypothesis tests to compare variables of interest in our dataset. "
   ]
  },
  {
   "cell_type": "code",
   "execution_count": null,
   "metadata": {},
   "outputs": [],
   "source": [
    "# Code"
   ]
  },
  {
   "cell_type": "markdown",
   "metadata": {},
   "source": [
    "## Outside Research"
   ]
  },
  {
   "cell_type": "markdown",
   "metadata": {},
   "source": [
    "Based upon your observations, choose **three** regions that demonstrate interesting trends in the number of driving licenses and traffic accidents. Spend some time doing outside research on provincial and central policies that might influence these rates, and summarize your findings below. **Feel free to go back and create new plots that highlight these states of interest**. If you bring in any outside tables or charts, make sure you are explicit about having borrowed them. If you quote any text, make sure that it renders as being quoted. (Make sure that you cite your sources -- check with you local instructor for citation preferences)."
   ]
  },
  {
   "cell_type": "markdown",
   "metadata": {},
   "source": [
    "Answer:"
   ]
  },
  {
   "cell_type": "markdown",
   "metadata": {},
   "source": [
    "## Conclusions and Recommendations"
   ]
  },
  {
   "cell_type": "markdown",
   "metadata": {},
   "source": [
    "- Based on your exploration of the data, what are you key takeaways and recommendations?\n",
    "\n"
   ]
  },
  {
   "cell_type": "markdown",
   "metadata": {},
   "source": [
    " Additional steps should be taken to pass driving license tests across the kingdom, especially in highly populated regions such as Makkah and Riyadh.\n",
    " - Effective use of speed cameras and seat belt checks should be implemented in highly populated areas to reduce speed and control safety on the roads\n",
    " - Implement traffic rules courses in junior and high schools as mandatory for both genders\n",
    " - The Ministry of Transport is highly advised to Invest in public transport facilities as this will improve road safety by reducing traffic jams. Finally, the effective use of public transport alighs will with vision 2030 in transforming the Saudi Arabia into a digital and eco-friendly way.\n",
    " \n",
    " \n",
    " \n",
    "- Are there additional data you desire that would better inform your investigations?\n",
    "     - it would be great to get some insights into number of accidents per gender in 2020 and run comparisons with with 2016 when only males were allowed to drive. \n",
    "     - it would also be great to get some insights into the coordinates x,y of speed cameras and compare accident coordinates x,y to see whether speed cameras are effective at reducing accidents. "
   ]
  }
 ],
 "metadata": {
  "anaconda-cloud": {},
  "kernelspec": {
   "display_name": "Python 3",
   "language": "python",
   "name": "python3"
  },
  "language_info": {
   "codemirror_mode": {
    "name": "ipython",
    "version": 3
   },
   "file_extension": ".py",
   "mimetype": "text/x-python",
   "name": "python",
   "nbconvert_exporter": "python",
   "pygments_lexer": "ipython3",
   "version": "3.8.5"
  }
 },
 "nbformat": 4,
 "nbformat_minor": 2
}
